{
 "cells": [
  {
   "cell_type": "markdown",
   "id": "3d361ea9",
   "metadata": {},
   "source": [
    "## Travel Insurance Prediction Data"
   ]
  },
  {
   "cell_type": "markdown",
   "id": "8ff9cf9d",
   "metadata": {},
   "source": [
    "## About Dataset"
   ]
  },
  {
   "cell_type": "markdown",
   "id": "14cfa4c3",
   "metadata": {},
   "source": [
    "#### Context\n",
    "* A Tour & Travels Company Is Offering Travel Insurance Package To Their Customers.\n",
    "* The New Insurance Package Also Includes Covid Cover.\n",
    "* The Company Requires To Know The Which Customers Would Be Interested To Buy It Based On Its Database History.\n",
    "* The Insurance Was Offered To Some Of The Customers In 2019 And The Given Data Has Been Extracted From The Performance/Sales Of The Package During That Period.\n",
    "* The Data Is Provided For Almost 2000 Of Its Previous Customers And You Are Required To Build An Intelligent Model That Can Predict If The Customer Will Be Interested To Buy The Travel Insurance Package Based On Certain Parameters Given Below.\n",
    "* Image Credits-Unsplash(free to use)\n",
    "\n",
    "#### Content\n",
    "* Age- Age Of The Customer\n",
    "* Employment Type- The Sector In Which Customer Is Employed\n",
    "* GraduateOrNot- Whether The Customer Is College Graduate Or Not\n",
    "* AnnualIncome- The Yearly Income Of The Customer In Indian Rupees[Rounded To Nearest 50 Thousand Rupees]\n",
    "* FamilyMembers- Number Of Members In Customer's Family\n",
    "* ChronicDisease- Whether The Customer Suffers From Any Major Disease Or Conditions Like Diabetes/High BP or Asthama,etc.\n",
    "* FrequentFlyer- Derived Data Based On Customer's History Of Booking Air Tickets On Atleast 4 Different Instances In The Last 2 Years[2017-2019].\n",
    "* EverTravelledAbroad- Has The Customer Ever Travelled To A Foreign Country[Not Necessarily Using The Company's Services]\n",
    "* TravelInsurance- Did The Customer Buy Travel Insurance Package During Introductory Offering Held In The Year 2019.\n",
    "\n",
    "#### Inspiration\n",
    "* The Solution Offered By You May Be Used For Customer Specific Advertising Of The Package.\n",
    "* Exploratory Data Analysis Performed On The Data Would Help Find Interesting Insights.\n",
    "* Predict Whether A Given Customer Would Like To Buy The Insurance Package, Once The Corona Lockdown Ends And Travelling Resumes.\n",
    "* Your Work Could Probably Help Save Thousands Of Rupees Of A Family."
   ]
  },
  {
   "cell_type": "markdown",
   "id": "b36edd1c",
   "metadata": {},
   "source": [
    "---"
   ]
  },
  {
   "cell_type": "markdown",
   "id": "3df1b03d",
   "metadata": {},
   "source": [
    "#### Importing Libraries"
   ]
  },
  {
   "cell_type": "code",
   "execution_count": 3,
   "id": "9f9e4d02",
   "metadata": {},
   "outputs": [],
   "source": [
    "import pandas as pd\n",
    "import numpy as np\n",
    "import matplotlib.pyplot as plt\n",
    "import seaborn as sns\n",
    "import warnings\n",
    "\n",
    "warnings.simplefilter(\"ignore\")"
   ]
  },
  {
   "cell_type": "markdown",
   "id": "c5b4b67e",
   "metadata": {},
   "source": [
    "#### Loading up the data"
   ]
  },
  {
   "cell_type": "code",
   "execution_count": 4,
   "id": "10029a0e",
   "metadata": {
    "scrolled": true
   },
   "outputs": [
    {
     "name": "stdout",
     "output_type": "stream",
     "text": [
      "<class 'pandas.core.frame.DataFrame'>\n",
      "RangeIndex: 1987 entries, 0 to 1986\n",
      "Data columns (total 10 columns):\n",
      " #   Column               Non-Null Count  Dtype \n",
      "---  ------               --------------  ----- \n",
      " 0   Unnamed: 0           1987 non-null   int64 \n",
      " 1   Age                  1987 non-null   int64 \n",
      " 2   Employment Type      1987 non-null   object\n",
      " 3   GraduateOrNot        1987 non-null   object\n",
      " 4   AnnualIncome         1987 non-null   int64 \n",
      " 5   FamilyMembers        1987 non-null   int64 \n",
      " 6   ChronicDiseases      1987 non-null   int64 \n",
      " 7   FrequentFlyer        1987 non-null   object\n",
      " 8   EverTravelledAbroad  1987 non-null   object\n",
      " 9   TravelInsurance      1987 non-null   int64 \n",
      "dtypes: int64(6), object(4)\n",
      "memory usage: 155.4+ KB\n"
     ]
    }
   ],
   "source": [
    "df = pd.read_csv(\"data/TravelInsurancePrediction.csv\")\n",
    "df.info()"
   ]
  },
  {
   "cell_type": "markdown",
   "id": "1598b508",
   "metadata": {},
   "source": [
    "Veri setimiz 1987 satırlı 10 özelliğe sahip bir yapıda. Bağımlı değişken (hedef) *TravelInsurance* sütunudur. Şimdi hedef değişkenimizin dağılım grafiğine bakalım."
   ]
  },
  {
   "cell_type": "code",
   "execution_count": 5,
   "id": "262bdbb6",
   "metadata": {
    "scrolled": true
   },
   "outputs": [
    {
     "data": {
      "image/png": "[encoded data removed]",
      "text/plain": [
       "<Figure size 432x288 with 1 Axes>"
      ]
     },
     "metadata": {
      "needs_background": "light"
     },
     "output_type": "display_data"
    }
   ],
   "source": [
    "import seaborn as sns\n",
    "#Hedef değişken dağılımı\n",
    "sns.countplot(df['TravelInsurance']);"
   ]
  },
  {
   "cell_type": "markdown",
   "id": "71ca4ea5",
   "metadata": {},
   "source": [
    "Şimdi bir veri setimiz ile iş sürecini değerlendirelim. Müşterilerin eğitim düzeyi veri analizi açısından önemli bir metrik fakat yeni bir seyehat sigortası açısından ML için gerekli olmadığını düşünüyorum. Ayrıca *Unnamed: 0* sütunuda bizim için anlamlı bir veri değil. Dolayısıyla bu iki sütunu veri setinden çıkarıyoruz."
   ]
  },
  {
   "cell_type": "code",
   "execution_count": 6,
   "id": "bc32ef45",
   "metadata": {},
   "outputs": [],
   "source": [
    "df.drop([\"Unnamed: 0\", \"GraduateOrNot\"], axis=1, inplace=True)  # Veri setindeki bazı sütunları bırakıyoruz\n",
    "                                                                # GraduateOrNot, sağlık sigortası yaparken kişilerin eğitim düzeyi önemli olmamalı\n",
    "                                                                # Unnamed: 0, bir diğer anlamsız veri"
   ]
  },
  {
   "cell_type": "code",
   "execution_count": 7,
   "id": "04d988df",
   "metadata": {},
   "outputs": [
    {
     "data": {
      "text/html": [
       "<div>\n",
       "<style scoped>\n",
       "    .dataframe tbody tr th:only-of-type {\n",
       "        vertical-align: middle;\n",
       "    }\n",
       "\n",
       "    .dataframe tbody tr th {\n",
       "        vertical-align: top;\n",
       "    }\n",
       "\n",
       "    .dataframe thead th {\n",
       "        text-align: right;\n",
       "    }\n",
       "</style>\n",
       "<table border=\"1\" class=\"dataframe\">\n",
       "  <thead>\n",
       "    <tr style=\"text-align: right;\">\n",
       "      <th></th>\n",
       "      <th>0</th>\n",
       "      <th>1</th>\n",
       "      <th>2</th>\n",
       "      <th>3</th>\n",
       "      <th>4</th>\n",
       "    </tr>\n",
       "  </thead>\n",
       "  <tbody>\n",
       "    <tr>\n",
       "      <th>Age</th>\n",
       "      <td>31</td>\n",
       "      <td>31</td>\n",
       "      <td>34</td>\n",
       "      <td>28</td>\n",
       "      <td>28</td>\n",
       "    </tr>\n",
       "    <tr>\n",
       "      <th>Employment Type</th>\n",
       "      <td>Government Sector</td>\n",
       "      <td>Private Sector/Self Employed</td>\n",
       "      <td>Private Sector/Self Employed</td>\n",
       "      <td>Private Sector/Self Employed</td>\n",
       "      <td>Private Sector/Self Employed</td>\n",
       "    </tr>\n",
       "    <tr>\n",
       "      <th>AnnualIncome</th>\n",
       "      <td>400000</td>\n",
       "      <td>1250000</td>\n",
       "      <td>500000</td>\n",
       "      <td>700000</td>\n",
       "      <td>700000</td>\n",
       "    </tr>\n",
       "    <tr>\n",
       "      <th>FamilyMembers</th>\n",
       "      <td>6</td>\n",
       "      <td>7</td>\n",
       "      <td>4</td>\n",
       "      <td>3</td>\n",
       "      <td>8</td>\n",
       "    </tr>\n",
       "    <tr>\n",
       "      <th>ChronicDiseases</th>\n",
       "      <td>1</td>\n",
       "      <td>0</td>\n",
       "      <td>1</td>\n",
       "      <td>1</td>\n",
       "      <td>1</td>\n",
       "    </tr>\n",
       "    <tr>\n",
       "      <th>FrequentFlyer</th>\n",
       "      <td>No</td>\n",
       "      <td>No</td>\n",
       "      <td>No</td>\n",
       "      <td>No</td>\n",
       "      <td>Yes</td>\n",
       "    </tr>\n",
       "    <tr>\n",
       "      <th>EverTravelledAbroad</th>\n",
       "      <td>No</td>\n",
       "      <td>No</td>\n",
       "      <td>No</td>\n",
       "      <td>No</td>\n",
       "      <td>No</td>\n",
       "    </tr>\n",
       "    <tr>\n",
       "      <th>TravelInsurance</th>\n",
       "      <td>0</td>\n",
       "      <td>0</td>\n",
       "      <td>1</td>\n",
       "      <td>0</td>\n",
       "      <td>0</td>\n",
       "    </tr>\n",
       "  </tbody>\n",
       "</table>\n",
       "</div>"
      ],
      "text/plain": [
       "                                     0                             1  \\\n",
       "Age                                 31                            31   \n",
       "Employment Type      Government Sector  Private Sector/Self Employed   \n",
       "AnnualIncome                    400000                       1250000   \n",
       "FamilyMembers                        6                             7   \n",
       "ChronicDiseases                      1                             0   \n",
       "FrequentFlyer                       No                            No   \n",
       "EverTravelledAbroad                 No                            No   \n",
       "TravelInsurance                      0                             0   \n",
       "\n",
       "                                                2  \\\n",
       "Age                                            34   \n",
       "Employment Type      Private Sector/Self Employed   \n",
       "AnnualIncome                               500000   \n",
       "FamilyMembers                                   4   \n",
       "ChronicDiseases                                 1   \n",
       "FrequentFlyer                                  No   \n",
       "EverTravelledAbroad                            No   \n",
       "TravelInsurance                                 1   \n",
       "\n",
       "                                                3  \\\n",
       "Age                                            28   \n",
       "Employment Type      Private Sector/Self Employed   \n",
       "AnnualIncome                               700000   \n",
       "FamilyMembers                                   3   \n",
       "ChronicDiseases                                 1   \n",
       "FrequentFlyer                                  No   \n",
       "EverTravelledAbroad                            No   \n",
       "TravelInsurance                                 0   \n",
       "\n",
       "                                                4  \n",
       "Age                                            28  \n",
       "Employment Type      Private Sector/Self Employed  \n",
       "AnnualIncome                               700000  \n",
       "FamilyMembers                                   8  \n",
       "ChronicDiseases                                 1  \n",
       "FrequentFlyer                                 Yes  \n",
       "EverTravelledAbroad                            No  \n",
       "TravelInsurance                                 0  "
      ]
     },
     "execution_count": 7,
     "metadata": {},
     "output_type": "execute_result"
    }
   ],
   "source": [
    "df.head().T"
   ]
  },
  {
   "cell_type": "code",
   "execution_count": 8,
   "id": "454de43e",
   "metadata": {},
   "outputs": [
    {
     "data": {
      "text/html": [
       "<div>\n",
       "<style scoped>\n",
       "    .dataframe tbody tr th:only-of-type {\n",
       "        vertical-align: middle;\n",
       "    }\n",
       "\n",
       "    .dataframe tbody tr th {\n",
       "        vertical-align: top;\n",
       "    }\n",
       "\n",
       "    .dataframe thead th {\n",
       "        text-align: right;\n",
       "    }\n",
       "</style>\n",
       "<table border=\"1\" class=\"dataframe\">\n",
       "  <thead>\n",
       "    <tr style=\"text-align: right;\">\n",
       "      <th></th>\n",
       "      <th>Age</th>\n",
       "      <th>AnnualIncome</th>\n",
       "      <th>FamilyMembers</th>\n",
       "      <th>ChronicDiseases</th>\n",
       "      <th>TravelInsurance</th>\n",
       "    </tr>\n",
       "  </thead>\n",
       "  <tbody>\n",
       "    <tr>\n",
       "      <th>count</th>\n",
       "      <td>1987.000000</td>\n",
       "      <td>1.987000e+03</td>\n",
       "      <td>1987.000000</td>\n",
       "      <td>1987.000000</td>\n",
       "      <td>1987.000000</td>\n",
       "    </tr>\n",
       "    <tr>\n",
       "      <th>mean</th>\n",
       "      <td>29.650226</td>\n",
       "      <td>9.327630e+05</td>\n",
       "      <td>4.752894</td>\n",
       "      <td>0.277806</td>\n",
       "      <td>0.357323</td>\n",
       "    </tr>\n",
       "    <tr>\n",
       "      <th>std</th>\n",
       "      <td>2.913308</td>\n",
       "      <td>3.768557e+05</td>\n",
       "      <td>1.609650</td>\n",
       "      <td>0.448030</td>\n",
       "      <td>0.479332</td>\n",
       "    </tr>\n",
       "    <tr>\n",
       "      <th>min</th>\n",
       "      <td>25.000000</td>\n",
       "      <td>3.000000e+05</td>\n",
       "      <td>2.000000</td>\n",
       "      <td>0.000000</td>\n",
       "      <td>0.000000</td>\n",
       "    </tr>\n",
       "    <tr>\n",
       "      <th>25%</th>\n",
       "      <td>28.000000</td>\n",
       "      <td>6.000000e+05</td>\n",
       "      <td>4.000000</td>\n",
       "      <td>0.000000</td>\n",
       "      <td>0.000000</td>\n",
       "    </tr>\n",
       "    <tr>\n",
       "      <th>50%</th>\n",
       "      <td>29.000000</td>\n",
       "      <td>9.000000e+05</td>\n",
       "      <td>5.000000</td>\n",
       "      <td>0.000000</td>\n",
       "      <td>0.000000</td>\n",
       "    </tr>\n",
       "    <tr>\n",
       "      <th>75%</th>\n",
       "      <td>32.000000</td>\n",
       "      <td>1.250000e+06</td>\n",
       "      <td>6.000000</td>\n",
       "      <td>1.000000</td>\n",
       "      <td>1.000000</td>\n",
       "    </tr>\n",
       "    <tr>\n",
       "      <th>max</th>\n",
       "      <td>35.000000</td>\n",
       "      <td>1.800000e+06</td>\n",
       "      <td>9.000000</td>\n",
       "      <td>1.000000</td>\n",
       "      <td>1.000000</td>\n",
       "    </tr>\n",
       "  </tbody>\n",
       "</table>\n",
       "</div>"
      ],
      "text/plain": [
       "               Age  AnnualIncome  FamilyMembers  ChronicDiseases  \\\n",
       "count  1987.000000  1.987000e+03    1987.000000      1987.000000   \n",
       "mean     29.650226  9.327630e+05       4.752894         0.277806   \n",
       "std       2.913308  3.768557e+05       1.609650         0.448030   \n",
       "min      25.000000  3.000000e+05       2.000000         0.000000   \n",
       "25%      28.000000  6.000000e+05       4.000000         0.000000   \n",
       "50%      29.000000  9.000000e+05       5.000000         0.000000   \n",
       "75%      32.000000  1.250000e+06       6.000000         1.000000   \n",
       "max      35.000000  1.800000e+06       9.000000         1.000000   \n",
       "\n",
       "       TravelInsurance  \n",
       "count      1987.000000  \n",
       "mean          0.357323  \n",
       "std           0.479332  \n",
       "min           0.000000  \n",
       "25%           0.000000  \n",
       "50%           0.000000  \n",
       "75%           1.000000  \n",
       "max           1.000000  "
      ]
     },
     "execution_count": 8,
     "metadata": {},
     "output_type": "execute_result"
    }
   ],
   "source": [
    "df.describe()   # Veri setinin temel istatistik değerlerini kontrol edelim\n",
    "                # Verilerin istatistiksel değerlerinde bir aykırılık görünmüyor\n",
    "                "
   ]
  },
  {
   "cell_type": "markdown",
   "id": "32d892ef",
   "metadata": {},
   "source": [
    "#### Making the dataset all numerical"
   ]
  },
  {
   "cell_type": "code",
   "execution_count": 9,
   "id": "e751604c",
   "metadata": {},
   "outputs": [],
   "source": [
    "# Yes : 1 , No : 0 şeklinde bir değişim uyguluyoruz\n",
    "df['FrequentFlyer'] = df['FrequentFlyer'].map({'Yes': 1, 'No': 0})\n",
    "df['EverTravelledAbroad'] = df['EverTravelledAbroad'].map({'Yes': 1, 'No': 0})\n",
    "\n",
    "# Government Sector : 1, Private Sector/Self Employed : 0 şeklinde bir değişim uyguluyoruz\n",
    "df[\"Employment Type\"] = df[\"Employment Type\"].map({\"Government Sector\" : 1, \"Private Sector/Self Employed\" : 0})"
   ]
  },
  {
   "cell_type": "code",
   "execution_count": 10,
   "id": "a3e4a7f6",
   "metadata": {},
   "outputs": [
    {
     "data": {
      "text/html": [
       "<div>\n",
       "<style scoped>\n",
       "    .dataframe tbody tr th:only-of-type {\n",
       "        vertical-align: middle;\n",
       "    }\n",
       "\n",
       "    .dataframe tbody tr th {\n",
       "        vertical-align: top;\n",
       "    }\n",
       "\n",
       "    .dataframe thead th {\n",
       "        text-align: right;\n",
       "    }\n",
       "</style>\n",
       "<table border=\"1\" class=\"dataframe\">\n",
       "  <thead>\n",
       "    <tr style=\"text-align: right;\">\n",
       "      <th></th>\n",
       "      <th>0</th>\n",
       "      <th>1</th>\n",
       "      <th>2</th>\n",
       "      <th>3</th>\n",
       "      <th>4</th>\n",
       "    </tr>\n",
       "  </thead>\n",
       "  <tbody>\n",
       "    <tr>\n",
       "      <th>Age</th>\n",
       "      <td>31</td>\n",
       "      <td>31</td>\n",
       "      <td>34</td>\n",
       "      <td>28</td>\n",
       "      <td>28</td>\n",
       "    </tr>\n",
       "    <tr>\n",
       "      <th>Employment Type</th>\n",
       "      <td>1</td>\n",
       "      <td>0</td>\n",
       "      <td>0</td>\n",
       "      <td>0</td>\n",
       "      <td>0</td>\n",
       "    </tr>\n",
       "    <tr>\n",
       "      <th>AnnualIncome</th>\n",
       "      <td>400000</td>\n",
       "      <td>1250000</td>\n",
       "      <td>500000</td>\n",
       "      <td>700000</td>\n",
       "      <td>700000</td>\n",
       "    </tr>\n",
       "    <tr>\n",
       "      <th>FamilyMembers</th>\n",
       "      <td>6</td>\n",
       "      <td>7</td>\n",
       "      <td>4</td>\n",
       "      <td>3</td>\n",
       "      <td>8</td>\n",
       "    </tr>\n",
       "    <tr>\n",
       "      <th>ChronicDiseases</th>\n",
       "      <td>1</td>\n",
       "      <td>0</td>\n",
       "      <td>1</td>\n",
       "      <td>1</td>\n",
       "      <td>1</td>\n",
       "    </tr>\n",
       "    <tr>\n",
       "      <th>FrequentFlyer</th>\n",
       "      <td>0</td>\n",
       "      <td>0</td>\n",
       "      <td>0</td>\n",
       "      <td>0</td>\n",
       "      <td>1</td>\n",
       "    </tr>\n",
       "    <tr>\n",
       "      <th>EverTravelledAbroad</th>\n",
       "      <td>0</td>\n",
       "      <td>0</td>\n",
       "      <td>0</td>\n",
       "      <td>0</td>\n",
       "      <td>0</td>\n",
       "    </tr>\n",
       "    <tr>\n",
       "      <th>TravelInsurance</th>\n",
       "      <td>0</td>\n",
       "      <td>0</td>\n",
       "      <td>1</td>\n",
       "      <td>0</td>\n",
       "      <td>0</td>\n",
       "    </tr>\n",
       "  </tbody>\n",
       "</table>\n",
       "</div>"
      ],
      "text/plain": [
       "                          0        1       2       3       4\n",
       "Age                      31       31      34      28      28\n",
       "Employment Type           1        0       0       0       0\n",
       "AnnualIncome         400000  1250000  500000  700000  700000\n",
       "FamilyMembers             6        7       4       3       8\n",
       "ChronicDiseases           1        0       1       1       1\n",
       "FrequentFlyer             0        0       0       0       1\n",
       "EverTravelledAbroad       0        0       0       0       0\n",
       "TravelInsurance           0        0       1       0       0"
      ]
     },
     "execution_count": 10,
     "metadata": {},
     "output_type": "execute_result"
    }
   ],
   "source": [
    "# Veri setinin son haline göz atalım\n",
    "df.head().T"
   ]
  },
  {
   "cell_type": "markdown",
   "id": "8342b605",
   "metadata": {},
   "source": [
    "#### Splitting the data into training and test datasets"
   ]
  },
  {
   "cell_type": "code",
   "execution_count": 11,
   "id": "f3737f65",
   "metadata": {},
   "outputs": [],
   "source": [
    "# X data\n",
    "X = df.drop(\"TravelInsurance\", axis=1)"
   ]
  },
  {
   "cell_type": "code",
   "execution_count": 34,
   "id": "b0cc7f3b",
   "metadata": {},
   "outputs": [
    {
     "data": {
      "text/html": [
       "<div>\n",
       "<style scoped>\n",
       "    .dataframe tbody tr th:only-of-type {\n",
       "        vertical-align: middle;\n",
       "    }\n",
       "\n",
       "    .dataframe tbody tr th {\n",
       "        vertical-align: top;\n",
       "    }\n",
       "\n",
       "    .dataframe thead th {\n",
       "        text-align: right;\n",
       "    }\n",
       "</style>\n",
       "<table border=\"1\" class=\"dataframe\">\n",
       "  <thead>\n",
       "    <tr style=\"text-align: right;\">\n",
       "      <th></th>\n",
       "      <th>0</th>\n",
       "      <th>1</th>\n",
       "      <th>2</th>\n",
       "      <th>3</th>\n",
       "      <th>4</th>\n",
       "    </tr>\n",
       "  </thead>\n",
       "  <tbody>\n",
       "    <tr>\n",
       "      <th>Age</th>\n",
       "      <td>31</td>\n",
       "      <td>31</td>\n",
       "      <td>34</td>\n",
       "      <td>28</td>\n",
       "      <td>28</td>\n",
       "    </tr>\n",
       "    <tr>\n",
       "      <th>Employment Type</th>\n",
       "      <td>1</td>\n",
       "      <td>0</td>\n",
       "      <td>0</td>\n",
       "      <td>0</td>\n",
       "      <td>0</td>\n",
       "    </tr>\n",
       "    <tr>\n",
       "      <th>AnnualIncome</th>\n",
       "      <td>400000</td>\n",
       "      <td>1250000</td>\n",
       "      <td>500000</td>\n",
       "      <td>700000</td>\n",
       "      <td>700000</td>\n",
       "    </tr>\n",
       "    <tr>\n",
       "      <th>FamilyMembers</th>\n",
       "      <td>6</td>\n",
       "      <td>7</td>\n",
       "      <td>4</td>\n",
       "      <td>3</td>\n",
       "      <td>8</td>\n",
       "    </tr>\n",
       "    <tr>\n",
       "      <th>ChronicDiseases</th>\n",
       "      <td>1</td>\n",
       "      <td>0</td>\n",
       "      <td>1</td>\n",
       "      <td>1</td>\n",
       "      <td>1</td>\n",
       "    </tr>\n",
       "    <tr>\n",
       "      <th>FrequentFlyer</th>\n",
       "      <td>0</td>\n",
       "      <td>0</td>\n",
       "      <td>0</td>\n",
       "      <td>0</td>\n",
       "      <td>1</td>\n",
       "    </tr>\n",
       "    <tr>\n",
       "      <th>EverTravelledAbroad</th>\n",
       "      <td>0</td>\n",
       "      <td>0</td>\n",
       "      <td>0</td>\n",
       "      <td>0</td>\n",
       "      <td>0</td>\n",
       "    </tr>\n",
       "  </tbody>\n",
       "</table>\n",
       "</div>"
      ],
      "text/plain": [
       "                          0        1       2       3       4\n",
       "Age                      31       31      34      28      28\n",
       "Employment Type           1        0       0       0       0\n",
       "AnnualIncome         400000  1250000  500000  700000  700000\n",
       "FamilyMembers             6        7       4       3       8\n",
       "ChronicDiseases           1        0       1       1       1\n",
       "FrequentFlyer             0        0       0       0       1\n",
       "EverTravelledAbroad       0        0       0       0       0"
      ]
     },
     "execution_count": 34,
     "metadata": {},
     "output_type": "execute_result"
    }
   ],
   "source": [
    "X.head().T"
   ]
  },
  {
   "cell_type": "code",
   "execution_count": 13,
   "id": "79ae1f7a",
   "metadata": {},
   "outputs": [
    {
     "data": {
      "text/plain": [
       "0    0\n",
       "1    0\n",
       "2    1\n",
       "3    0\n",
       "4    0\n",
       "Name: TravelInsurance, dtype: int64"
      ]
     },
     "execution_count": 13,
     "metadata": {},
     "output_type": "execute_result"
    }
   ],
   "source": [
    "# y data\n",
    "y = df[\"TravelInsurance\"]\n",
    "y.head()"
   ]
  },
  {
   "cell_type": "code",
   "execution_count": 14,
   "id": "a95b5bbf",
   "metadata": {},
   "outputs": [],
   "source": [
    "# Splitting the data into X train, X test and y train, y test\n",
    "\n",
    "from sklearn.model_selection import train_test_split\n",
    "X_train, X_test, y_train, y_test = train_test_split(X,y,test_size=0.2, random_state=42)"
   ]
  },
  {
   "cell_type": "code",
   "execution_count": 15,
   "id": "08c06870",
   "metadata": {},
   "outputs": [
    {
     "data": {
      "text/plain": [
       "(1589, 398)"
      ]
     },
     "execution_count": 15,
     "metadata": {},
     "output_type": "execute_result"
    }
   ],
   "source": [
    "len(X_train), len(X_test)"
   ]
  },
  {
   "cell_type": "markdown",
   "id": "16097949",
   "metadata": {},
   "source": [
    "### Machine Learning Benchmarking"
   ]
  },
  {
   "cell_type": "code",
   "execution_count": 16,
   "id": "c1a1175f",
   "metadata": {},
   "outputs": [],
   "source": [
    "from sklearn.dummy import DummyClassifier\n",
    "from sklearn.metrics import accuracy_score, f1_score, recall_score, precision_score"
   ]
  },
  {
   "cell_type": "code",
   "execution_count": 17,
   "id": "cc2de172",
   "metadata": {},
   "outputs": [],
   "source": [
    "# Değerlendirme metrikleri fonksiyonu\n",
    "def print_binary_evaluation(y_true, y_pred):\n",
    "    results_dict = {'accuracy': accuracy_score(y_true, y_pred),\n",
    "                    'recall': recall_score(y_true, y_pred),\n",
    "                    'precision': precision_score(y_true, y_pred),\n",
    "                    'f1_score': f1_score(y_true, y_pred)}\n",
    "    return results_dict"
   ]
  },
  {
   "cell_type": "markdown",
   "id": "862f1cbd",
   "metadata": {},
   "source": [
    "#### Constant Model"
   ]
  },
  {
   "cell_type": "code",
   "execution_count": 18,
   "id": "53d89bcf",
   "metadata": {},
   "outputs": [
    {
     "data": {
      "text/plain": [
       "{'accuracy': 0.3542713567839196,\n",
       " 'recall': 1.0,\n",
       " 'precision': 0.3542713567839196,\n",
       " 'f1_score': 0.5231910946196661}"
      ]
     },
     "execution_count": 18,
     "metadata": {},
     "output_type": "execute_result"
    }
   ],
   "source": [
    "dummy_clf = DummyClassifier(strategy='constant', constant=1)\n",
    "dummy_clf.fit(X_train, y_train)\n",
    "y_pred = dummy_clf.predict(X_test)\n",
    "print_binary_evaluation(y_test, y_pred)"
   ]
  },
  {
   "cell_type": "markdown",
   "id": "ce58930e",
   "metadata": {},
   "source": [
    "recall değerinin %100 olması hiç False Negative değeri olmadığı anlamına gelir. Yani herkesten geri dönüş alındığı anlamına gelir ki bu gerçekçi bir sonuç değildir."
   ]
  },
  {
   "cell_type": "markdown",
   "id": "429f2568",
   "metadata": {},
   "source": [
    "#### Uniform Model"
   ]
  },
  {
   "cell_type": "code",
   "execution_count": 19,
   "id": "d9352451",
   "metadata": {},
   "outputs": [
    {
     "data": {
      "text/plain": [
       "{'accuracy': 0.5150753768844221,\n",
       " 'recall': 0.524822695035461,\n",
       " 'precision': 0.37,\n",
       " 'f1_score': 0.4340175953079179}"
      ]
     },
     "execution_count": 19,
     "metadata": {},
     "output_type": "execute_result"
    }
   ],
   "source": [
    "dummy_clf = DummyClassifier(strategy='uniform', random_state=42)\n",
    "dummy_clf.fit(X_train, y_train)\n",
    "y_pred = dummy_clf.predict(X_test)\n",
    "print_binary_evaluation(y_test, y_pred)"
   ]
  },
  {
   "cell_type": "markdown",
   "id": "d137736b",
   "metadata": {},
   "source": [
    "#### Stratified Strategy"
   ]
  },
  {
   "cell_type": "code",
   "execution_count": 20,
   "id": "cab7feb7",
   "metadata": {},
   "outputs": [
    {
     "data": {
      "text/plain": [
       "{'accuracy': 0.5753768844221105,\n",
       " 'recall': 0.40425531914893614,\n",
       " 'precision': 0.4014084507042254,\n",
       " 'f1_score': 0.4028268551236749}"
      ]
     },
     "execution_count": 20,
     "metadata": {},
     "output_type": "execute_result"
    }
   ],
   "source": [
    "dummy_clf = DummyClassifier(strategy='stratified', random_state=42)\n",
    "dummy_clf.fit(X_train, y_train)\n",
    "y_pred = dummy_clf.predict(X_test)\n",
    "print_binary_evaluation(y_test, y_pred)"
   ]
  },
  {
   "cell_type": "markdown",
   "id": "127478a8",
   "metadata": {},
   "source": [
    "#### Prior Strategy"
   ]
  },
  {
   "cell_type": "code",
   "execution_count": 21,
   "id": "d2e0e883",
   "metadata": {},
   "outputs": [
    {
     "data": {
      "text/plain": [
       "{'accuracy': 0.6457286432160804,\n",
       " 'recall': 0.0,\n",
       " 'precision': 0.0,\n",
       " 'f1_score': 0.0}"
      ]
     },
     "execution_count": 21,
     "metadata": {},
     "output_type": "execute_result"
    }
   ],
   "source": [
    "dummy_clf = DummyClassifier(strategy='prior', random_state=42)\n",
    "dummy_clf.fit(X_train, y_train)\n",
    "y_pred = dummy_clf.predict(X_test)\n",
    "print_binary_evaluation(y_test, y_pred)"
   ]
  },
  {
   "cell_type": "markdown",
   "id": "b37598de",
   "metadata": {},
   "source": [
    "accuracy değeri burada %64 oldu fakat precision değeri %0 olması müşteri tahminimizin olmadığı anlamına gelir."
   ]
  },
  {
   "cell_type": "markdown",
   "id": "c4df281f",
   "metadata": {},
   "source": [
    "### Training the Model"
   ]
  },
  {
   "cell_type": "markdown",
   "id": "7d17018f",
   "metadata": {},
   "source": [
    "#### Logistic Regression"
   ]
  },
  {
   "cell_type": "code",
   "execution_count": 32,
   "id": "6c9e1953",
   "metadata": {},
   "outputs": [
    {
     "data": {
      "text/plain": [
       "{'accuracy': 0.6457286432160804,\n",
       " 'recall': 0.0,\n",
       " 'precision': 0.0,\n",
       " 'f1_score': 0.0}"
      ]
     },
     "execution_count": 32,
     "metadata": {},
     "output_type": "execute_result"
    }
   ],
   "source": [
    "from sklearn.linear_model import LogisticRegression\n",
    "logit_clf = LogisticRegression()\n",
    "logit_clf.fit(X_train, y_train)\n",
    "y_pred = logit_clf.predict(X_test)\n",
    "print_binary_evaluation(y_test, y_pred)"
   ]
  },
  {
   "cell_type": "markdown",
   "id": "4b476ccb",
   "metadata": {},
   "source": [
    "#### Random Forest Classifier"
   ]
  },
  {
   "cell_type": "code",
   "execution_count": 22,
   "id": "4f58dd04",
   "metadata": {},
   "outputs": [
    {
     "data": {
      "text/plain": [
       "{'accuracy': 0.8115577889447236,\n",
       " 'recall': 0.6382978723404256,\n",
       " 'precision': 0.7894736842105263,\n",
       " 'f1_score': 0.7058823529411764}"
      ]
     },
     "execution_count": 22,
     "metadata": {},
     "output_type": "execute_result"
    }
   ],
   "source": [
    "from sklearn.ensemble import RandomForestClassifier\n",
    "rf_clf = RandomForestClassifier()\n",
    "rf_clf.fit(X_train, y_train)\n",
    "y_pred = rf_clf.predict(X_test)\n",
    "print_binary_evaluation(y_test, y_pred)"
   ]
  },
  {
   "cell_type": "markdown",
   "id": "4a92f32b",
   "metadata": {},
   "source": [
    "#### KNeighbors Classifier"
   ]
  },
  {
   "cell_type": "code",
   "execution_count": 24,
   "id": "6c83097d",
   "metadata": {},
   "outputs": [
    {
     "data": {
      "text/plain": [
       "{'accuracy': 0.821608040201005,\n",
       " 'recall': 0.5390070921985816,\n",
       " 'precision': 0.926829268292683,\n",
       " 'f1_score': 0.6816143497757848}"
      ]
     },
     "execution_count": 24,
     "metadata": {},
     "output_type": "execute_result"
    }
   ],
   "source": [
    "from sklearn.neighbors import KNeighborsClassifier\n",
    "dt_clf = KNeighborsClassifier(4)\n",
    "dt_clf.fit(X_train, y_train)\n",
    "y_pred = dt_clf.predict(X_test)\n",
    "print_binary_evaluation(y_test, y_pred)"
   ]
  },
  {
   "cell_type": "markdown",
   "id": "2f51fa80",
   "metadata": {},
   "source": [
    "#### CatBoost Classifier"
   ]
  },
  {
   "cell_type": "code",
   "execution_count": 25,
   "id": "404fd25f",
   "metadata": {},
   "outputs": [
    {
     "name": "stdout",
     "output_type": "stream",
     "text": [
      "Learning rate set to 0.5\n",
      "0:\tlearn: 0.5406686\ttotal: 163ms\tremaining: 1.46s\n",
      "1:\tlearn: 0.4887285\ttotal: 168ms\tremaining: 670ms\n",
      "2:\tlearn: 0.4661983\ttotal: 171ms\tremaining: 399ms\n",
      "3:\tlearn: 0.4502142\ttotal: 174ms\tremaining: 261ms\n",
      "4:\tlearn: 0.4441521\ttotal: 177ms\tremaining: 177ms\n",
      "5:\tlearn: 0.4361465\ttotal: 179ms\tremaining: 120ms\n",
      "6:\tlearn: 0.4304888\ttotal: 182ms\tremaining: 78ms\n",
      "7:\tlearn: 0.4246885\ttotal: 184ms\tremaining: 46.1ms\n",
      "8:\tlearn: 0.4195860\ttotal: 187ms\tremaining: 20.8ms\n",
      "9:\tlearn: 0.4150837\ttotal: 189ms\tremaining: 0us\n"
     ]
    },
    {
     "data": {
      "text/plain": [
       "{'accuracy': 0.8417085427135679,\n",
       " 'recall': 0.5673758865248227,\n",
       " 'precision': 0.975609756097561,\n",
       " 'f1_score': 0.7174887892376682}"
      ]
     },
     "execution_count": 25,
     "metadata": {},
     "output_type": "execute_result"
    }
   ],
   "source": [
    "from catboost import CatBoostClassifier\n",
    "dt_clf = CatBoostClassifier(iterations=10)\n",
    "dt_clf.fit(X_train, y_train)\n",
    "y_pred = dt_clf.predict(X_test)\n",
    "print_binary_evaluation(y_test, y_pred)"
   ]
  },
  {
   "cell_type": "markdown",
   "id": "20f68967",
   "metadata": {},
   "source": [
    "#### Decision Tree Classifier"
   ]
  },
  {
   "cell_type": "code",
   "execution_count": 27,
   "id": "9064ae4a",
   "metadata": {},
   "outputs": [
    {
     "data": {
      "text/plain": [
       "{'accuracy': 0.8090452261306532,\n",
       " 'recall': 0.6524822695035462,\n",
       " 'precision': 0.773109243697479,\n",
       " 'f1_score': 0.7076923076923078}"
      ]
     },
     "execution_count": 27,
     "metadata": {},
     "output_type": "execute_result"
    }
   ],
   "source": [
    "from sklearn.tree import DecisionTreeClassifier\n",
    "dt_clf = DecisionTreeClassifier()\n",
    "dt_clf.fit(X_train, y_train)\n",
    "y_pred = dt_clf.predict(X_test)\n",
    "print_binary_evaluation(y_test, y_pred)"
   ]
  },
  {
   "cell_type": "code",
   "execution_count": 28,
   "id": "2058f449",
   "metadata": {},
   "outputs": [
    {
     "data": {
      "text/plain": [
       "<AxesSubplot:>"
      ]
     },
     "execution_count": 28,
     "metadata": {},
     "output_type": "execute_result"
    },
    {
     "data": {
      "image/png": "[encoded data removed]",
      "text/plain": [
       "<Figure size 432x288 with 1 Axes>"
      ]
     },
     "metadata": {
      "needs_background": "light"
     },
     "output_type": "display_data"
    }
   ],
   "source": [
    "feat_importances = pd.Series(dt_clf.feature_importances_, index=X_train.columns)\n",
    "feat_importances.nlargest(5).plot(kind='barh')"
   ]
  },
  {
   "cell_type": "markdown",
   "id": "b611c97f",
   "metadata": {},
   "source": [
    "#### Gradient Boosting Classifier"
   ]
  },
  {
   "cell_type": "code",
   "execution_count": 29,
   "id": "e25e2fad",
   "metadata": {},
   "outputs": [
    {
     "data": {
      "text/plain": [
       "{'accuracy': 0.8442211055276382,\n",
       " 'recall': 0.5673758865248227,\n",
       " 'precision': 0.9876543209876543,\n",
       " 'f1_score': 0.7207207207207208}"
      ]
     },
     "execution_count": 29,
     "metadata": {},
     "output_type": "execute_result"
    }
   ],
   "source": [
    "from sklearn.ensemble import GradientBoostingClassifier\n",
    "\n",
    "dt_clf = GradientBoostingClassifier()\n",
    "dt_clf.fit(X_train, y_train)\n",
    "y_pred = dt_clf.predict(X_test)\n",
    "print_binary_evaluation(y_test, y_pred)"
   ]
  }
 ],
 "metadata": {
  "kernelspec": {
   "display_name": "Python 3",
   "language": "python",
   "name": "python3"
  },
  "language_info": {
   "codemirror_mode": {
    "name": "ipython",
    "version": 3
   },
   "file_extension": ".py",
   "mimetype": "text/x-python",
   "name": "python",
   "nbconvert_exporter": "python",
   "pygments_lexer": "ipython3",
   "version": "3.8.8"
  }
 },
 "nbformat": 4,
 "nbformat_minor": 5
}
