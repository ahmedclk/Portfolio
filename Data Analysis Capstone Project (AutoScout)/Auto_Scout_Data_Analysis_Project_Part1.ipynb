{
 "cells": [
  {
   "cell_type": "markdown",
   "id": "3a70aee3",
   "metadata": {},
   "source": [
    "# Data Understanding"
   ]
  },
  {
   "cell_type": "markdown",
   "id": "b967f6d1",
   "metadata": {},
   "source": [
    "Auto Scout data which using for this project, scraped from the on-line car trading company in 2019, contains many features of 9 different car models."
   ]
  },
  {
   "cell_type": "markdown",
   "id": "8557ae16",
   "metadata": {},
   "source": [
    "###### Understanding How to Value Your Used Car"
   ]
  },
  {
   "cell_type": "markdown",
   "id": "f853b130",
   "metadata": {},
   "source": [
    "Here is the information you will need to provide to get your car’s estimated value:\n",
    "* Make, model, and year: First, you’ll need to disclose the car’s make, model, and year. \n",
    "* Features: Certain features and equipment can make or break the value of your vehicle.\n",
    "    * 19-Inch Wheels\n",
    "    * Sport Package\n",
    "    * Navigation System\n",
    "* Mileage: If you’ve ever shopped for used cars before, you know mileage has a big impact on resale value. \n",
    "* Condition: The condition of your vehicle is another good indicator of its value.\n",
    "    * Clean \n",
    "    * Average \n",
    "    * Rough \n",
    "* Trim"
   ]
  },
  {
   "cell_type": "markdown",
   "id": "7a8c291a",
   "metadata": {},
   "source": [
    "# Data Cleaning"
   ]
  },
  {
   "cell_type": "markdown",
   "id": "5da88c59",
   "metadata": {},
   "source": [
    "### I. Import Data & Libraries"
   ]
  },
  {
   "cell_type": "markdown",
   "id": "34f550fd",
   "metadata": {},
   "source": [
    "###### Import Libraries"
   ]
  },
  {
   "cell_type": "code",
   "execution_count": 1,
   "id": "bc8212cc",
   "metadata": {},
   "outputs": [],
   "source": [
    "# Data manipulation\n",
    "import pandas as pd\n",
    "import numpy as np\n",
    "\n",
    "# More Data Preprocessing & Machine Learning\n",
    "from sklearn.model_selection import train_test_split\n",
    "from sklearn.preprocessing import MultiLabelBinarizer, OneHotEncoder, StandardScaler\n",
    "from sklearn.impute import SimpleImputer\n",
    "\n",
    "# Data Viz\n",
    "import seaborn as sns\n",
    "import matplotlib.pyplot as plt\n"
   ]
  },
  {
   "cell_type": "markdown",
   "id": "5429bd6b",
   "metadata": {},
   "source": [
    "###### Importing Data"
   ]
  },
  {
   "cell_type": "code",
   "execution_count": 2,
   "id": "32614a9f",
   "metadata": {},
   "outputs": [],
   "source": [
    "df = pd.read_json('data/scout_car.json', lines=True)"
   ]
  },
  {
   "cell_type": "code",
   "execution_count": 3,
   "id": "99bd3cb3",
   "metadata": {
    "scrolled": true
   },
   "outputs": [
    {
     "data": {
      "text/html": [
       "<div>\n",
       "<style scoped>\n",
       "    .dataframe tbody tr th:only-of-type {\n",
       "        vertical-align: middle;\n",
       "    }\n",
       "\n",
       "    .dataframe tbody tr th {\n",
       "        vertical-align: top;\n",
       "    }\n",
       "\n",
       "    .dataframe thead th {\n",
       "        text-align: right;\n",
       "    }\n",
       "</style>\n",
       "<table border=\"1\" class=\"dataframe\">\n",
       "  <thead>\n",
       "    <tr style=\"text-align: right;\">\n",
       "      <th></th>\n",
       "      <th>0</th>\n",
       "      <th>1</th>\n",
       "    </tr>\n",
       "  </thead>\n",
       "  <tbody>\n",
       "    <tr>\n",
       "      <th>url</th>\n",
       "      <td>https://www.autoscout24.com//offers/audi-a1-sp...</td>\n",
       "      <td>https://www.autoscout24.com//offers/audi-a1-1-...</td>\n",
       "    </tr>\n",
       "    <tr>\n",
       "      <th>make_model</th>\n",
       "      <td>Audi A1</td>\n",
       "      <td>Audi A1</td>\n",
       "    </tr>\n",
       "    <tr>\n",
       "      <th>short_description</th>\n",
       "      <td>Sportback 1.4 TDI S-tronic Xenon Navi Klima</td>\n",
       "      <td>1.8 TFSI sport</td>\n",
       "    </tr>\n",
       "    <tr>\n",
       "      <th>body_type</th>\n",
       "      <td>Sedans</td>\n",
       "      <td>Sedans</td>\n",
       "    </tr>\n",
       "    <tr>\n",
       "      <th>price</th>\n",
       "      <td>15770</td>\n",
       "      <td>14500</td>\n",
       "    </tr>\n",
       "    <tr>\n",
       "      <th>vat</th>\n",
       "      <td>VAT deductible</td>\n",
       "      <td>Price negotiable</td>\n",
       "    </tr>\n",
       "    <tr>\n",
       "      <th>km</th>\n",
       "      <td>56,013 km</td>\n",
       "      <td>80,000 km</td>\n",
       "    </tr>\n",
       "    <tr>\n",
       "      <th>registration</th>\n",
       "      <td>01/2016</td>\n",
       "      <td>03/2017</td>\n",
       "    </tr>\n",
       "    <tr>\n",
       "      <th>prev_owner</th>\n",
       "      <td>2 previous owners</td>\n",
       "      <td>None</td>\n",
       "    </tr>\n",
       "    <tr>\n",
       "      <th>kW</th>\n",
       "      <td>NaN</td>\n",
       "      <td>NaN</td>\n",
       "    </tr>\n",
       "    <tr>\n",
       "      <th>hp</th>\n",
       "      <td>66 kW</td>\n",
       "      <td>141 kW</td>\n",
       "    </tr>\n",
       "    <tr>\n",
       "      <th>Type</th>\n",
       "      <td>[, Used, , Diesel (Particulate Filter)]</td>\n",
       "      <td>[, Used, , Gasoline]</td>\n",
       "    </tr>\n",
       "    <tr>\n",
       "      <th>Previous Owners</th>\n",
       "      <td>\\n2\\n</td>\n",
       "      <td>NaN</td>\n",
       "    </tr>\n",
       "    <tr>\n",
       "      <th>Next Inspection</th>\n",
       "      <td>[\\n06/2021\\n, \\n99 g CO2/km (comb)\\n]</td>\n",
       "      <td>NaN</td>\n",
       "    </tr>\n",
       "    <tr>\n",
       "      <th>Inspection new</th>\n",
       "      <td>[\\nYes\\n, \\nEuro 6\\n]</td>\n",
       "      <td>NaN</td>\n",
       "    </tr>\n",
       "    <tr>\n",
       "      <th>Warranty</th>\n",
       "      <td>[\\n, \\n, \\n4 (Green)\\n]</td>\n",
       "      <td>NaN</td>\n",
       "    </tr>\n",
       "    <tr>\n",
       "      <th>Full Service</th>\n",
       "      <td>[\\n, \\n]</td>\n",
       "      <td>NaN</td>\n",
       "    </tr>\n",
       "    <tr>\n",
       "      <th>Non-smoking Vehicle</th>\n",
       "      <td>[\\n, \\n]</td>\n",
       "      <td>NaN</td>\n",
       "    </tr>\n",
       "    <tr>\n",
       "      <th>null</th>\n",
       "      <td>[]</td>\n",
       "      <td>[]</td>\n",
       "    </tr>\n",
       "    <tr>\n",
       "      <th>Make</th>\n",
       "      <td>\\nAudi\\n</td>\n",
       "      <td>\\nAudi\\n</td>\n",
       "    </tr>\n",
       "    <tr>\n",
       "      <th>Model</th>\n",
       "      <td>[\\n, A1, \\n]</td>\n",
       "      <td>[\\n, A1, \\n]</td>\n",
       "    </tr>\n",
       "    <tr>\n",
       "      <th>Offer Number</th>\n",
       "      <td>[\\nLR-062483\\n]</td>\n",
       "      <td>NaN</td>\n",
       "    </tr>\n",
       "    <tr>\n",
       "      <th>First Registration</th>\n",
       "      <td>[\\n, 2016, \\n]</td>\n",
       "      <td>[\\n, 2017, \\n]</td>\n",
       "    </tr>\n",
       "    <tr>\n",
       "      <th>Body Color</th>\n",
       "      <td>[\\n, Black, \\n]</td>\n",
       "      <td>[\\n, Red, \\n]</td>\n",
       "    </tr>\n",
       "    <tr>\n",
       "      <th>Paint Type</th>\n",
       "      <td>[\\nMetallic\\n]</td>\n",
       "      <td>NaN</td>\n",
       "    </tr>\n",
       "    <tr>\n",
       "      <th>Body Color Original</th>\n",
       "      <td>[\\nMythosschwarz\\n]</td>\n",
       "      <td>NaN</td>\n",
       "    </tr>\n",
       "    <tr>\n",
       "      <th>Upholstery</th>\n",
       "      <td>[\\nCloth, Black\\n]</td>\n",
       "      <td>[\\nCloth, Grey\\n]</td>\n",
       "    </tr>\n",
       "    <tr>\n",
       "      <th>Body</th>\n",
       "      <td>[\\n, Sedans, \\n]</td>\n",
       "      <td>[\\n, Sedans, \\n]</td>\n",
       "    </tr>\n",
       "    <tr>\n",
       "      <th>Nr. of Doors</th>\n",
       "      <td>[\\n5\\n]</td>\n",
       "      <td>[\\n3\\n]</td>\n",
       "    </tr>\n",
       "    <tr>\n",
       "      <th>Nr. of Seats</th>\n",
       "      <td>[\\n5\\n]</td>\n",
       "      <td>[\\n4\\n]</td>\n",
       "    </tr>\n",
       "    <tr>\n",
       "      <th>Model Code</th>\n",
       "      <td>[\\n0588/BDF\\n]</td>\n",
       "      <td>[\\n0588/BCY\\n]</td>\n",
       "    </tr>\n",
       "    <tr>\n",
       "      <th>Gearing Type</th>\n",
       "      <td>[\\n, Automatic, \\n]</td>\n",
       "      <td>[\\n, Automatic, \\n]</td>\n",
       "    </tr>\n",
       "    <tr>\n",
       "      <th>Displacement</th>\n",
       "      <td>[\\n1,422 cc\\n]</td>\n",
       "      <td>[\\n1,798 cc\\n]</td>\n",
       "    </tr>\n",
       "    <tr>\n",
       "      <th>Cylinders</th>\n",
       "      <td>[\\n3\\n]</td>\n",
       "      <td>[\\n4\\n]</td>\n",
       "    </tr>\n",
       "    <tr>\n",
       "      <th>Weight</th>\n",
       "      <td>[\\n1,220 kg\\n]</td>\n",
       "      <td>[\\n1,255 kg\\n]</td>\n",
       "    </tr>\n",
       "    <tr>\n",
       "      <th>Drive chain</th>\n",
       "      <td>[\\nfront\\n]</td>\n",
       "      <td>[\\nfront\\n]</td>\n",
       "    </tr>\n",
       "    <tr>\n",
       "      <th>Fuel</th>\n",
       "      <td>[\\n, Diesel (Particulate Filter), \\n]</td>\n",
       "      <td>[\\n, Gasoline, \\n]</td>\n",
       "    </tr>\n",
       "    <tr>\n",
       "      <th>Consumption</th>\n",
       "      <td>[[3.8 l/100 km (comb)], [4.3 l/100 km (city)],...</td>\n",
       "      <td>[[5.6 l/100 km (comb)], [7.1 l/100 km (city)],...</td>\n",
       "    </tr>\n",
       "    <tr>\n",
       "      <th>CO2 Emission</th>\n",
       "      <td>[\\n99 g CO2/km (comb)\\n]</td>\n",
       "      <td>[\\n129 g CO2/km (comb)\\n]</td>\n",
       "    </tr>\n",
       "    <tr>\n",
       "      <th>Emission Class</th>\n",
       "      <td>[\\nEuro 6\\n]</td>\n",
       "      <td>[\\nEuro 6\\n]</td>\n",
       "    </tr>\n",
       "    <tr>\n",
       "      <th>\\nComfort &amp; Convenience\\n</th>\n",
       "      <td>[Air conditioning, Armrest, Automatic climate ...</td>\n",
       "      <td>[Air conditioning, Automatic climate control, ...</td>\n",
       "    </tr>\n",
       "    <tr>\n",
       "      <th>\\nEntertainment &amp; Media\\n</th>\n",
       "      <td>[Bluetooth, Hands-free equipment, On-board com...</td>\n",
       "      <td>[Bluetooth, Hands-free equipment, On-board com...</td>\n",
       "    </tr>\n",
       "    <tr>\n",
       "      <th>\\nExtras\\n</th>\n",
       "      <td>[Alloy wheels, Catalytic Converter, Voice Cont...</td>\n",
       "      <td>[Alloy wheels, Sport seats, Sport suspension, ...</td>\n",
       "    </tr>\n",
       "    <tr>\n",
       "      <th>\\nSafety &amp; Security\\n</th>\n",
       "      <td>[ABS, Central door lock, Daytime running light...</td>\n",
       "      <td>[ABS, Central door lock, Central door lock wit...</td>\n",
       "    </tr>\n",
       "    <tr>\n",
       "      <th>description</th>\n",
       "      <td>[\\n, Sicherheit:,  , Deaktivierung für Beifahr...</td>\n",
       "      <td>[\\nLangstreckenfahrzeug daher die hohe Kilomet...</td>\n",
       "    </tr>\n",
       "    <tr>\n",
       "      <th>Emission Label</th>\n",
       "      <td>NaN</td>\n",
       "      <td>[\\n4 (Green)\\n]</td>\n",
       "    </tr>\n",
       "    <tr>\n",
       "      <th>Gears</th>\n",
       "      <td>NaN</td>\n",
       "      <td>[\\n7\\n]</td>\n",
       "    </tr>\n",
       "    <tr>\n",
       "      <th>Country version</th>\n",
       "      <td>NaN</td>\n",
       "      <td>NaN</td>\n",
       "    </tr>\n",
       "    <tr>\n",
       "      <th>Electricity consumption</th>\n",
       "      <td>NaN</td>\n",
       "      <td>NaN</td>\n",
       "    </tr>\n",
       "    <tr>\n",
       "      <th>Last Service Date</th>\n",
       "      <td>NaN</td>\n",
       "      <td>NaN</td>\n",
       "    </tr>\n",
       "    <tr>\n",
       "      <th>Other Fuel Types</th>\n",
       "      <td>NaN</td>\n",
       "      <td>NaN</td>\n",
       "    </tr>\n",
       "    <tr>\n",
       "      <th>Availability</th>\n",
       "      <td>NaN</td>\n",
       "      <td>NaN</td>\n",
       "    </tr>\n",
       "    <tr>\n",
       "      <th>Last Timing Belt Service Date</th>\n",
       "      <td>NaN</td>\n",
       "      <td>NaN</td>\n",
       "    </tr>\n",
       "    <tr>\n",
       "      <th>Available from</th>\n",
       "      <td>NaN</td>\n",
       "      <td>NaN</td>\n",
       "    </tr>\n",
       "  </tbody>\n",
       "</table>\n",
       "</div>"
      ],
      "text/plain": [
       "                                                                               0  \\\n",
       "url                            https://www.autoscout24.com//offers/audi-a1-sp...   \n",
       "make_model                                                               Audi A1   \n",
       "short_description                    Sportback 1.4 TDI S-tronic Xenon Navi Klima   \n",
       "body_type                                                                 Sedans   \n",
       "price                                                                      15770   \n",
       "vat                                                               VAT deductible   \n",
       "km                                                                     56,013 km   \n",
       "registration                                                             01/2016   \n",
       "prev_owner                                                     2 previous owners   \n",
       "kW                                                                           NaN   \n",
       "hp                                                                         66 kW   \n",
       "Type                                     [, Used, , Diesel (Particulate Filter)]   \n",
       "Previous Owners                                                            \\n2\\n   \n",
       "Next Inspection                            [\\n06/2021\\n, \\n99 g CO2/km (comb)\\n]   \n",
       "Inspection new                                             [\\nYes\\n, \\nEuro 6\\n]   \n",
       "Warranty                                                 [\\n, \\n, \\n4 (Green)\\n]   \n",
       "Full Service                                                            [\\n, \\n]   \n",
       "Non-smoking Vehicle                                                     [\\n, \\n]   \n",
       "null                                                                          []   \n",
       "Make                                                                    \\nAudi\\n   \n",
       "Model                                                               [\\n, A1, \\n]   \n",
       "Offer Number                                                     [\\nLR-062483\\n]   \n",
       "First Registration                                                [\\n, 2016, \\n]   \n",
       "Body Color                                                       [\\n, Black, \\n]   \n",
       "Paint Type                                                        [\\nMetallic\\n]   \n",
       "Body Color Original                                          [\\nMythosschwarz\\n]   \n",
       "Upholstery                                                    [\\nCloth, Black\\n]   \n",
       "Body                                                            [\\n, Sedans, \\n]   \n",
       "Nr. of Doors                                                             [\\n5\\n]   \n",
       "Nr. of Seats                                                             [\\n5\\n]   \n",
       "Model Code                                                        [\\n0588/BDF\\n]   \n",
       "Gearing Type                                                 [\\n, Automatic, \\n]   \n",
       "Displacement                                                      [\\n1,422 cc\\n]   \n",
       "Cylinders                                                                [\\n3\\n]   \n",
       "Weight                                                            [\\n1,220 kg\\n]   \n",
       "Drive chain                                                          [\\nfront\\n]   \n",
       "Fuel                                       [\\n, Diesel (Particulate Filter), \\n]   \n",
       "Consumption                    [[3.8 l/100 km (comb)], [4.3 l/100 km (city)],...   \n",
       "CO2 Emission                                            [\\n99 g CO2/km (comb)\\n]   \n",
       "Emission Class                                                      [\\nEuro 6\\n]   \n",
       "\\nComfort & Convenience\\n      [Air conditioning, Armrest, Automatic climate ...   \n",
       "\\nEntertainment & Media\\n      [Bluetooth, Hands-free equipment, On-board com...   \n",
       "\\nExtras\\n                     [Alloy wheels, Catalytic Converter, Voice Cont...   \n",
       "\\nSafety & Security\\n          [ABS, Central door lock, Daytime running light...   \n",
       "description                    [\\n, Sicherheit:,  , Deaktivierung für Beifahr...   \n",
       "Emission Label                                                               NaN   \n",
       "Gears                                                                        NaN   \n",
       "Country version                                                              NaN   \n",
       "Electricity consumption                                                      NaN   \n",
       "Last Service Date                                                            NaN   \n",
       "Other Fuel Types                                                             NaN   \n",
       "Availability                                                                 NaN   \n",
       "Last Timing Belt Service Date                                                NaN   \n",
       "Available from                                                               NaN   \n",
       "\n",
       "                                                                               1  \n",
       "url                            https://www.autoscout24.com//offers/audi-a1-1-...  \n",
       "make_model                                                               Audi A1  \n",
       "short_description                                                 1.8 TFSI sport  \n",
       "body_type                                                                 Sedans  \n",
       "price                                                                      14500  \n",
       "vat                                                             Price negotiable  \n",
       "km                                                                     80,000 km  \n",
       "registration                                                             03/2017  \n",
       "prev_owner                                                                  None  \n",
       "kW                                                                           NaN  \n",
       "hp                                                                        141 kW  \n",
       "Type                                                        [, Used, , Gasoline]  \n",
       "Previous Owners                                                              NaN  \n",
       "Next Inspection                                                              NaN  \n",
       "Inspection new                                                               NaN  \n",
       "Warranty                                                                     NaN  \n",
       "Full Service                                                                 NaN  \n",
       "Non-smoking Vehicle                                                          NaN  \n",
       "null                                                                          []  \n",
       "Make                                                                    \\nAudi\\n  \n",
       "Model                                                               [\\n, A1, \\n]  \n",
       "Offer Number                                                                 NaN  \n",
       "First Registration                                                [\\n, 2017, \\n]  \n",
       "Body Color                                                         [\\n, Red, \\n]  \n",
       "Paint Type                                                                   NaN  \n",
       "Body Color Original                                                          NaN  \n",
       "Upholstery                                                     [\\nCloth, Grey\\n]  \n",
       "Body                                                            [\\n, Sedans, \\n]  \n",
       "Nr. of Doors                                                             [\\n3\\n]  \n",
       "Nr. of Seats                                                             [\\n4\\n]  \n",
       "Model Code                                                        [\\n0588/BCY\\n]  \n",
       "Gearing Type                                                 [\\n, Automatic, \\n]  \n",
       "Displacement                                                      [\\n1,798 cc\\n]  \n",
       "Cylinders                                                                [\\n4\\n]  \n",
       "Weight                                                            [\\n1,255 kg\\n]  \n",
       "Drive chain                                                          [\\nfront\\n]  \n",
       "Fuel                                                          [\\n, Gasoline, \\n]  \n",
       "Consumption                    [[5.6 l/100 km (comb)], [7.1 l/100 km (city)],...  \n",
       "CO2 Emission                                           [\\n129 g CO2/km (comb)\\n]  \n",
       "Emission Class                                                      [\\nEuro 6\\n]  \n",
       "\\nComfort & Convenience\\n      [Air conditioning, Automatic climate control, ...  \n",
       "\\nEntertainment & Media\\n      [Bluetooth, Hands-free equipment, On-board com...  \n",
       "\\nExtras\\n                     [Alloy wheels, Sport seats, Sport suspension, ...  \n",
       "\\nSafety & Security\\n          [ABS, Central door lock, Central door lock wit...  \n",
       "description                    [\\nLangstreckenfahrzeug daher die hohe Kilomet...  \n",
       "Emission Label                                                   [\\n4 (Green)\\n]  \n",
       "Gears                                                                    [\\n7\\n]  \n",
       "Country version                                                              NaN  \n",
       "Electricity consumption                                                      NaN  \n",
       "Last Service Date                                                            NaN  \n",
       "Other Fuel Types                                                             NaN  \n",
       "Availability                                                                 NaN  \n",
       "Last Timing Belt Service Date                                                NaN  \n",
       "Available from                                                               NaN  "
      ]
     },
     "execution_count": 3,
     "metadata": {},
     "output_type": "execute_result"
    }
   ],
   "source": [
    "pd.options.display.max_rows = df.shape[1]\n",
    "df.head(2).T"
   ]
  },
  {
   "cell_type": "code",
   "execution_count": 4,
   "id": "82d5552b",
   "metadata": {},
   "outputs": [
    {
     "name": "stdout",
     "output_type": "stream",
     "text": [
      "['url', 'make_model', 'short_description', 'body_type', 'price', 'vat', 'km', 'registration', 'prev_owner', 'kW', 'hp', 'Type', 'Previous Owners', 'Next Inspection', 'Inspection new', 'Warranty', 'Full Service', 'Non-smoking Vehicle', 'null', 'Make', 'Model', 'Offer Number', 'First Registration', 'Body Color', 'Paint Type', 'Body Color Original', 'Upholstery', 'Body', 'Nr. of Doors', 'Nr. of Seats', 'Model Code', 'Gearing Type', 'Displacement', 'Cylinders', 'Weight', 'Drive chain', 'Fuel', 'Consumption', 'CO2 Emission', 'Emission Class', '\\nComfort & Convenience\\n', '\\nEntertainment & Media\\n', '\\nExtras\\n', '\\nSafety & Security\\n', 'description', 'Emission Label', 'Gears', 'Country version', 'Electricity consumption', 'Last Service Date', 'Other Fuel Types', 'Availability', 'Last Timing Belt Service Date', 'Available from']\n"
     ]
    }
   ],
   "source": [
    "print(df.columns.tolist())"
   ]
  },
  {
   "cell_type": "code",
   "execution_count": 5,
   "id": "89682064",
   "metadata": {},
   "outputs": [],
   "source": [
    "## Dropping columns that we're not going to use for this notebook.\n",
    "\n",
    "drop = ['url','prev_owner', 'kW', 'Previous Owners', 'Next Inspection',\n",
    "       'Inspection new', 'Full Service', 'Non-smoking Vehicle', 'Model Code',\n",
    "       'Weight', 'Drive chain', 'Emission Label', 'Country version',\n",
    "       'Electricity consumption', 'Last Service Date', 'Other Fuel Types',\n",
    "       'Availability', 'Last Timing Belt Service Date', 'Available from', 'Offer Number']"
   ]
  },
  {
   "cell_type": "code",
   "execution_count": 6,
   "id": "dd39f4a1",
   "metadata": {},
   "outputs": [],
   "source": [
    "## drop the columns above from df\n",
    "df = df.drop(drop, axis=1)"
   ]
  },
  {
   "cell_type": "markdown",
   "id": "3b1dc30d",
   "metadata": {},
   "source": [
    "### II. Exploratory Data Analysis"
   ]
  },
  {
   "cell_type": "markdown",
   "id": "a89955dc",
   "metadata": {},
   "source": [
    "##### A. Duplicate Value Check"
   ]
  },
  {
   "cell_type": "markdown",
   "id": "56aaf11b",
   "metadata": {},
   "source": [
    "We don't need/want any rows that are purely identical to one another."
   ]
  },
  {
   "cell_type": "code",
   "execution_count": 7,
   "id": "f3e83f66",
   "metadata": {},
   "outputs": [
    {
     "data": {
      "text/plain": [
       "(15919, 34)"
      ]
     },
     "execution_count": 7,
     "metadata": {},
     "output_type": "execute_result"
    }
   ],
   "source": [
    "# Before shape\n",
    "df.shape"
   ]
  },
  {
   "cell_type": "markdown",
   "id": "e0577a07",
   "metadata": {},
   "source": [
    "*drop_duplicates won't work with lists in your dataframe. However, you can drop duplicates on the dataframe cast as string and then extract the rows from original df using the index from the results.*"
   ]
  },
  {
   "cell_type": "code",
   "execution_count": 8,
   "id": "04973fa5",
   "metadata": {},
   "outputs": [],
   "source": [
    "## drop any duplicate rows\n",
    "df = df.loc[df.astype(str).drop_duplicates().index]"
   ]
  },
  {
   "cell_type": "code",
   "execution_count": 9,
   "id": "7e905748",
   "metadata": {},
   "outputs": [
    {
     "data": {
      "text/plain": [
       "(14820, 34)"
      ]
     },
     "execution_count": 9,
     "metadata": {},
     "output_type": "execute_result"
    }
   ],
   "source": [
    "# After shape\n",
    "df.shape"
   ]
  },
  {
   "cell_type": "markdown",
   "id": "783d1266",
   "metadata": {},
   "source": [
    "##### B. Separate Data Types"
   ]
  },
  {
   "cell_type": "markdown",
   "id": "f13a024b",
   "metadata": {},
   "source": [
    "Generally, there are 5-6 types of data you will run into.\n",
    "\n",
    "* Numerical\n",
    "* Categorical\n",
    "* Date/Time\n",
    "* Text\n",
    "* Image\n",
    "* Sound"
   ]
  },
  {
   "cell_type": "markdown",
   "id": "8fbbebf3",
   "metadata": {},
   "source": [
    "**Let's start with separating our data apart into Numerical and Categorical.**"
   ]
  },
  {
   "cell_type": "code",
   "execution_count": 10,
   "id": "4b6bedb6",
   "metadata": {},
   "outputs": [],
   "source": [
    "## create a dataframe of only categorical variables\n",
    "cat_df = df.select_dtypes(['object', 'bool'])\n",
    "\n",
    "## create a dataframe of only numerical variables\n",
    "num_df = df.select_dtypes(['int', 'float','int64'])"
   ]
  },
  {
   "cell_type": "markdown",
   "id": "aeeabc92",
   "metadata": {},
   "source": [
    "So now we need to account for all of the following possible data types...\n",
    "\n",
    "* Numerical (1.3, -2.345, 6,423.1)\n",
    "* Categorical\n",
    "    * Binary (True/False, 0/1, Heads/Tails)\n",
    "    * Ordinal (Low, Medium, High)\n",
    "    * Nominal (Red, Blue, Purple)\n",
    "* Date/Time"
   ]
  },
  {
   "cell_type": "markdown",
   "id": "99d8d4db",
   "metadata": {},
   "source": [
    "**Skim through the Numerical data**"
   ]
  },
  {
   "cell_type": "code",
   "execution_count": 11,
   "id": "ad56cd74",
   "metadata": {},
   "outputs": [
    {
     "data": {
      "text/html": [
       "<div>\n",
       "<style scoped>\n",
       "    .dataframe tbody tr th:only-of-type {\n",
       "        vertical-align: middle;\n",
       "    }\n",
       "\n",
       "    .dataframe tbody tr th {\n",
       "        vertical-align: top;\n",
       "    }\n",
       "\n",
       "    .dataframe thead th {\n",
       "        text-align: right;\n",
       "    }\n",
       "</style>\n",
       "<table border=\"1\" class=\"dataframe\">\n",
       "  <thead>\n",
       "    <tr style=\"text-align: right;\">\n",
       "      <th></th>\n",
       "      <th>0</th>\n",
       "      <th>1</th>\n",
       "      <th>2</th>\n",
       "      <th>3</th>\n",
       "      <th>4</th>\n",
       "    </tr>\n",
       "  </thead>\n",
       "  <tbody>\n",
       "    <tr>\n",
       "      <th>price</th>\n",
       "      <td>15770</td>\n",
       "      <td>14500</td>\n",
       "      <td>14640</td>\n",
       "      <td>14500</td>\n",
       "      <td>16790</td>\n",
       "    </tr>\n",
       "  </tbody>\n",
       "</table>\n",
       "</div>"
      ],
      "text/plain": [
       "           0      1      2      3      4\n",
       "price  15770  14500  14640  14500  16790"
      ]
     },
     "execution_count": 11,
     "metadata": {},
     "output_type": "execute_result"
    }
   ],
   "source": [
    "# Glancing at the numerical data. Missing values will be dealt with later\n",
    "num_df.head().T"
   ]
  },
  {
   "cell_type": "markdown",
   "id": "55eafe92",
   "metadata": {},
   "source": [
    "Numerical features don't look good."
   ]
  },
  {
   "cell_type": "markdown",
   "id": "5bb4e7d8",
   "metadata": {},
   "source": [
    "**Skim through the Catgorical Data**"
   ]
  },
  {
   "cell_type": "markdown",
   "id": "50c24638",
   "metadata": {},
   "source": [
    "Most (if not, all) problems will come from this subset."
   ]
  },
  {
   "cell_type": "code",
   "execution_count": 12,
   "id": "6b8e3afb",
   "metadata": {},
   "outputs": [
    {
     "data": {
      "text/html": [
       "<div>\n",
       "<style scoped>\n",
       "    .dataframe tbody tr th:only-of-type {\n",
       "        vertical-align: middle;\n",
       "    }\n",
       "\n",
       "    .dataframe tbody tr th {\n",
       "        vertical-align: top;\n",
       "    }\n",
       "\n",
       "    .dataframe thead th {\n",
       "        text-align: right;\n",
       "    }\n",
       "</style>\n",
       "<table border=\"1\" class=\"dataframe\">\n",
       "  <thead>\n",
       "    <tr style=\"text-align: right;\">\n",
       "      <th></th>\n",
       "      <th>0</th>\n",
       "      <th>1</th>\n",
       "      <th>2</th>\n",
       "      <th>3</th>\n",
       "      <th>4</th>\n",
       "    </tr>\n",
       "  </thead>\n",
       "  <tbody>\n",
       "    <tr>\n",
       "      <th>make_model</th>\n",
       "      <td>Audi A1</td>\n",
       "      <td>Audi A1</td>\n",
       "      <td>Audi A1</td>\n",
       "      <td>Audi A1</td>\n",
       "      <td>Audi A1</td>\n",
       "    </tr>\n",
       "    <tr>\n",
       "      <th>short_description</th>\n",
       "      <td>Sportback 1.4 TDI S-tronic Xenon Navi Klima</td>\n",
       "      <td>1.8 TFSI sport</td>\n",
       "      <td>Sportback 1.6 TDI S tronic Einparkhilfe plus+m...</td>\n",
       "      <td>1.4 TDi Design S tronic</td>\n",
       "      <td>Sportback 1.4 TDI S-Tronic S-Line Ext. admired...</td>\n",
       "    </tr>\n",
       "    <tr>\n",
       "      <th>body_type</th>\n",
       "      <td>Sedans</td>\n",
       "      <td>Sedans</td>\n",
       "      <td>Sedans</td>\n",
       "      <td>Sedans</td>\n",
       "      <td>Sedans</td>\n",
       "    </tr>\n",
       "    <tr>\n",
       "      <th>vat</th>\n",
       "      <td>VAT deductible</td>\n",
       "      <td>Price negotiable</td>\n",
       "      <td>VAT deductible</td>\n",
       "      <td>None</td>\n",
       "      <td>None</td>\n",
       "    </tr>\n",
       "    <tr>\n",
       "      <th>km</th>\n",
       "      <td>56,013 km</td>\n",
       "      <td>80,000 km</td>\n",
       "      <td>83,450 km</td>\n",
       "      <td>73,000 km</td>\n",
       "      <td>16,200 km</td>\n",
       "    </tr>\n",
       "    <tr>\n",
       "      <th>registration</th>\n",
       "      <td>01/2016</td>\n",
       "      <td>03/2017</td>\n",
       "      <td>02/2016</td>\n",
       "      <td>08/2016</td>\n",
       "      <td>05/2016</td>\n",
       "    </tr>\n",
       "    <tr>\n",
       "      <th>hp</th>\n",
       "      <td>66 kW</td>\n",
       "      <td>141 kW</td>\n",
       "      <td>85 kW</td>\n",
       "      <td>66 kW</td>\n",
       "      <td>66 kW</td>\n",
       "    </tr>\n",
       "    <tr>\n",
       "      <th>Type</th>\n",
       "      <td>[, Used, , Diesel (Particulate Filter)]</td>\n",
       "      <td>[, Used, , Gasoline]</td>\n",
       "      <td>[, Used, , Diesel (Particulate Filter)]</td>\n",
       "      <td>[, Used, , Diesel (Particulate Filter)]</td>\n",
       "      <td>[, Used, , Diesel (Particulate Filter)]</td>\n",
       "    </tr>\n",
       "    <tr>\n",
       "      <th>Warranty</th>\n",
       "      <td>[\\n, \\n, \\n4 (Green)\\n]</td>\n",
       "      <td>NaN</td>\n",
       "      <td>[\\n, \\n, \\n99 g CO2/km (comb)\\n]</td>\n",
       "      <td>NaN</td>\n",
       "      <td>[\\n, \\n, \\nEuro 6\\n]</td>\n",
       "    </tr>\n",
       "    <tr>\n",
       "      <th>null</th>\n",
       "      <td>[]</td>\n",
       "      <td>[]</td>\n",
       "      <td>[]</td>\n",
       "      <td>[]</td>\n",
       "      <td>[]</td>\n",
       "    </tr>\n",
       "    <tr>\n",
       "      <th>Make</th>\n",
       "      <td>\\nAudi\\n</td>\n",
       "      <td>\\nAudi\\n</td>\n",
       "      <td>\\nAudi\\n</td>\n",
       "      <td>\\nAudi\\n</td>\n",
       "      <td>\\nAudi\\n</td>\n",
       "    </tr>\n",
       "    <tr>\n",
       "      <th>Model</th>\n",
       "      <td>[\\n, A1, \\n]</td>\n",
       "      <td>[\\n, A1, \\n]</td>\n",
       "      <td>[\\n, A1, \\n]</td>\n",
       "      <td>[\\n, A1, \\n]</td>\n",
       "      <td>[\\n, A1, \\n]</td>\n",
       "    </tr>\n",
       "    <tr>\n",
       "      <th>First Registration</th>\n",
       "      <td>[\\n, 2016, \\n]</td>\n",
       "      <td>[\\n, 2017, \\n]</td>\n",
       "      <td>[\\n, 2016, \\n]</td>\n",
       "      <td>[\\n, 2016, \\n]</td>\n",
       "      <td>[\\n, 2016, \\n]</td>\n",
       "    </tr>\n",
       "    <tr>\n",
       "      <th>Body Color</th>\n",
       "      <td>[\\n, Black, \\n]</td>\n",
       "      <td>[\\n, Red, \\n]</td>\n",
       "      <td>[\\n, Black, \\n]</td>\n",
       "      <td>[\\n, Brown, \\n]</td>\n",
       "      <td>[\\n, Black, \\n]</td>\n",
       "    </tr>\n",
       "    <tr>\n",
       "      <th>Paint Type</th>\n",
       "      <td>[\\nMetallic\\n]</td>\n",
       "      <td>NaN</td>\n",
       "      <td>[\\nMetallic\\n]</td>\n",
       "      <td>[\\nMetallic\\n]</td>\n",
       "      <td>[\\nMetallic\\n]</td>\n",
       "    </tr>\n",
       "    <tr>\n",
       "      <th>Body Color Original</th>\n",
       "      <td>[\\nMythosschwarz\\n]</td>\n",
       "      <td>NaN</td>\n",
       "      <td>[\\nmythosschwarz metallic\\n]</td>\n",
       "      <td>NaN</td>\n",
       "      <td>[\\nMythosschwarz Metallic\\n]</td>\n",
       "    </tr>\n",
       "    <tr>\n",
       "      <th>Upholstery</th>\n",
       "      <td>[\\nCloth, Black\\n]</td>\n",
       "      <td>[\\nCloth, Grey\\n]</td>\n",
       "      <td>[\\nCloth, Black\\n]</td>\n",
       "      <td>NaN</td>\n",
       "      <td>[\\nCloth, Black\\n]</td>\n",
       "    </tr>\n",
       "    <tr>\n",
       "      <th>Body</th>\n",
       "      <td>[\\n, Sedans, \\n]</td>\n",
       "      <td>[\\n, Sedans, \\n]</td>\n",
       "      <td>[\\n, Sedans, \\n]</td>\n",
       "      <td>[\\n, Sedans, \\n]</td>\n",
       "      <td>[\\n, Sedans, \\n]</td>\n",
       "    </tr>\n",
       "    <tr>\n",
       "      <th>Nr. of Doors</th>\n",
       "      <td>[\\n5\\n]</td>\n",
       "      <td>[\\n3\\n]</td>\n",
       "      <td>[\\n4\\n]</td>\n",
       "      <td>[\\n3\\n]</td>\n",
       "      <td>[\\n5\\n]</td>\n",
       "    </tr>\n",
       "    <tr>\n",
       "      <th>Nr. of Seats</th>\n",
       "      <td>[\\n5\\n]</td>\n",
       "      <td>[\\n4\\n]</td>\n",
       "      <td>[\\n4\\n]</td>\n",
       "      <td>[\\n4\\n]</td>\n",
       "      <td>[\\n5\\n]</td>\n",
       "    </tr>\n",
       "    <tr>\n",
       "      <th>Gearing Type</th>\n",
       "      <td>[\\n, Automatic, \\n]</td>\n",
       "      <td>[\\n, Automatic, \\n]</td>\n",
       "      <td>[\\n, Automatic, \\n]</td>\n",
       "      <td>[\\n, Automatic, \\n]</td>\n",
       "      <td>[\\n, Automatic, \\n]</td>\n",
       "    </tr>\n",
       "    <tr>\n",
       "      <th>Displacement</th>\n",
       "      <td>[\\n1,422 cc\\n]</td>\n",
       "      <td>[\\n1,798 cc\\n]</td>\n",
       "      <td>[\\n1,598 cc\\n]</td>\n",
       "      <td>[\\n1,422 cc\\n]</td>\n",
       "      <td>[\\n1,422 cc\\n]</td>\n",
       "    </tr>\n",
       "    <tr>\n",
       "      <th>Cylinders</th>\n",
       "      <td>[\\n3\\n]</td>\n",
       "      <td>[\\n4\\n]</td>\n",
       "      <td>NaN</td>\n",
       "      <td>[\\n3\\n]</td>\n",
       "      <td>[\\n3\\n]</td>\n",
       "    </tr>\n",
       "    <tr>\n",
       "      <th>Fuel</th>\n",
       "      <td>[\\n, Diesel (Particulate Filter), \\n]</td>\n",
       "      <td>[\\n, Gasoline, \\n]</td>\n",
       "      <td>[\\n, Diesel (Particulate Filter), \\n]</td>\n",
       "      <td>[\\n, Diesel (Particulate Filter), \\n]</td>\n",
       "      <td>[\\n, Diesel (Particulate Filter), \\n]</td>\n",
       "    </tr>\n",
       "    <tr>\n",
       "      <th>Consumption</th>\n",
       "      <td>[[3.8 l/100 km (comb)], [4.3 l/100 km (city)],...</td>\n",
       "      <td>[[5.6 l/100 km (comb)], [7.1 l/100 km (city)],...</td>\n",
       "      <td>[[3.8 l/100 km (comb)], [4.4 l/100 km (city)],...</td>\n",
       "      <td>[[3.8 l/100 km (comb)], [4.3 l/100 km (city)],...</td>\n",
       "      <td>[[4.1 l/100 km (comb)], [4.6 l/100 km (city)],...</td>\n",
       "    </tr>\n",
       "    <tr>\n",
       "      <th>CO2 Emission</th>\n",
       "      <td>[\\n99 g CO2/km (comb)\\n]</td>\n",
       "      <td>[\\n129 g CO2/km (comb)\\n]</td>\n",
       "      <td>[\\n99 g CO2/km (comb)\\n]</td>\n",
       "      <td>[\\n99 g CO2/km (comb)\\n]</td>\n",
       "      <td>[\\n109 g CO2/km (comb)\\n]</td>\n",
       "    </tr>\n",
       "    <tr>\n",
       "      <th>Emission Class</th>\n",
       "      <td>[\\nEuro 6\\n]</td>\n",
       "      <td>[\\nEuro 6\\n]</td>\n",
       "      <td>[\\nEuro 6\\n]</td>\n",
       "      <td>[\\nEuro 6\\n]</td>\n",
       "      <td>[\\nEuro 6\\n]</td>\n",
       "    </tr>\n",
       "    <tr>\n",
       "      <th>\\nComfort &amp; Convenience\\n</th>\n",
       "      <td>[Air conditioning, Armrest, Automatic climate ...</td>\n",
       "      <td>[Air conditioning, Automatic climate control, ...</td>\n",
       "      <td>[Air conditioning, Cruise control, Electrical ...</td>\n",
       "      <td>[Air suspension, Armrest, Auxiliary heating, E...</td>\n",
       "      <td>[Air conditioning, Armrest, Automatic climate ...</td>\n",
       "    </tr>\n",
       "    <tr>\n",
       "      <th>\\nEntertainment &amp; Media\\n</th>\n",
       "      <td>[Bluetooth, Hands-free equipment, On-board com...</td>\n",
       "      <td>[Bluetooth, Hands-free equipment, On-board com...</td>\n",
       "      <td>[MP3, On-board computer]</td>\n",
       "      <td>[Bluetooth, CD player, Hands-free equipment, M...</td>\n",
       "      <td>[Bluetooth, CD player, Hands-free equipment, M...</td>\n",
       "    </tr>\n",
       "    <tr>\n",
       "      <th>\\nExtras\\n</th>\n",
       "      <td>[Alloy wheels, Catalytic Converter, Voice Cont...</td>\n",
       "      <td>[Alloy wheels, Sport seats, Sport suspension, ...</td>\n",
       "      <td>[Alloy wheels, Voice Control]</td>\n",
       "      <td>[Alloy wheels, Sport seats, Voice Control]</td>\n",
       "      <td>[Alloy wheels, Sport package, Sport suspension...</td>\n",
       "    </tr>\n",
       "    <tr>\n",
       "      <th>\\nSafety &amp; Security\\n</th>\n",
       "      <td>[ABS, Central door lock, Daytime running light...</td>\n",
       "      <td>[ABS, Central door lock, Central door lock wit...</td>\n",
       "      <td>[ABS, Central door lock, Daytime running light...</td>\n",
       "      <td>[ABS, Alarm system, Central door lock with rem...</td>\n",
       "      <td>[ABS, Central door lock, Driver-side airbag, E...</td>\n",
       "    </tr>\n",
       "    <tr>\n",
       "      <th>description</th>\n",
       "      <td>[\\n, Sicherheit:,  , Deaktivierung für Beifahr...</td>\n",
       "      <td>[\\nLangstreckenfahrzeug daher die hohe Kilomet...</td>\n",
       "      <td>[\\n, Fahrzeug-Nummer: AM-95365,  , Ehem. UPE 2...</td>\n",
       "      <td>[\\nAudi A1: , - 1e eigenaar , - Perfecte staat...</td>\n",
       "      <td>[\\n, Technik &amp; Sicherheit:, Xenon plus, Klimaa...</td>\n",
       "    </tr>\n",
       "    <tr>\n",
       "      <th>Gears</th>\n",
       "      <td>NaN</td>\n",
       "      <td>[\\n7\\n]</td>\n",
       "      <td>NaN</td>\n",
       "      <td>[\\n6\\n]</td>\n",
       "      <td>NaN</td>\n",
       "    </tr>\n",
       "  </tbody>\n",
       "</table>\n",
       "</div>"
      ],
      "text/plain": [
       "                                                                           0  \\\n",
       "make_model                                                           Audi A1   \n",
       "short_description                Sportback 1.4 TDI S-tronic Xenon Navi Klima   \n",
       "body_type                                                             Sedans   \n",
       "vat                                                           VAT deductible   \n",
       "km                                                                 56,013 km   \n",
       "registration                                                         01/2016   \n",
       "hp                                                                     66 kW   \n",
       "Type                                 [, Used, , Diesel (Particulate Filter)]   \n",
       "Warranty                                             [\\n, \\n, \\n4 (Green)\\n]   \n",
       "null                                                                      []   \n",
       "Make                                                                \\nAudi\\n   \n",
       "Model                                                           [\\n, A1, \\n]   \n",
       "First Registration                                            [\\n, 2016, \\n]   \n",
       "Body Color                                                   [\\n, Black, \\n]   \n",
       "Paint Type                                                    [\\nMetallic\\n]   \n",
       "Body Color Original                                      [\\nMythosschwarz\\n]   \n",
       "Upholstery                                                [\\nCloth, Black\\n]   \n",
       "Body                                                        [\\n, Sedans, \\n]   \n",
       "Nr. of Doors                                                         [\\n5\\n]   \n",
       "Nr. of Seats                                                         [\\n5\\n]   \n",
       "Gearing Type                                             [\\n, Automatic, \\n]   \n",
       "Displacement                                                  [\\n1,422 cc\\n]   \n",
       "Cylinders                                                            [\\n3\\n]   \n",
       "Fuel                                   [\\n, Diesel (Particulate Filter), \\n]   \n",
       "Consumption                [[3.8 l/100 km (comb)], [4.3 l/100 km (city)],...   \n",
       "CO2 Emission                                        [\\n99 g CO2/km (comb)\\n]   \n",
       "Emission Class                                                  [\\nEuro 6\\n]   \n",
       "\\nComfort & Convenience\\n  [Air conditioning, Armrest, Automatic climate ...   \n",
       "\\nEntertainment & Media\\n  [Bluetooth, Hands-free equipment, On-board com...   \n",
       "\\nExtras\\n                 [Alloy wheels, Catalytic Converter, Voice Cont...   \n",
       "\\nSafety & Security\\n      [ABS, Central door lock, Daytime running light...   \n",
       "description                [\\n, Sicherheit:,  , Deaktivierung für Beifahr...   \n",
       "Gears                                                                    NaN   \n",
       "\n",
       "                                                                           1  \\\n",
       "make_model                                                           Audi A1   \n",
       "short_description                                             1.8 TFSI sport   \n",
       "body_type                                                             Sedans   \n",
       "vat                                                         Price negotiable   \n",
       "km                                                                 80,000 km   \n",
       "registration                                                         03/2017   \n",
       "hp                                                                    141 kW   \n",
       "Type                                                    [, Used, , Gasoline]   \n",
       "Warranty                                                                 NaN   \n",
       "null                                                                      []   \n",
       "Make                                                                \\nAudi\\n   \n",
       "Model                                                           [\\n, A1, \\n]   \n",
       "First Registration                                            [\\n, 2017, \\n]   \n",
       "Body Color                                                     [\\n, Red, \\n]   \n",
       "Paint Type                                                               NaN   \n",
       "Body Color Original                                                      NaN   \n",
       "Upholstery                                                 [\\nCloth, Grey\\n]   \n",
       "Body                                                        [\\n, Sedans, \\n]   \n",
       "Nr. of Doors                                                         [\\n3\\n]   \n",
       "Nr. of Seats                                                         [\\n4\\n]   \n",
       "Gearing Type                                             [\\n, Automatic, \\n]   \n",
       "Displacement                                                  [\\n1,798 cc\\n]   \n",
       "Cylinders                                                            [\\n4\\n]   \n",
       "Fuel                                                      [\\n, Gasoline, \\n]   \n",
       "Consumption                [[5.6 l/100 km (comb)], [7.1 l/100 km (city)],...   \n",
       "CO2 Emission                                       [\\n129 g CO2/km (comb)\\n]   \n",
       "Emission Class                                                  [\\nEuro 6\\n]   \n",
       "\\nComfort & Convenience\\n  [Air conditioning, Automatic climate control, ...   \n",
       "\\nEntertainment & Media\\n  [Bluetooth, Hands-free equipment, On-board com...   \n",
       "\\nExtras\\n                 [Alloy wheels, Sport seats, Sport suspension, ...   \n",
       "\\nSafety & Security\\n      [ABS, Central door lock, Central door lock wit...   \n",
       "description                [\\nLangstreckenfahrzeug daher die hohe Kilomet...   \n",
       "Gears                                                                [\\n7\\n]   \n",
       "\n",
       "                                                                           2  \\\n",
       "make_model                                                           Audi A1   \n",
       "short_description          Sportback 1.6 TDI S tronic Einparkhilfe plus+m...   \n",
       "body_type                                                             Sedans   \n",
       "vat                                                           VAT deductible   \n",
       "km                                                                 83,450 km   \n",
       "registration                                                         02/2016   \n",
       "hp                                                                     85 kW   \n",
       "Type                                 [, Used, , Diesel (Particulate Filter)]   \n",
       "Warranty                                    [\\n, \\n, \\n99 g CO2/km (comb)\\n]   \n",
       "null                                                                      []   \n",
       "Make                                                                \\nAudi\\n   \n",
       "Model                                                           [\\n, A1, \\n]   \n",
       "First Registration                                            [\\n, 2016, \\n]   \n",
       "Body Color                                                   [\\n, Black, \\n]   \n",
       "Paint Type                                                    [\\nMetallic\\n]   \n",
       "Body Color Original                             [\\nmythosschwarz metallic\\n]   \n",
       "Upholstery                                                [\\nCloth, Black\\n]   \n",
       "Body                                                        [\\n, Sedans, \\n]   \n",
       "Nr. of Doors                                                         [\\n4\\n]   \n",
       "Nr. of Seats                                                         [\\n4\\n]   \n",
       "Gearing Type                                             [\\n, Automatic, \\n]   \n",
       "Displacement                                                  [\\n1,598 cc\\n]   \n",
       "Cylinders                                                                NaN   \n",
       "Fuel                                   [\\n, Diesel (Particulate Filter), \\n]   \n",
       "Consumption                [[3.8 l/100 km (comb)], [4.4 l/100 km (city)],...   \n",
       "CO2 Emission                                        [\\n99 g CO2/km (comb)\\n]   \n",
       "Emission Class                                                  [\\nEuro 6\\n]   \n",
       "\\nComfort & Convenience\\n  [Air conditioning, Cruise control, Electrical ...   \n",
       "\\nEntertainment & Media\\n                           [MP3, On-board computer]   \n",
       "\\nExtras\\n                                     [Alloy wheels, Voice Control]   \n",
       "\\nSafety & Security\\n      [ABS, Central door lock, Daytime running light...   \n",
       "description                [\\n, Fahrzeug-Nummer: AM-95365,  , Ehem. UPE 2...   \n",
       "Gears                                                                    NaN   \n",
       "\n",
       "                                                                           3  \\\n",
       "make_model                                                           Audi A1   \n",
       "short_description                                    1.4 TDi Design S tronic   \n",
       "body_type                                                             Sedans   \n",
       "vat                                                                     None   \n",
       "km                                                                 73,000 km   \n",
       "registration                                                         08/2016   \n",
       "hp                                                                     66 kW   \n",
       "Type                                 [, Used, , Diesel (Particulate Filter)]   \n",
       "Warranty                                                                 NaN   \n",
       "null                                                                      []   \n",
       "Make                                                                \\nAudi\\n   \n",
       "Model                                                           [\\n, A1, \\n]   \n",
       "First Registration                                            [\\n, 2016, \\n]   \n",
       "Body Color                                                   [\\n, Brown, \\n]   \n",
       "Paint Type                                                    [\\nMetallic\\n]   \n",
       "Body Color Original                                                      NaN   \n",
       "Upholstery                                                               NaN   \n",
       "Body                                                        [\\n, Sedans, \\n]   \n",
       "Nr. of Doors                                                         [\\n3\\n]   \n",
       "Nr. of Seats                                                         [\\n4\\n]   \n",
       "Gearing Type                                             [\\n, Automatic, \\n]   \n",
       "Displacement                                                  [\\n1,422 cc\\n]   \n",
       "Cylinders                                                            [\\n3\\n]   \n",
       "Fuel                                   [\\n, Diesel (Particulate Filter), \\n]   \n",
       "Consumption                [[3.8 l/100 km (comb)], [4.3 l/100 km (city)],...   \n",
       "CO2 Emission                                        [\\n99 g CO2/km (comb)\\n]   \n",
       "Emission Class                                                  [\\nEuro 6\\n]   \n",
       "\\nComfort & Convenience\\n  [Air suspension, Armrest, Auxiliary heating, E...   \n",
       "\\nEntertainment & Media\\n  [Bluetooth, CD player, Hands-free equipment, M...   \n",
       "\\nExtras\\n                        [Alloy wheels, Sport seats, Voice Control]   \n",
       "\\nSafety & Security\\n      [ABS, Alarm system, Central door lock with rem...   \n",
       "description                [\\nAudi A1: , - 1e eigenaar , - Perfecte staat...   \n",
       "Gears                                                                [\\n6\\n]   \n",
       "\n",
       "                                                                           4  \n",
       "make_model                                                           Audi A1  \n",
       "short_description          Sportback 1.4 TDI S-Tronic S-Line Ext. admired...  \n",
       "body_type                                                             Sedans  \n",
       "vat                                                                     None  \n",
       "km                                                                 16,200 km  \n",
       "registration                                                         05/2016  \n",
       "hp                                                                     66 kW  \n",
       "Type                                 [, Used, , Diesel (Particulate Filter)]  \n",
       "Warranty                                                [\\n, \\n, \\nEuro 6\\n]  \n",
       "null                                                                      []  \n",
       "Make                                                                \\nAudi\\n  \n",
       "Model                                                           [\\n, A1, \\n]  \n",
       "First Registration                                            [\\n, 2016, \\n]  \n",
       "Body Color                                                   [\\n, Black, \\n]  \n",
       "Paint Type                                                    [\\nMetallic\\n]  \n",
       "Body Color Original                             [\\nMythosschwarz Metallic\\n]  \n",
       "Upholstery                                                [\\nCloth, Black\\n]  \n",
       "Body                                                        [\\n, Sedans, \\n]  \n",
       "Nr. of Doors                                                         [\\n5\\n]  \n",
       "Nr. of Seats                                                         [\\n5\\n]  \n",
       "Gearing Type                                             [\\n, Automatic, \\n]  \n",
       "Displacement                                                  [\\n1,422 cc\\n]  \n",
       "Cylinders                                                            [\\n3\\n]  \n",
       "Fuel                                   [\\n, Diesel (Particulate Filter), \\n]  \n",
       "Consumption                [[4.1 l/100 km (comb)], [4.6 l/100 km (city)],...  \n",
       "CO2 Emission                                       [\\n109 g CO2/km (comb)\\n]  \n",
       "Emission Class                                                  [\\nEuro 6\\n]  \n",
       "\\nComfort & Convenience\\n  [Air conditioning, Armrest, Automatic climate ...  \n",
       "\\nEntertainment & Media\\n  [Bluetooth, CD player, Hands-free equipment, M...  \n",
       "\\nExtras\\n                 [Alloy wheels, Sport package, Sport suspension...  \n",
       "\\nSafety & Security\\n      [ABS, Central door lock, Driver-side airbag, E...  \n",
       "description                [\\n, Technik & Sicherheit:, Xenon plus, Klimaa...  \n",
       "Gears                                                                    NaN  "
      ]
     },
     "execution_count": 12,
     "metadata": {},
     "output_type": "execute_result"
    }
   ],
   "source": [
    "# Skim the output to look for things to fix\n",
    "cat_df.head().T"
   ]
  },
  {
   "cell_type": "markdown",
   "id": "8c97a128",
   "metadata": {},
   "source": [
    "* Numerical data stored as Categorial (strings)\n",
    "    * Convert some of these to numerical columns\n",
    "* Binary data needs to be binarized into 1's and 0's\n",
    "    * We can Binarize the Binary/Boolean columns\n",
    "* Ordinal (should generally be encoded to retain their information (e.g. {1,2,3} to encode {low, med, high})\n",
    "* Nominal data to be unpacked, then later one hot encoded\n",
    "* Date/Time features need to be engineered\n"
   ]
  },
  {
   "cell_type": "markdown",
   "id": "0e19307c",
   "metadata": {},
   "source": [
    "### C. Initial Data Cleaning (for exploration)"
   ]
  },
  {
   "cell_type": "markdown",
   "id": "fc27d797",
   "metadata": {},
   "source": [
    "**Convert Numerical Features to Numerical Data Types (if they were typed as objects instead of numbers)**"
   ]
  },
  {
   "cell_type": "code",
   "execution_count": 13,
   "id": "3e0ca196",
   "metadata": {},
   "outputs": [],
   "source": [
    "# Getting all the features that should be numerical, but are typed as objects (strings)\n",
    "cat_to_num = ['km', 'hp', 'Nr. of Doors', 'Nr. of Seats', 'Displacement', 'Cylinders','Consumption','CO2 Emission','Gears']\n",
    "\n",
    "# Keeping changes in a temporary copied DataFrame\n",
    "# Setting deep=True creates a \"deepcopy\", which guarantees that you're creating a new object\n",
    "    # Sometimes when you copy an object into a new variable, this new variable just points back to the copied object\n",
    "    # This can have unintended consequences - if you edit one variable, you also might edit the other\n",
    "cat_to_num_df = cat_df[cat_to_num].copy(deep=True)"
   ]
  },
  {
   "cell_type": "code",
   "execution_count": 14,
   "id": "d20f08a7",
   "metadata": {
    "scrolled": false
   },
   "outputs": [
    {
     "data": {
      "text/html": [
       "<div>\n",
       "<style scoped>\n",
       "    .dataframe tbody tr th:only-of-type {\n",
       "        vertical-align: middle;\n",
       "    }\n",
       "\n",
       "    .dataframe tbody tr th {\n",
       "        vertical-align: top;\n",
       "    }\n",
       "\n",
       "    .dataframe thead th {\n",
       "        text-align: right;\n",
       "    }\n",
       "</style>\n",
       "<table border=\"1\" class=\"dataframe\">\n",
       "  <thead>\n",
       "    <tr style=\"text-align: right;\">\n",
       "      <th></th>\n",
       "      <th>km</th>\n",
       "      <th>hp</th>\n",
       "      <th>Nr. of Doors</th>\n",
       "      <th>Nr. of Seats</th>\n",
       "      <th>Displacement</th>\n",
       "      <th>Cylinders</th>\n",
       "      <th>Consumption</th>\n",
       "      <th>CO2 Emission</th>\n",
       "      <th>Gears</th>\n",
       "    </tr>\n",
       "  </thead>\n",
       "  <tbody>\n",
       "    <tr>\n",
       "      <th>0</th>\n",
       "      <td>56,013 km</td>\n",
       "      <td>66 kW</td>\n",
       "      <td>[\\n5\\n]</td>\n",
       "      <td>[\\n5\\n]</td>\n",
       "      <td>[\\n1,422 cc\\n]</td>\n",
       "      <td>[\\n3\\n]</td>\n",
       "      <td>[[3.8 l/100 km (comb)], [4.3 l/100 km (city)],...</td>\n",
       "      <td>[\\n99 g CO2/km (comb)\\n]</td>\n",
       "      <td>NaN</td>\n",
       "    </tr>\n",
       "    <tr>\n",
       "      <th>1</th>\n",
       "      <td>80,000 km</td>\n",
       "      <td>141 kW</td>\n",
       "      <td>[\\n3\\n]</td>\n",
       "      <td>[\\n4\\n]</td>\n",
       "      <td>[\\n1,798 cc\\n]</td>\n",
       "      <td>[\\n4\\n]</td>\n",
       "      <td>[[5.6 l/100 km (comb)], [7.1 l/100 km (city)],...</td>\n",
       "      <td>[\\n129 g CO2/km (comb)\\n]</td>\n",
       "      <td>[\\n7\\n]</td>\n",
       "    </tr>\n",
       "  </tbody>\n",
       "</table>\n",
       "</div>"
      ],
      "text/plain": [
       "          km      hp Nr. of Doors Nr. of Seats    Displacement Cylinders  \\\n",
       "0  56,013 km   66 kW      [\\n5\\n]      [\\n5\\n]  [\\n1,422 cc\\n]   [\\n3\\n]   \n",
       "1  80,000 km  141 kW      [\\n3\\n]      [\\n4\\n]  [\\n1,798 cc\\n]   [\\n4\\n]   \n",
       "\n",
       "                                         Consumption  \\\n",
       "0  [[3.8 l/100 km (comb)], [4.3 l/100 km (city)],...   \n",
       "1  [[5.6 l/100 km (comb)], [7.1 l/100 km (city)],...   \n",
       "\n",
       "                CO2 Emission    Gears  \n",
       "0   [\\n99 g CO2/km (comb)\\n]      NaN  \n",
       "1  [\\n129 g CO2/km (comb)\\n]  [\\n7\\n]  "
      ]
     },
     "execution_count": 14,
     "metadata": {},
     "output_type": "execute_result"
    }
   ],
   "source": [
    "# Let's take a look at the data in cat_to_num_df using head()\n",
    "cat_to_num_df.head(2)"
   ]
  },
  {
   "cell_type": "markdown",
   "id": "49414f53",
   "metadata": {},
   "source": [
    "**For km, we remove ',' sign and 'km', then convert to float.**"
   ]
  },
  {
   "cell_type": "code",
   "execution_count": 15,
   "id": "4eb0053b",
   "metadata": {},
   "outputs": [],
   "source": [
    "# str.replace(), str.split() & astype() will be useful\n",
    "\n",
    "cat_to_num_df['km'] = cat_to_num_df['km'].str.replace(',','')\n",
    "\n",
    "pattern = \"(\\d{0,3},\\d{3})\"\n",
    "\n",
    "cat_to_num_df[\"km\"] = cat_to_num_df[\"km\"].str.split(pattern).str[0]"
   ]
  },
  {
   "cell_type": "code",
   "execution_count": 16,
   "id": "91364fb5",
   "metadata": {
    "scrolled": false
   },
   "outputs": [],
   "source": [
    "pattern = \"(\\D)\"\n",
    "\n",
    "cat_to_num_df['km'] = cat_to_num_df.km.str.split(pattern).str[0]"
   ]
  },
  {
   "cell_type": "code",
   "execution_count": 17,
   "id": "d1ba6c64",
   "metadata": {},
   "outputs": [],
   "source": [
    "cat_to_num_df.km[cat_to_num_df['km'] == ''] = cat_to_num_df.km[cat_to_num_df['km'] == ''].str.replace('',\"0\")"
   ]
  },
  {
   "cell_type": "code",
   "execution_count": 18,
   "id": "e15948d9",
   "metadata": {},
   "outputs": [],
   "source": [
    "cat_to_num_df['km'] = cat_to_num_df['km'].astype(float)"
   ]
  },
  {
   "cell_type": "code",
   "execution_count": 19,
   "id": "1c97a978",
   "metadata": {
    "scrolled": true
   },
   "outputs": [
    {
     "data": {
      "text/html": [
       "<div>\n",
       "<style scoped>\n",
       "    .dataframe tbody tr th:only-of-type {\n",
       "        vertical-align: middle;\n",
       "    }\n",
       "\n",
       "    .dataframe tbody tr th {\n",
       "        vertical-align: top;\n",
       "    }\n",
       "\n",
       "    .dataframe thead th {\n",
       "        text-align: right;\n",
       "    }\n",
       "</style>\n",
       "<table border=\"1\" class=\"dataframe\">\n",
       "  <thead>\n",
       "    <tr style=\"text-align: right;\">\n",
       "      <th></th>\n",
       "      <th>km</th>\n",
       "      <th>hp</th>\n",
       "      <th>Nr. of Doors</th>\n",
       "      <th>Nr. of Seats</th>\n",
       "      <th>Displacement</th>\n",
       "      <th>Cylinders</th>\n",
       "      <th>Consumption</th>\n",
       "      <th>CO2 Emission</th>\n",
       "      <th>Gears</th>\n",
       "    </tr>\n",
       "  </thead>\n",
       "  <tbody>\n",
       "    <tr>\n",
       "      <th>0</th>\n",
       "      <td>56013.0</td>\n",
       "      <td>66 kW</td>\n",
       "      <td>[\\n5\\n]</td>\n",
       "      <td>[\\n5\\n]</td>\n",
       "      <td>[\\n1,422 cc\\n]</td>\n",
       "      <td>[\\n3\\n]</td>\n",
       "      <td>[[3.8 l/100 km (comb)], [4.3 l/100 km (city)],...</td>\n",
       "      <td>[\\n99 g CO2/km (comb)\\n]</td>\n",
       "      <td>NaN</td>\n",
       "    </tr>\n",
       "    <tr>\n",
       "      <th>1</th>\n",
       "      <td>80000.0</td>\n",
       "      <td>141 kW</td>\n",
       "      <td>[\\n3\\n]</td>\n",
       "      <td>[\\n4\\n]</td>\n",
       "      <td>[\\n1,798 cc\\n]</td>\n",
       "      <td>[\\n4\\n]</td>\n",
       "      <td>[[5.6 l/100 km (comb)], [7.1 l/100 km (city)],...</td>\n",
       "      <td>[\\n129 g CO2/km (comb)\\n]</td>\n",
       "      <td>[\\n7\\n]</td>\n",
       "    </tr>\n",
       "  </tbody>\n",
       "</table>\n",
       "</div>"
      ],
      "text/plain": [
       "        km      hp Nr. of Doors Nr. of Seats    Displacement Cylinders  \\\n",
       "0  56013.0   66 kW      [\\n5\\n]      [\\n5\\n]  [\\n1,422 cc\\n]   [\\n3\\n]   \n",
       "1  80000.0  141 kW      [\\n3\\n]      [\\n4\\n]  [\\n1,798 cc\\n]   [\\n4\\n]   \n",
       "\n",
       "                                         Consumption  \\\n",
       "0  [[3.8 l/100 km (comb)], [4.3 l/100 km (city)],...   \n",
       "1  [[5.6 l/100 km (comb)], [7.1 l/100 km (city)],...   \n",
       "\n",
       "                CO2 Emission    Gears  \n",
       "0   [\\n99 g CO2/km (comb)\\n]      NaN  \n",
       "1  [\\n129 g CO2/km (comb)\\n]  [\\n7\\n]  "
      ]
     },
     "execution_count": 19,
     "metadata": {},
     "output_type": "execute_result"
    }
   ],
   "source": [
    "cat_to_num_df.head(2)"
   ]
  },
  {
   "cell_type": "markdown",
   "id": "497b4443",
   "metadata": {},
   "source": [
    "**For hp, we remove 'kW', then convert to float.**"
   ]
  },
  {
   "cell_type": "code",
   "execution_count": 20,
   "id": "cb3c1b00",
   "metadata": {},
   "outputs": [],
   "source": [
    "pattern = \"(\\d{0,4})\"\n",
    "\n",
    "cat_to_num_df[\"hp\"] = cat_to_num_df[\"hp\"].str.split(pattern).str[1]"
   ]
  },
  {
   "cell_type": "code",
   "execution_count": 21,
   "id": "6c1f1611",
   "metadata": {},
   "outputs": [
    {
     "name": "stderr",
     "output_type": "stream",
     "text": [
      "<ipython-input-21-a9b6bb0a0478>:1: SettingWithCopyWarning: \n",
      "A value is trying to be set on a copy of a slice from a DataFrame\n",
      "\n",
      "See the caveats in the documentation: https://pandas.pydata.org/pandas-docs/stable/user_guide/indexing.html#returning-a-view-versus-a-copy\n",
      "  cat_to_num_df.hp[cat_to_num_df['hp'] == ''] = cat_to_num_df.hp[cat_to_num_df['hp'] == ''].str.replace('',\"0\")\n"
     ]
    }
   ],
   "source": [
    "cat_to_num_df.hp[cat_to_num_df['hp'] == ''] = cat_to_num_df.hp[cat_to_num_df['hp'] == ''].str.replace('',\"0\")"
   ]
  },
  {
   "cell_type": "code",
   "execution_count": 22,
   "id": "9b93b7ac",
   "metadata": {},
   "outputs": [],
   "source": [
    "cat_to_num_df[\"hp\"] = cat_to_num_df[\"hp\"].astype(float)"
   ]
  },
  {
   "cell_type": "code",
   "execution_count": 23,
   "id": "3c4a33fc",
   "metadata": {},
   "outputs": [
    {
     "data": {
      "text/html": [
       "<div>\n",
       "<style scoped>\n",
       "    .dataframe tbody tr th:only-of-type {\n",
       "        vertical-align: middle;\n",
       "    }\n",
       "\n",
       "    .dataframe tbody tr th {\n",
       "        vertical-align: top;\n",
       "    }\n",
       "\n",
       "    .dataframe thead th {\n",
       "        text-align: right;\n",
       "    }\n",
       "</style>\n",
       "<table border=\"1\" class=\"dataframe\">\n",
       "  <thead>\n",
       "    <tr style=\"text-align: right;\">\n",
       "      <th></th>\n",
       "      <th>km</th>\n",
       "      <th>hp</th>\n",
       "      <th>Nr. of Doors</th>\n",
       "      <th>Nr. of Seats</th>\n",
       "      <th>Displacement</th>\n",
       "      <th>Cylinders</th>\n",
       "      <th>Consumption</th>\n",
       "      <th>CO2 Emission</th>\n",
       "      <th>Gears</th>\n",
       "    </tr>\n",
       "  </thead>\n",
       "  <tbody>\n",
       "    <tr>\n",
       "      <th>0</th>\n",
       "      <td>56013.0</td>\n",
       "      <td>66.0</td>\n",
       "      <td>[\\n5\\n]</td>\n",
       "      <td>[\\n5\\n]</td>\n",
       "      <td>[\\n1,422 cc\\n]</td>\n",
       "      <td>[\\n3\\n]</td>\n",
       "      <td>[[3.8 l/100 km (comb)], [4.3 l/100 km (city)],...</td>\n",
       "      <td>[\\n99 g CO2/km (comb)\\n]</td>\n",
       "      <td>NaN</td>\n",
       "    </tr>\n",
       "    <tr>\n",
       "      <th>1</th>\n",
       "      <td>80000.0</td>\n",
       "      <td>141.0</td>\n",
       "      <td>[\\n3\\n]</td>\n",
       "      <td>[\\n4\\n]</td>\n",
       "      <td>[\\n1,798 cc\\n]</td>\n",
       "      <td>[\\n4\\n]</td>\n",
       "      <td>[[5.6 l/100 km (comb)], [7.1 l/100 km (city)],...</td>\n",
       "      <td>[\\n129 g CO2/km (comb)\\n]</td>\n",
       "      <td>[\\n7\\n]</td>\n",
       "    </tr>\n",
       "  </tbody>\n",
       "</table>\n",
       "</div>"
      ],
      "text/plain": [
       "        km     hp Nr. of Doors Nr. of Seats    Displacement Cylinders  \\\n",
       "0  56013.0   66.0      [\\n5\\n]      [\\n5\\n]  [\\n1,422 cc\\n]   [\\n3\\n]   \n",
       "1  80000.0  141.0      [\\n3\\n]      [\\n4\\n]  [\\n1,798 cc\\n]   [\\n4\\n]   \n",
       "\n",
       "                                         Consumption  \\\n",
       "0  [[3.8 l/100 km (comb)], [4.3 l/100 km (city)],...   \n",
       "1  [[5.6 l/100 km (comb)], [7.1 l/100 km (city)],...   \n",
       "\n",
       "                CO2 Emission    Gears  \n",
       "0   [\\n99 g CO2/km (comb)\\n]      NaN  \n",
       "1  [\\n129 g CO2/km (comb)\\n]  [\\n7\\n]  "
      ]
     },
     "execution_count": 23,
     "metadata": {},
     "output_type": "execute_result"
    }
   ],
   "source": [
    "cat_to_num_df.head(2)"
   ]
  },
  {
   "cell_type": "markdown",
   "id": "126d7a90",
   "metadata": {},
   "source": [
    "**For Nr. of Doors, we remove '\\n', then convert to float.**"
   ]
  },
  {
   "cell_type": "code",
   "execution_count": 24,
   "id": "6bc35eef",
   "metadata": {
    "scrolled": false
   },
   "outputs": [],
   "source": [
    "pattern = \"(\\d)\"\n",
    "\n",
    "cat_to_num_df[\"number_of_doors\"] = cat_to_num_df[\"Nr. of Doors\"].str[0].str.split(pattern).str[1]"
   ]
  },
  {
   "cell_type": "code",
   "execution_count": 25,
   "id": "7660fba4",
   "metadata": {},
   "outputs": [],
   "source": [
    "cat_to_num_df[\"number_of_doors\"] = cat_to_num_df[\"number_of_doors\"].astype(float)"
   ]
  },
  {
   "cell_type": "code",
   "execution_count": 26,
   "id": "894ee0e5",
   "metadata": {},
   "outputs": [],
   "source": [
    "cat_to_num_df = cat_to_num_df.drop(\"Nr. of Doors\", axis=1)"
   ]
  },
  {
   "cell_type": "code",
   "execution_count": 27,
   "id": "9de902f5",
   "metadata": {
    "scrolled": true
   },
   "outputs": [
    {
     "data": {
      "text/html": [
       "<div>\n",
       "<style scoped>\n",
       "    .dataframe tbody tr th:only-of-type {\n",
       "        vertical-align: middle;\n",
       "    }\n",
       "\n",
       "    .dataframe tbody tr th {\n",
       "        vertical-align: top;\n",
       "    }\n",
       "\n",
       "    .dataframe thead th {\n",
       "        text-align: right;\n",
       "    }\n",
       "</style>\n",
       "<table border=\"1\" class=\"dataframe\">\n",
       "  <thead>\n",
       "    <tr style=\"text-align: right;\">\n",
       "      <th></th>\n",
       "      <th>km</th>\n",
       "      <th>hp</th>\n",
       "      <th>Nr. of Seats</th>\n",
       "      <th>Displacement</th>\n",
       "      <th>Cylinders</th>\n",
       "      <th>Consumption</th>\n",
       "      <th>CO2 Emission</th>\n",
       "      <th>Gears</th>\n",
       "      <th>number_of_doors</th>\n",
       "    </tr>\n",
       "  </thead>\n",
       "  <tbody>\n",
       "    <tr>\n",
       "      <th>0</th>\n",
       "      <td>56013.0</td>\n",
       "      <td>66.0</td>\n",
       "      <td>[\\n5\\n]</td>\n",
       "      <td>[\\n1,422 cc\\n]</td>\n",
       "      <td>[\\n3\\n]</td>\n",
       "      <td>[[3.8 l/100 km (comb)], [4.3 l/100 km (city)],...</td>\n",
       "      <td>[\\n99 g CO2/km (comb)\\n]</td>\n",
       "      <td>NaN</td>\n",
       "      <td>5.0</td>\n",
       "    </tr>\n",
       "    <tr>\n",
       "      <th>1</th>\n",
       "      <td>80000.0</td>\n",
       "      <td>141.0</td>\n",
       "      <td>[\\n4\\n]</td>\n",
       "      <td>[\\n1,798 cc\\n]</td>\n",
       "      <td>[\\n4\\n]</td>\n",
       "      <td>[[5.6 l/100 km (comb)], [7.1 l/100 km (city)],...</td>\n",
       "      <td>[\\n129 g CO2/km (comb)\\n]</td>\n",
       "      <td>[\\n7\\n]</td>\n",
       "      <td>3.0</td>\n",
       "    </tr>\n",
       "  </tbody>\n",
       "</table>\n",
       "</div>"
      ],
      "text/plain": [
       "        km     hp Nr. of Seats    Displacement Cylinders  \\\n",
       "0  56013.0   66.0      [\\n5\\n]  [\\n1,422 cc\\n]   [\\n3\\n]   \n",
       "1  80000.0  141.0      [\\n4\\n]  [\\n1,798 cc\\n]   [\\n4\\n]   \n",
       "\n",
       "                                         Consumption  \\\n",
       "0  [[3.8 l/100 km (comb)], [4.3 l/100 km (city)],...   \n",
       "1  [[5.6 l/100 km (comb)], [7.1 l/100 km (city)],...   \n",
       "\n",
       "                CO2 Emission    Gears  number_of_doors  \n",
       "0   [\\n99 g CO2/km (comb)\\n]      NaN              5.0  \n",
       "1  [\\n129 g CO2/km (comb)\\n]  [\\n7\\n]              3.0  "
      ]
     },
     "execution_count": 27,
     "metadata": {},
     "output_type": "execute_result"
    }
   ],
   "source": [
    "cat_to_num_df.head(2)"
   ]
  },
  {
   "cell_type": "markdown",
   "id": "55f02a9b",
   "metadata": {},
   "source": [
    "**For Nr. of Seats, we remove '\\n', then convert to float.**"
   ]
  },
  {
   "cell_type": "code",
   "execution_count": 28,
   "id": "99da587c",
   "metadata": {},
   "outputs": [],
   "source": [
    "pattern = \"(\\d)\"\n",
    "\n",
    "cat_to_num_df[\"nunber_of_seats\"] = cat_to_num_df[\"Nr. of Seats\"].str[0].str.split(pattern).str[1]"
   ]
  },
  {
   "cell_type": "code",
   "execution_count": 29,
   "id": "24cb6bdc",
   "metadata": {},
   "outputs": [],
   "source": [
    "cat_to_num_df[\"nunber_of_seats\"] = cat_to_num_df[\"nunber_of_seats\"].astype(float)"
   ]
  },
  {
   "cell_type": "code",
   "execution_count": 30,
   "id": "90595a80",
   "metadata": {},
   "outputs": [],
   "source": [
    "cat_to_num_df = cat_to_num_df.drop(\"Nr. of Seats\", axis=1)"
   ]
  },
  {
   "cell_type": "code",
   "execution_count": 31,
   "id": "67eec0f7",
   "metadata": {},
   "outputs": [
    {
     "data": {
      "text/html": [
       "<div>\n",
       "<style scoped>\n",
       "    .dataframe tbody tr th:only-of-type {\n",
       "        vertical-align: middle;\n",
       "    }\n",
       "\n",
       "    .dataframe tbody tr th {\n",
       "        vertical-align: top;\n",
       "    }\n",
       "\n",
       "    .dataframe thead th {\n",
       "        text-align: right;\n",
       "    }\n",
       "</style>\n",
       "<table border=\"1\" class=\"dataframe\">\n",
       "  <thead>\n",
       "    <tr style=\"text-align: right;\">\n",
       "      <th></th>\n",
       "      <th>km</th>\n",
       "      <th>hp</th>\n",
       "      <th>Displacement</th>\n",
       "      <th>Cylinders</th>\n",
       "      <th>Consumption</th>\n",
       "      <th>CO2 Emission</th>\n",
       "      <th>Gears</th>\n",
       "      <th>number_of_doors</th>\n",
       "      <th>nunber_of_seats</th>\n",
       "    </tr>\n",
       "  </thead>\n",
       "  <tbody>\n",
       "    <tr>\n",
       "      <th>0</th>\n",
       "      <td>56013.0</td>\n",
       "      <td>66.0</td>\n",
       "      <td>[\\n1,422 cc\\n]</td>\n",
       "      <td>[\\n3\\n]</td>\n",
       "      <td>[[3.8 l/100 km (comb)], [4.3 l/100 km (city)],...</td>\n",
       "      <td>[\\n99 g CO2/km (comb)\\n]</td>\n",
       "      <td>NaN</td>\n",
       "      <td>5.0</td>\n",
       "      <td>5.0</td>\n",
       "    </tr>\n",
       "    <tr>\n",
       "      <th>1</th>\n",
       "      <td>80000.0</td>\n",
       "      <td>141.0</td>\n",
       "      <td>[\\n1,798 cc\\n]</td>\n",
       "      <td>[\\n4\\n]</td>\n",
       "      <td>[[5.6 l/100 km (comb)], [7.1 l/100 km (city)],...</td>\n",
       "      <td>[\\n129 g CO2/km (comb)\\n]</td>\n",
       "      <td>[\\n7\\n]</td>\n",
       "      <td>3.0</td>\n",
       "      <td>4.0</td>\n",
       "    </tr>\n",
       "  </tbody>\n",
       "</table>\n",
       "</div>"
      ],
      "text/plain": [
       "        km     hp    Displacement Cylinders  \\\n",
       "0  56013.0   66.0  [\\n1,422 cc\\n]   [\\n3\\n]   \n",
       "1  80000.0  141.0  [\\n1,798 cc\\n]   [\\n4\\n]   \n",
       "\n",
       "                                         Consumption  \\\n",
       "0  [[3.8 l/100 km (comb)], [4.3 l/100 km (city)],...   \n",
       "1  [[5.6 l/100 km (comb)], [7.1 l/100 km (city)],...   \n",
       "\n",
       "                CO2 Emission    Gears  number_of_doors  nunber_of_seats  \n",
       "0   [\\n99 g CO2/km (comb)\\n]      NaN              5.0              5.0  \n",
       "1  [\\n129 g CO2/km (comb)\\n]  [\\n7\\n]              3.0              4.0  "
      ]
     },
     "execution_count": 31,
     "metadata": {},
     "output_type": "execute_result"
    }
   ],
   "source": [
    "cat_to_num_df.head(2)"
   ]
  },
  {
   "cell_type": "markdown",
   "id": "aca25be8",
   "metadata": {},
   "source": [
    "**For Displacement, we remove '\\n', ',' and 'cc', then convert to float.**"
   ]
  },
  {
   "cell_type": "code",
   "execution_count": 32,
   "id": "903e9d47",
   "metadata": {
    "scrolled": true
   },
   "outputs": [],
   "source": [
    "cat_to_num_df['Displacement'] = cat_to_num_df['Displacement'].str[0].str.replace(',','')"
   ]
  },
  {
   "cell_type": "code",
   "execution_count": 33,
   "id": "b0144b2c",
   "metadata": {},
   "outputs": [],
   "source": [
    "pattern = \"(\\d{4})\"\n",
    "\n",
    "cat_to_num_df[\"Displacement\"] = cat_to_num_df[\"Displacement\"].str.split(pattern).str[1]"
   ]
  },
  {
   "cell_type": "code",
   "execution_count": 34,
   "id": "7895c50e",
   "metadata": {},
   "outputs": [],
   "source": [
    "cat_to_num_df[\"displacement\"] = cat_to_num_df[\"Displacement\"].astype(float)"
   ]
  },
  {
   "cell_type": "code",
   "execution_count": 35,
   "id": "f6fbdb79",
   "metadata": {},
   "outputs": [],
   "source": [
    "cat_to_num_df = cat_to_num_df.drop(\"Displacement\", axis=1)"
   ]
  },
  {
   "cell_type": "code",
   "execution_count": 36,
   "id": "b3f3775e",
   "metadata": {},
   "outputs": [
    {
     "data": {
      "text/html": [
       "<div>\n",
       "<style scoped>\n",
       "    .dataframe tbody tr th:only-of-type {\n",
       "        vertical-align: middle;\n",
       "    }\n",
       "\n",
       "    .dataframe tbody tr th {\n",
       "        vertical-align: top;\n",
       "    }\n",
       "\n",
       "    .dataframe thead th {\n",
       "        text-align: right;\n",
       "    }\n",
       "</style>\n",
       "<table border=\"1\" class=\"dataframe\">\n",
       "  <thead>\n",
       "    <tr style=\"text-align: right;\">\n",
       "      <th></th>\n",
       "      <th>km</th>\n",
       "      <th>hp</th>\n",
       "      <th>Cylinders</th>\n",
       "      <th>Consumption</th>\n",
       "      <th>CO2 Emission</th>\n",
       "      <th>Gears</th>\n",
       "      <th>number_of_doors</th>\n",
       "      <th>nunber_of_seats</th>\n",
       "      <th>displacement</th>\n",
       "    </tr>\n",
       "  </thead>\n",
       "  <tbody>\n",
       "    <tr>\n",
       "      <th>0</th>\n",
       "      <td>56013.0</td>\n",
       "      <td>66.0</td>\n",
       "      <td>[\\n3\\n]</td>\n",
       "      <td>[[3.8 l/100 km (comb)], [4.3 l/100 km (city)],...</td>\n",
       "      <td>[\\n99 g CO2/km (comb)\\n]</td>\n",
       "      <td>NaN</td>\n",
       "      <td>5.0</td>\n",
       "      <td>5.0</td>\n",
       "      <td>1422.0</td>\n",
       "    </tr>\n",
       "    <tr>\n",
       "      <th>1</th>\n",
       "      <td>80000.0</td>\n",
       "      <td>141.0</td>\n",
       "      <td>[\\n4\\n]</td>\n",
       "      <td>[[5.6 l/100 km (comb)], [7.1 l/100 km (city)],...</td>\n",
       "      <td>[\\n129 g CO2/km (comb)\\n]</td>\n",
       "      <td>[\\n7\\n]</td>\n",
       "      <td>3.0</td>\n",
       "      <td>4.0</td>\n",
       "      <td>1798.0</td>\n",
       "    </tr>\n",
       "  </tbody>\n",
       "</table>\n",
       "</div>"
      ],
      "text/plain": [
       "        km     hp Cylinders  \\\n",
       "0  56013.0   66.0   [\\n3\\n]   \n",
       "1  80000.0  141.0   [\\n4\\n]   \n",
       "\n",
       "                                         Consumption  \\\n",
       "0  [[3.8 l/100 km (comb)], [4.3 l/100 km (city)],...   \n",
       "1  [[5.6 l/100 km (comb)], [7.1 l/100 km (city)],...   \n",
       "\n",
       "                CO2 Emission    Gears  number_of_doors  nunber_of_seats  \\\n",
       "0   [\\n99 g CO2/km (comb)\\n]      NaN              5.0              5.0   \n",
       "1  [\\n129 g CO2/km (comb)\\n]  [\\n7\\n]              3.0              4.0   \n",
       "\n",
       "   displacement  \n",
       "0        1422.0  \n",
       "1        1798.0  "
      ]
     },
     "execution_count": 36,
     "metadata": {},
     "output_type": "execute_result"
    }
   ],
   "source": [
    "cat_to_num_df.head(2)"
   ]
  },
  {
   "cell_type": "markdown",
   "id": "61914b35",
   "metadata": {},
   "source": [
    "**For Cylinders, we remove '\\n', then convert to float.**"
   ]
  },
  {
   "cell_type": "code",
   "execution_count": 37,
   "id": "0e5252cb",
   "metadata": {},
   "outputs": [],
   "source": [
    "pattern = \"(\\d)\"\n",
    "\n",
    "cat_to_num_df[\"Cylinders\"] = cat_to_num_df[\"Cylinders\"].str[0].str.split(pattern).str[1]"
   ]
  },
  {
   "cell_type": "code",
   "execution_count": 38,
   "id": "6bb7dece",
   "metadata": {},
   "outputs": [],
   "source": [
    "cat_to_num_df[\"cylinders\"] = cat_to_num_df[\"Cylinders\"].astype(float)"
   ]
  },
  {
   "cell_type": "code",
   "execution_count": 39,
   "id": "909e52af",
   "metadata": {},
   "outputs": [],
   "source": [
    "cat_to_num_df = cat_to_num_df.drop(\"Cylinders\", axis=1)"
   ]
  },
  {
   "cell_type": "code",
   "execution_count": 40,
   "id": "e663f003",
   "metadata": {},
   "outputs": [
    {
     "data": {
      "text/html": [
       "<div>\n",
       "<style scoped>\n",
       "    .dataframe tbody tr th:only-of-type {\n",
       "        vertical-align: middle;\n",
       "    }\n",
       "\n",
       "    .dataframe tbody tr th {\n",
       "        vertical-align: top;\n",
       "    }\n",
       "\n",
       "    .dataframe thead th {\n",
       "        text-align: right;\n",
       "    }\n",
       "</style>\n",
       "<table border=\"1\" class=\"dataframe\">\n",
       "  <thead>\n",
       "    <tr style=\"text-align: right;\">\n",
       "      <th></th>\n",
       "      <th>km</th>\n",
       "      <th>hp</th>\n",
       "      <th>Consumption</th>\n",
       "      <th>CO2 Emission</th>\n",
       "      <th>Gears</th>\n",
       "      <th>number_of_doors</th>\n",
       "      <th>nunber_of_seats</th>\n",
       "      <th>displacement</th>\n",
       "      <th>cylinders</th>\n",
       "    </tr>\n",
       "  </thead>\n",
       "  <tbody>\n",
       "    <tr>\n",
       "      <th>0</th>\n",
       "      <td>56013.0</td>\n",
       "      <td>66.0</td>\n",
       "      <td>[[3.8 l/100 km (comb)], [4.3 l/100 km (city)],...</td>\n",
       "      <td>[\\n99 g CO2/km (comb)\\n]</td>\n",
       "      <td>NaN</td>\n",
       "      <td>5.0</td>\n",
       "      <td>5.0</td>\n",
       "      <td>1422.0</td>\n",
       "      <td>3.0</td>\n",
       "    </tr>\n",
       "    <tr>\n",
       "      <th>1</th>\n",
       "      <td>80000.0</td>\n",
       "      <td>141.0</td>\n",
       "      <td>[[5.6 l/100 km (comb)], [7.1 l/100 km (city)],...</td>\n",
       "      <td>[\\n129 g CO2/km (comb)\\n]</td>\n",
       "      <td>[\\n7\\n]</td>\n",
       "      <td>3.0</td>\n",
       "      <td>4.0</td>\n",
       "      <td>1798.0</td>\n",
       "      <td>4.0</td>\n",
       "    </tr>\n",
       "  </tbody>\n",
       "</table>\n",
       "</div>"
      ],
      "text/plain": [
       "        km     hp                                        Consumption  \\\n",
       "0  56013.0   66.0  [[3.8 l/100 km (comb)], [4.3 l/100 km (city)],...   \n",
       "1  80000.0  141.0  [[5.6 l/100 km (comb)], [7.1 l/100 km (city)],...   \n",
       "\n",
       "                CO2 Emission    Gears  number_of_doors  nunber_of_seats  \\\n",
       "0   [\\n99 g CO2/km (comb)\\n]      NaN              5.0              5.0   \n",
       "1  [\\n129 g CO2/km (comb)\\n]  [\\n7\\n]              3.0              4.0   \n",
       "\n",
       "   displacement  cylinders  \n",
       "0        1422.0        3.0  \n",
       "1        1798.0        4.0  "
      ]
     },
     "execution_count": 40,
     "metadata": {},
     "output_type": "execute_result"
    }
   ],
   "source": [
    "cat_to_num_df.head(2)"
   ]
  },
  {
   "cell_type": "markdown",
   "id": "d413a99f",
   "metadata": {},
   "source": [
    "**For consumption, there are three different values, we need to dump each one into a new column, then convert it to float.**"
   ]
  },
  {
   "cell_type": "code",
   "execution_count": 41,
   "id": "d0b5c1a3",
   "metadata": {},
   "outputs": [],
   "source": [
    "pattern = \"(\\d.\\d)\"\n",
    "\n",
    "cat_to_num_df[\"consumption_comb\"] = cat_to_num_df[\"Consumption\"].str[0].str[0].str.extract(pattern).astype(float)\n",
    "cat_to_num_df[\"consumption_city\"] = cat_to_num_df[\"Consumption\"].str[1].str[0].str.extract(pattern).astype(float)\n",
    "cat_to_num_df[\"consumption_country\"] = cat_to_num_df[\"Consumption\"].str[2].str[0].str.extract(pattern).astype(float)"
   ]
  },
  {
   "cell_type": "code",
   "execution_count": 42,
   "id": "e9930f51",
   "metadata": {},
   "outputs": [],
   "source": [
    "cat_to_num_df = cat_to_num_df.drop('Consumption', axis=1)"
   ]
  },
  {
   "cell_type": "code",
   "execution_count": 43,
   "id": "6d847b92",
   "metadata": {},
   "outputs": [
    {
     "data": {
      "text/html": [
       "<div>\n",
       "<style scoped>\n",
       "    .dataframe tbody tr th:only-of-type {\n",
       "        vertical-align: middle;\n",
       "    }\n",
       "\n",
       "    .dataframe tbody tr th {\n",
       "        vertical-align: top;\n",
       "    }\n",
       "\n",
       "    .dataframe thead th {\n",
       "        text-align: right;\n",
       "    }\n",
       "</style>\n",
       "<table border=\"1\" class=\"dataframe\">\n",
       "  <thead>\n",
       "    <tr style=\"text-align: right;\">\n",
       "      <th></th>\n",
       "      <th>km</th>\n",
       "      <th>hp</th>\n",
       "      <th>CO2 Emission</th>\n",
       "      <th>Gears</th>\n",
       "      <th>number_of_doors</th>\n",
       "      <th>nunber_of_seats</th>\n",
       "      <th>displacement</th>\n",
       "      <th>cylinders</th>\n",
       "      <th>consumption_comb</th>\n",
       "      <th>consumption_city</th>\n",
       "      <th>consumption_country</th>\n",
       "    </tr>\n",
       "  </thead>\n",
       "  <tbody>\n",
       "    <tr>\n",
       "      <th>0</th>\n",
       "      <td>56013.0</td>\n",
       "      <td>66.0</td>\n",
       "      <td>[\\n99 g CO2/km (comb)\\n]</td>\n",
       "      <td>NaN</td>\n",
       "      <td>5.0</td>\n",
       "      <td>5.0</td>\n",
       "      <td>1422.0</td>\n",
       "      <td>3.0</td>\n",
       "      <td>3.8</td>\n",
       "      <td>4.3</td>\n",
       "      <td>3.5</td>\n",
       "    </tr>\n",
       "    <tr>\n",
       "      <th>1</th>\n",
       "      <td>80000.0</td>\n",
       "      <td>141.0</td>\n",
       "      <td>[\\n129 g CO2/km (comb)\\n]</td>\n",
       "      <td>[\\n7\\n]</td>\n",
       "      <td>3.0</td>\n",
       "      <td>4.0</td>\n",
       "      <td>1798.0</td>\n",
       "      <td>4.0</td>\n",
       "      <td>5.6</td>\n",
       "      <td>7.1</td>\n",
       "      <td>4.7</td>\n",
       "    </tr>\n",
       "  </tbody>\n",
       "</table>\n",
       "</div>"
      ],
      "text/plain": [
       "        km     hp               CO2 Emission    Gears  number_of_doors  \\\n",
       "0  56013.0   66.0   [\\n99 g CO2/km (comb)\\n]      NaN              5.0   \n",
       "1  80000.0  141.0  [\\n129 g CO2/km (comb)\\n]  [\\n7\\n]              3.0   \n",
       "\n",
       "   nunber_of_seats  displacement  cylinders  consumption_comb  \\\n",
       "0              5.0        1422.0        3.0               3.8   \n",
       "1              4.0        1798.0        4.0               5.6   \n",
       "\n",
       "   consumption_city  consumption_country  \n",
       "0               4.3                  3.5  \n",
       "1               7.1                  4.7  "
      ]
     },
     "execution_count": 43,
     "metadata": {},
     "output_type": "execute_result"
    }
   ],
   "source": [
    "cat_to_num_df.head(2)"
   ]
  },
  {
   "cell_type": "markdown",
   "id": "c7c512e1",
   "metadata": {},
   "source": [
    "**For CO2 Emission, we will take the scalar value, then convert it to float.**"
   ]
  },
  {
   "cell_type": "code",
   "execution_count": 44,
   "id": "03d943ba",
   "metadata": {},
   "outputs": [],
   "source": [
    "pattern = \"(\\d{0,4})\"\n",
    "\n",
    "cat_to_num_df[\"co2_emission\"] = cat_to_num_df[\"CO2 Emission\"].str[0].str.split(pattern).str[3].astype(float)"
   ]
  },
  {
   "cell_type": "code",
   "execution_count": 45,
   "id": "5e412082",
   "metadata": {},
   "outputs": [],
   "source": [
    "cat_to_num_df = cat_to_num_df.drop('CO2 Emission', axis=1)"
   ]
  },
  {
   "cell_type": "code",
   "execution_count": 46,
   "id": "7c850d3c",
   "metadata": {
    "scrolled": true
   },
   "outputs": [
    {
     "data": {
      "text/html": [
       "<div>\n",
       "<style scoped>\n",
       "    .dataframe tbody tr th:only-of-type {\n",
       "        vertical-align: middle;\n",
       "    }\n",
       "\n",
       "    .dataframe tbody tr th {\n",
       "        vertical-align: top;\n",
       "    }\n",
       "\n",
       "    .dataframe thead th {\n",
       "        text-align: right;\n",
       "    }\n",
       "</style>\n",
       "<table border=\"1\" class=\"dataframe\">\n",
       "  <thead>\n",
       "    <tr style=\"text-align: right;\">\n",
       "      <th></th>\n",
       "      <th>km</th>\n",
       "      <th>hp</th>\n",
       "      <th>Gears</th>\n",
       "      <th>number_of_doors</th>\n",
       "      <th>nunber_of_seats</th>\n",
       "      <th>displacement</th>\n",
       "      <th>cylinders</th>\n",
       "      <th>consumption_comb</th>\n",
       "      <th>consumption_city</th>\n",
       "      <th>consumption_country</th>\n",
       "      <th>co2_emission</th>\n",
       "    </tr>\n",
       "  </thead>\n",
       "  <tbody>\n",
       "    <tr>\n",
       "      <th>0</th>\n",
       "      <td>56013.0</td>\n",
       "      <td>66.0</td>\n",
       "      <td>NaN</td>\n",
       "      <td>5.0</td>\n",
       "      <td>5.0</td>\n",
       "      <td>1422.0</td>\n",
       "      <td>3.0</td>\n",
       "      <td>3.8</td>\n",
       "      <td>4.3</td>\n",
       "      <td>3.5</td>\n",
       "      <td>99.0</td>\n",
       "    </tr>\n",
       "    <tr>\n",
       "      <th>1</th>\n",
       "      <td>80000.0</td>\n",
       "      <td>141.0</td>\n",
       "      <td>[\\n7\\n]</td>\n",
       "      <td>3.0</td>\n",
       "      <td>4.0</td>\n",
       "      <td>1798.0</td>\n",
       "      <td>4.0</td>\n",
       "      <td>5.6</td>\n",
       "      <td>7.1</td>\n",
       "      <td>4.7</td>\n",
       "      <td>129.0</td>\n",
       "    </tr>\n",
       "  </tbody>\n",
       "</table>\n",
       "</div>"
      ],
      "text/plain": [
       "        km     hp    Gears  number_of_doors  nunber_of_seats  displacement  \\\n",
       "0  56013.0   66.0      NaN              5.0              5.0        1422.0   \n",
       "1  80000.0  141.0  [\\n7\\n]              3.0              4.0        1798.0   \n",
       "\n",
       "   cylinders  consumption_comb  consumption_city  consumption_country  \\\n",
       "0        3.0               3.8               4.3                  3.5   \n",
       "1        4.0               5.6               7.1                  4.7   \n",
       "\n",
       "   co2_emission  \n",
       "0          99.0  \n",
       "1         129.0  "
      ]
     },
     "execution_count": 46,
     "metadata": {},
     "output_type": "execute_result"
    }
   ],
   "source": [
    "cat_to_num_df.head(2)"
   ]
  },
  {
   "cell_type": "markdown",
   "id": "6ac33fe9",
   "metadata": {},
   "source": [
    "**For Gears, we will take the scalar value, then convert it to float.**"
   ]
  },
  {
   "cell_type": "code",
   "execution_count": 47,
   "id": "3f4f9769",
   "metadata": {},
   "outputs": [],
   "source": [
    "pattern = \"(\\d{0,4})\"\n",
    "\n",
    "cat_to_num_df[\"gears\"] = cat_to_num_df[\"Gears\"].str[0].str.split(pattern).str[3].astype(float)"
   ]
  },
  {
   "cell_type": "code",
   "execution_count": 48,
   "id": "4ad8af99",
   "metadata": {},
   "outputs": [],
   "source": [
    "cat_to_num_df = cat_to_num_df.drop('Gears', axis=1)"
   ]
  },
  {
   "cell_type": "code",
   "execution_count": 49,
   "id": "09c16773",
   "metadata": {
    "scrolled": true
   },
   "outputs": [
    {
     "data": {
      "text/html": [
       "<div>\n",
       "<style scoped>\n",
       "    .dataframe tbody tr th:only-of-type {\n",
       "        vertical-align: middle;\n",
       "    }\n",
       "\n",
       "    .dataframe tbody tr th {\n",
       "        vertical-align: top;\n",
       "    }\n",
       "\n",
       "    .dataframe thead th {\n",
       "        text-align: right;\n",
       "    }\n",
       "</style>\n",
       "<table border=\"1\" class=\"dataframe\">\n",
       "  <thead>\n",
       "    <tr style=\"text-align: right;\">\n",
       "      <th></th>\n",
       "      <th>km</th>\n",
       "      <th>hp</th>\n",
       "      <th>number_of_doors</th>\n",
       "      <th>nunber_of_seats</th>\n",
       "      <th>displacement</th>\n",
       "      <th>cylinders</th>\n",
       "      <th>consumption_comb</th>\n",
       "      <th>consumption_city</th>\n",
       "      <th>consumption_country</th>\n",
       "      <th>co2_emission</th>\n",
       "      <th>gears</th>\n",
       "    </tr>\n",
       "  </thead>\n",
       "  <tbody>\n",
       "    <tr>\n",
       "      <th>0</th>\n",
       "      <td>56013.0</td>\n",
       "      <td>66.0</td>\n",
       "      <td>5.0</td>\n",
       "      <td>5.0</td>\n",
       "      <td>1422.0</td>\n",
       "      <td>3.0</td>\n",
       "      <td>3.8</td>\n",
       "      <td>4.3</td>\n",
       "      <td>3.5</td>\n",
       "      <td>99.0</td>\n",
       "      <td>NaN</td>\n",
       "    </tr>\n",
       "    <tr>\n",
       "      <th>1</th>\n",
       "      <td>80000.0</td>\n",
       "      <td>141.0</td>\n",
       "      <td>3.0</td>\n",
       "      <td>4.0</td>\n",
       "      <td>1798.0</td>\n",
       "      <td>4.0</td>\n",
       "      <td>5.6</td>\n",
       "      <td>7.1</td>\n",
       "      <td>4.7</td>\n",
       "      <td>129.0</td>\n",
       "      <td>7.0</td>\n",
       "    </tr>\n",
       "  </tbody>\n",
       "</table>\n",
       "</div>"
      ],
      "text/plain": [
       "        km     hp  number_of_doors  nunber_of_seats  displacement  cylinders  \\\n",
       "0  56013.0   66.0              5.0              5.0        1422.0        3.0   \n",
       "1  80000.0  141.0              3.0              4.0        1798.0        4.0   \n",
       "\n",
       "   consumption_comb  consumption_city  consumption_country  co2_emission  \\\n",
       "0               3.8               4.3                  3.5          99.0   \n",
       "1               5.6               7.1                  4.7         129.0   \n",
       "\n",
       "   gears  \n",
       "0    NaN  \n",
       "1    7.0  "
      ]
     },
     "execution_count": 49,
     "metadata": {},
     "output_type": "execute_result"
    }
   ],
   "source": [
    "cat_to_num_df.head(2)"
   ]
  },
  {
   "cell_type": "code",
   "execution_count": 50,
   "id": "015dd99b",
   "metadata": {},
   "outputs": [],
   "source": [
    "## Append the new cat_to_num_df data to the num_df DataFrame using pd.concat and axis=1\n",
    "num_df = pd.concat([num_df, cat_to_num_df], axis=1)"
   ]
  },
  {
   "cell_type": "code",
   "execution_count": 51,
   "id": "ca469e56",
   "metadata": {},
   "outputs": [],
   "source": [
    "## Drop the old columns from the cat_df DataFrame using the appropriate axis\n",
    "cat_df = cat_df.drop(cat_to_num, axis=1)"
   ]
  },
  {
   "cell_type": "code",
   "execution_count": 52,
   "id": "29c28ef6",
   "metadata": {},
   "outputs": [
    {
     "data": {
      "text/plain": [
       "Index(['make_model', 'short_description', 'body_type', 'vat', 'registration',\n",
       "       'Type', 'Warranty', 'null', 'Make', 'Model', 'First Registration',\n",
       "       'Body Color', 'Paint Type', 'Body Color Original', 'Upholstery', 'Body',\n",
       "       'Gearing Type', 'Fuel', 'Emission Class', '\\nComfort & Convenience\\n',\n",
       "       '\\nEntertainment & Media\\n', '\\nExtras\\n', '\\nSafety & Security\\n',\n",
       "       'description'],\n",
       "      dtype='object')"
      ]
     },
     "execution_count": 52,
     "metadata": {},
     "output_type": "execute_result"
    }
   ],
   "source": [
    "cat_df.columns"
   ]
  },
  {
   "cell_type": "markdown",
   "id": "c6f0b6fa",
   "metadata": {},
   "source": [
    "**Arrangement of texts in categorical columns**"
   ]
  },
  {
   "cell_type": "markdown",
   "id": "1e5e8f1b",
   "metadata": {},
   "source": [
    "**'make_model','Make', 'Model'**"
   ]
  },
  {
   "cell_type": "code",
   "execution_count": 53,
   "id": "73e78636",
   "metadata": {
    "scrolled": true
   },
   "outputs": [
    {
     "data": {
      "text/html": [
       "<div>\n",
       "<style scoped>\n",
       "    .dataframe tbody tr th:only-of-type {\n",
       "        vertical-align: middle;\n",
       "    }\n",
       "\n",
       "    .dataframe tbody tr th {\n",
       "        vertical-align: top;\n",
       "    }\n",
       "\n",
       "    .dataframe thead th {\n",
       "        text-align: right;\n",
       "    }\n",
       "</style>\n",
       "<table border=\"1\" class=\"dataframe\">\n",
       "  <thead>\n",
       "    <tr style=\"text-align: right;\">\n",
       "      <th></th>\n",
       "      <th>make_model</th>\n",
       "      <th>Make</th>\n",
       "      <th>Model</th>\n",
       "    </tr>\n",
       "  </thead>\n",
       "  <tbody>\n",
       "    <tr>\n",
       "      <th>0</th>\n",
       "      <td>Audi A1</td>\n",
       "      <td>\\nAudi\\n</td>\n",
       "      <td>[\\n, A1, \\n]</td>\n",
       "    </tr>\n",
       "    <tr>\n",
       "      <th>1</th>\n",
       "      <td>Audi A1</td>\n",
       "      <td>\\nAudi\\n</td>\n",
       "      <td>[\\n, A1, \\n]</td>\n",
       "    </tr>\n",
       "  </tbody>\n",
       "</table>\n",
       "</div>"
      ],
      "text/plain": [
       "  make_model      Make         Model\n",
       "0    Audi A1  \\nAudi\\n  [\\n, A1, \\n]\n",
       "1    Audi A1  \\nAudi\\n  [\\n, A1, \\n]"
      ]
     },
     "execution_count": 53,
     "metadata": {},
     "output_type": "execute_result"
    }
   ],
   "source": [
    "cat_df[['make_model','Make', 'Model']].head(2)"
   ]
  },
  {
   "cell_type": "markdown",
   "id": "00709e88",
   "metadata": {},
   "source": [
    "We can split the \"make_model\" column into two new columns by spacing. We can remove the \"make\" and \"model\" columns from the data."
   ]
  },
  {
   "cell_type": "code",
   "execution_count": 54,
   "id": "29d11452",
   "metadata": {},
   "outputs": [],
   "source": [
    "pattern = \"(\\s)\"\n",
    "\n",
    "cat_df[\"make\"] = cat_df[\"make_model\"].str.split(pattern).str[0]\n",
    "cat_df[\"model\"] = cat_df[\"make_model\"].str.split(pattern).str[2]\n",
    "\n",
    "cat_df = cat_df.drop(['make_model','Make','Model'], axis=1)"
   ]
  },
  {
   "cell_type": "code",
   "execution_count": 55,
   "id": "ea14faec",
   "metadata": {
    "scrolled": true
   },
   "outputs": [
    {
     "data": {
      "text/html": [
       "<div>\n",
       "<style scoped>\n",
       "    .dataframe tbody tr th:only-of-type {\n",
       "        vertical-align: middle;\n",
       "    }\n",
       "\n",
       "    .dataframe tbody tr th {\n",
       "        vertical-align: top;\n",
       "    }\n",
       "\n",
       "    .dataframe thead th {\n",
       "        text-align: right;\n",
       "    }\n",
       "</style>\n",
       "<table border=\"1\" class=\"dataframe\">\n",
       "  <thead>\n",
       "    <tr style=\"text-align: right;\">\n",
       "      <th></th>\n",
       "      <th>make</th>\n",
       "      <th>model</th>\n",
       "    </tr>\n",
       "  </thead>\n",
       "  <tbody>\n",
       "    <tr>\n",
       "      <th>0</th>\n",
       "      <td>Audi</td>\n",
       "      <td>A1</td>\n",
       "    </tr>\n",
       "    <tr>\n",
       "      <th>1</th>\n",
       "      <td>Audi</td>\n",
       "      <td>A1</td>\n",
       "    </tr>\n",
       "  </tbody>\n",
       "</table>\n",
       "</div>"
      ],
      "text/plain": [
       "   make model\n",
       "0  Audi    A1\n",
       "1  Audi    A1"
      ]
     },
     "execution_count": 55,
     "metadata": {},
     "output_type": "execute_result"
    }
   ],
   "source": [
    "cat_df[['make', 'model']].head(2)"
   ]
  },
  {
   "cell_type": "code",
   "execution_count": 56,
   "id": "19338196",
   "metadata": {
    "scrolled": true
   },
   "outputs": [
    {
     "data": {
      "text/plain": [
       "False    14820\n",
       "Name: make, dtype: int64"
      ]
     },
     "execution_count": 56,
     "metadata": {},
     "output_type": "execute_result"
    }
   ],
   "source": [
    "cat_df[\"make\"].isnull().value_counts(dropna = False)"
   ]
  },
  {
   "cell_type": "code",
   "execution_count": 57,
   "id": "d0fa0409",
   "metadata": {
    "scrolled": true
   },
   "outputs": [
    {
     "data": {
      "text/plain": [
       "False    14820\n",
       "Name: model, dtype: int64"
      ]
     },
     "execution_count": 57,
     "metadata": {},
     "output_type": "execute_result"
    }
   ],
   "source": [
    "cat_df[\"model\"].isnull().value_counts(dropna = False)"
   ]
  },
  {
   "cell_type": "markdown",
   "id": "92a013a0",
   "metadata": {},
   "source": [
    "**'short_description' and 'description'**"
   ]
  },
  {
   "cell_type": "code",
   "execution_count": 58,
   "id": "3cfae637",
   "metadata": {},
   "outputs": [
    {
     "data": {
      "text/plain": [
       "SPB 1.6 TDI 116 CV S tronic Sport                    64\n",
       "1.4 66kW (90CV) Selective                            38\n",
       "SPB 30 TFSI S tronic Admired                         34\n",
       "SPB 30 TDI S tronic Business                         34\n",
       "Sporter 1.5 dCi 90CV Zen , NAVI - AZIENDALE          32\n",
       "                                                     ..\n",
       "1.0 TFSi 115 Sportback + Xenon + Adaptiv Cruise +     1\n",
       "SPB 1.6 TDI 116 CV S tronic Sport | 20.000Km|2018     1\n",
       "\"GS 2 0 CDTi Turbo D Auto Excellence\"                 1\n",
       "1,6 CDTI SportsTouNAVI,AppleCarplay,EU6               1\n",
       "SPORTS TOURER 1.6 CDTI 110CV INNOVATION               1\n",
       "Name: short_description, Length: 10001, dtype: int64"
      ]
     },
     "execution_count": 58,
     "metadata": {},
     "output_type": "execute_result"
    }
   ],
   "source": [
    "cat_df['short_description'].value_counts()"
   ]
  },
  {
   "cell_type": "code",
   "execution_count": 59,
   "id": "dc730ba6",
   "metadata": {},
   "outputs": [
    {
     "data": {
      "text/plain": [
       "0        [\\n, Sicherheit:,  , Deaktivierung für Beifahr...\n",
       "1        [\\nLangstreckenfahrzeug daher die hohe Kilomet...\n",
       "2        [\\n, Fahrzeug-Nummer: AM-95365,  , Ehem. UPE 2...\n",
       "3        [\\nAudi A1: , - 1e eigenaar , - Perfecte staat...\n",
       "4        [\\n, Technik & Sicherheit:, Xenon plus, Klimaa...\n",
       "                               ...                        \n",
       "15914    [\\nVettura visionabile nella sede in Via Roma ...\n",
       "15915    [\\nDach: Panorama-Glas-Schiebedach, Lackierung...\n",
       "15916    [\\n, Getriebe:,  Automatik, Technik:,  Bordcom...\n",
       "15917    [\\nDEK:[2691331], Renault Espace Blue dCi 200C...\n",
       "15918    [\\n, Sicherheit Airbags:,  , Seitenairbag,  , ...\n",
       "Name: description, Length: 14820, dtype: object"
      ]
     },
     "execution_count": 59,
     "metadata": {},
     "output_type": "execute_result"
    }
   ],
   "source": [
    "cat_df['description']"
   ]
  },
  {
   "cell_type": "markdown",
   "id": "49d48e6c",
   "metadata": {},
   "source": [
    "The \"short_description\" and 'description' column contains highly complex data. I don't think it will do us any good."
   ]
  },
  {
   "cell_type": "code",
   "execution_count": 60,
   "id": "c0808cbc",
   "metadata": {},
   "outputs": [],
   "source": [
    "cat_df = cat_df.drop(['short_description','description'], axis=1)"
   ]
  },
  {
   "cell_type": "markdown",
   "id": "a71eaa37",
   "metadata": {},
   "source": [
    "**'body_type'**"
   ]
  },
  {
   "cell_type": "code",
   "execution_count": 61,
   "id": "f962cd74",
   "metadata": {
    "scrolled": true
   },
   "outputs": [
    {
     "data": {
      "text/plain": [
       "Sedans           7384\n",
       "Station wagon    3397\n",
       "Compact          2798\n",
       "Van               729\n",
       "Other             286\n",
       "Transporter        88\n",
       "Off-Road           56\n",
       "NaN                49\n",
       "Coupe              25\n",
       "Convertible         8\n",
       "Name: body_type, dtype: int64"
      ]
     },
     "execution_count": 61,
     "metadata": {},
     "output_type": "execute_result"
    }
   ],
   "source": [
    "cat_df['body_type'].value_counts(dropna = False)"
   ]
  },
  {
   "cell_type": "markdown",
   "id": "fcd28b81",
   "metadata": {},
   "source": [
    "**'vat'**"
   ]
  },
  {
   "cell_type": "code",
   "execution_count": 62,
   "id": "238b1e98",
   "metadata": {
    "scrolled": true
   },
   "outputs": [
    {
     "data": {
      "text/plain": [
       "VAT deductible      10341\n",
       "NaN                  4053\n",
       "Price negotiable      426\n",
       "Name: vat, dtype: int64"
      ]
     },
     "execution_count": 62,
     "metadata": {},
     "output_type": "execute_result"
    }
   ],
   "source": [
    "cat_df['vat'].value_counts(dropna = False)"
   ]
  },
  {
   "cell_type": "markdown",
   "id": "e6584a5f",
   "metadata": {},
   "source": [
    "**'First Registration'**"
   ]
  },
  {
   "cell_type": "code",
   "execution_count": 63,
   "id": "60acc63e",
   "metadata": {
    "scrolled": false
   },
   "outputs": [
    {
     "data": {
      "text/plain": [
       "0    [\\n, 2016, \\n]\n",
       "1    [\\n, 2017, \\n]\n",
       "Name: First Registration, dtype: object"
      ]
     },
     "execution_count": 63,
     "metadata": {},
     "output_type": "execute_result"
    }
   ],
   "source": [
    "cat_df['First Registration'].head(2)"
   ]
  },
  {
   "cell_type": "code",
   "execution_count": 64,
   "id": "f062f359",
   "metadata": {},
   "outputs": [],
   "source": [
    "cat_df['first_registration'] = cat_df['First Registration'].str[1]"
   ]
  },
  {
   "cell_type": "code",
   "execution_count": 65,
   "id": "2f725288",
   "metadata": {},
   "outputs": [],
   "source": [
    "cat_df = cat_df.drop(['First Registration'], axis=1)"
   ]
  },
  {
   "cell_type": "markdown",
   "id": "8cacbdb0",
   "metadata": {},
   "source": [
    "**'registration'**"
   ]
  },
  {
   "cell_type": "code",
   "execution_count": 66,
   "id": "b28057d8",
   "metadata": {
    "scrolled": false
   },
   "outputs": [
    {
     "data": {
      "text/plain": [
       "-/-        1442\n",
       "03/2018     686\n",
       "05/2018     552\n",
       "02/2019     539\n",
       "04/2018     534\n",
       "Name: registration, dtype: int64"
      ]
     },
     "execution_count": 66,
     "metadata": {},
     "output_type": "execute_result"
    }
   ],
   "source": [
    "cat_df['registration'].value_counts(dropna = False).head()"
   ]
  },
  {
   "cell_type": "code",
   "execution_count": 67,
   "id": "905bce53",
   "metadata": {
    "scrolled": false
   },
   "outputs": [],
   "source": [
    "cat_df.registration[cat_df['registration']=='-/-'] = cat_df.registration[cat_df['registration']=='-/-'].str[3]"
   ]
  },
  {
   "cell_type": "code",
   "execution_count": 68,
   "id": "9e6364ae",
   "metadata": {
    "scrolled": true
   },
   "outputs": [
    {
     "data": {
      "text/plain": [
       "NaN        1442\n",
       "03/2018     686\n",
       "05/2018     552\n",
       "02/2019     539\n",
       "04/2018     534\n",
       "Name: registration, dtype: int64"
      ]
     },
     "execution_count": 68,
     "metadata": {},
     "output_type": "execute_result"
    }
   ],
   "source": [
    "cat_df['registration'].value_counts(dropna = False).head()"
   ]
  },
  {
   "cell_type": "markdown",
   "id": "ee6dad24",
   "metadata": {},
   "source": [
    "**'Body Color'**"
   ]
  },
  {
   "cell_type": "code",
   "execution_count": 69,
   "id": "cd70b5c9",
   "metadata": {},
   "outputs": [
    {
     "data": {
      "text/plain": [
       "0    [\\n, Black, \\n]\n",
       "1      [\\n, Red, \\n]\n",
       "Name: Body Color, dtype: object"
      ]
     },
     "execution_count": 69,
     "metadata": {},
     "output_type": "execute_result"
    }
   ],
   "source": [
    "cat_df['Body Color'].head(2)"
   ]
  },
  {
   "cell_type": "code",
   "execution_count": 70,
   "id": "16336d9e",
   "metadata": {},
   "outputs": [],
   "source": [
    "cat_df['body_color'] = cat_df['Body Color'].str[1]"
   ]
  },
  {
   "cell_type": "code",
   "execution_count": 71,
   "id": "410e57a9",
   "metadata": {},
   "outputs": [
    {
     "data": {
      "text/plain": [
       "Black     3536\n",
       "Grey      3301\n",
       "White     3088\n",
       "Silver    1568\n",
       "Blue      1346\n",
       "Red        860\n",
       "NaN        531\n",
       "Brown      266\n",
       "Green      146\n",
       "Beige       98\n",
       "Yellow      51\n",
       "Violet      18\n",
       "Bronze       6\n",
       "Orange       3\n",
       "Gold         2\n",
       "Name: body_color, dtype: int64"
      ]
     },
     "execution_count": 71,
     "metadata": {},
     "output_type": "execute_result"
    }
   ],
   "source": [
    "cat_df['body_color'].value_counts(dropna = False)"
   ]
  },
  {
   "cell_type": "code",
   "execution_count": 72,
   "id": "4da020ea",
   "metadata": {},
   "outputs": [],
   "source": [
    "cat_df = cat_df.drop(['Body Color'], axis=1)"
   ]
  },
  {
   "cell_type": "markdown",
   "id": "04d51a13",
   "metadata": {},
   "source": [
    "**'Paint Type'**"
   ]
  },
  {
   "cell_type": "code",
   "execution_count": 73,
   "id": "f1056e43",
   "metadata": {
    "scrolled": true
   },
   "outputs": [
    {
     "data": {
      "text/plain": [
       "0    \\nMetallic\\n\n",
       "1             NaN\n",
       "2    \\nMetallic\\n\n",
       "3    \\nMetallic\\n\n",
       "4    \\nMetallic\\n\n",
       "Name: Paint Type, dtype: object"
      ]
     },
     "execution_count": 73,
     "metadata": {},
     "output_type": "execute_result"
    }
   ],
   "source": [
    "cat_df['Paint Type'].str[0].head()"
   ]
  },
  {
   "cell_type": "code",
   "execution_count": 74,
   "id": "67bd90b8",
   "metadata": {},
   "outputs": [],
   "source": [
    "pattern = \"(\\s)\"\n",
    "\n",
    "cat_df[\"paint_type\"] = cat_df[\"Paint Type\"].str[0].str.split(pattern).str[2]"
   ]
  },
  {
   "cell_type": "code",
   "execution_count": 75,
   "id": "ba886882",
   "metadata": {
    "scrolled": false
   },
   "outputs": [
    {
     "data": {
      "text/plain": [
       "Metallic     9168\n",
       "NaN          5315\n",
       "Uni/basic     331\n",
       "Perl            6\n",
       "Name: paint_type, dtype: int64"
      ]
     },
     "execution_count": 75,
     "metadata": {},
     "output_type": "execute_result"
    }
   ],
   "source": [
    "cat_df[\"paint_type\"].value_counts(dropna = False)"
   ]
  },
  {
   "cell_type": "code",
   "execution_count": 76,
   "id": "0cb383e1",
   "metadata": {},
   "outputs": [],
   "source": [
    "cat_df = cat_df.drop(['Paint Type'], axis=1)"
   ]
  },
  {
   "cell_type": "markdown",
   "id": "c836b07f",
   "metadata": {},
   "source": [
    "**'Body Color Original'**"
   ]
  },
  {
   "cell_type": "code",
   "execution_count": 77,
   "id": "fa8aab51",
   "metadata": {
    "scrolled": false
   },
   "outputs": [
    {
     "data": {
      "text/plain": [
       "0             \\nMythosschwarz\\n\n",
       "1                           NaN\n",
       "2    \\nmythosschwarz metallic\\n\n",
       "3                           NaN\n",
       "4    \\nMythosschwarz Metallic\\n\n",
       "Name: Body Color Original, dtype: object"
      ]
     },
     "execution_count": 77,
     "metadata": {},
     "output_type": "execute_result"
    }
   ],
   "source": [
    "cat_df['Body Color Original'].str[0].head()"
   ]
  },
  {
   "cell_type": "raw",
   "id": "d7f384f6",
   "metadata": {},
   "source": [
    "pattern = \"(\\s)\"\n",
    "\n",
    "cat_df['body_color_original'] = cat_df['Body Color Original'].str[0].str.split(pattern).str[2]"
   ]
  },
  {
   "cell_type": "raw",
   "id": "92c27bc6",
   "metadata": {
    "scrolled": true
   },
   "source": [
    "cat_df['body_color_original'].value_counts(dropna = False)"
   ]
  },
  {
   "cell_type": "code",
   "execution_count": 78,
   "id": "ed177887",
   "metadata": {},
   "outputs": [],
   "source": [
    "cat_df = cat_df.drop(['Body Color Original'], axis=1)"
   ]
  },
  {
   "cell_type": "markdown",
   "id": "82b55224",
   "metadata": {},
   "source": [
    "**'Upholstery'**"
   ]
  },
  {
   "cell_type": "code",
   "execution_count": 79,
   "id": "b7364288",
   "metadata": {},
   "outputs": [
    {
     "data": {
      "text/plain": [
       "0    \\nCloth, Black\\n\n",
       "1     \\nCloth, Grey\\n\n",
       "2    \\nCloth, Black\\n\n",
       "3                 NaN\n",
       "4    \\nCloth, Black\\n\n",
       "Name: Upholstery, dtype: object"
      ]
     },
     "execution_count": 79,
     "metadata": {},
     "output_type": "execute_result"
    }
   ],
   "source": [
    "cat_df['Upholstery'].str[0].head()"
   ]
  },
  {
   "cell_type": "code",
   "execution_count": 80,
   "id": "5caaea8b",
   "metadata": {},
   "outputs": [],
   "source": [
    "pattern = \"(\\s)\"\n",
    "\n",
    "cat_df['upholstery'] = cat_df['Upholstery'].str[0].str.replace('\\n','')"
   ]
  },
  {
   "cell_type": "code",
   "execution_count": 81,
   "id": "03a54f72",
   "metadata": {
    "scrolled": true
   },
   "outputs": [
    {
     "data": {
      "text/plain": [
       "Cloth, Black           5559\n",
       "NaN                    3508\n",
       "Part leather, Black    1036\n",
       "Cloth                   958\n",
       "Cloth, Grey             796\n",
       "Name: upholstery, dtype: int64"
      ]
     },
     "execution_count": 81,
     "metadata": {},
     "output_type": "execute_result"
    }
   ],
   "source": [
    "cat_df['upholstery'].value_counts(dropna = False).head()"
   ]
  },
  {
   "cell_type": "code",
   "execution_count": 82,
   "id": "1239e781",
   "metadata": {},
   "outputs": [],
   "source": [
    "cat_df = cat_df.drop(['Upholstery'], axis=1)"
   ]
  },
  {
   "cell_type": "markdown",
   "id": "af2bfd55",
   "metadata": {},
   "source": [
    "**'Body'**"
   ]
  },
  {
   "cell_type": "code",
   "execution_count": 83,
   "id": "f4be9ddc",
   "metadata": {},
   "outputs": [
    {
     "data": {
      "text/plain": [
       "0    [\\n, Sedans, \\n]\n",
       "1    [\\n, Sedans, \\n]\n",
       "2    [\\n, Sedans, \\n]\n",
       "3    [\\n, Sedans, \\n]\n",
       "4    [\\n, Sedans, \\n]\n",
       "Name: Body, dtype: object"
      ]
     },
     "execution_count": 83,
     "metadata": {},
     "output_type": "execute_result"
    }
   ],
   "source": [
    "cat_df['Body'].head()"
   ]
  },
  {
   "cell_type": "code",
   "execution_count": 84,
   "id": "095fac0f",
   "metadata": {},
   "outputs": [],
   "source": [
    "cat_df = cat_df.drop(['Body'], axis=1)"
   ]
  },
  {
   "cell_type": "markdown",
   "id": "40721713",
   "metadata": {},
   "source": [
    "**'Gearing Type'**"
   ]
  },
  {
   "cell_type": "code",
   "execution_count": 85,
   "id": "9e872fb6",
   "metadata": {},
   "outputs": [
    {
     "data": {
      "text/plain": [
       "0    [\\n, Automatic, \\n]\n",
       "1    [\\n, Automatic, \\n]\n",
       "2    [\\n, Automatic, \\n]\n",
       "3    [\\n, Automatic, \\n]\n",
       "4    [\\n, Automatic, \\n]\n",
       "Name: Gearing Type, dtype: object"
      ]
     },
     "execution_count": 85,
     "metadata": {},
     "output_type": "execute_result"
    }
   ],
   "source": [
    "cat_df['Gearing Type'].head()"
   ]
  },
  {
   "cell_type": "code",
   "execution_count": 86,
   "id": "da2fc49f",
   "metadata": {},
   "outputs": [],
   "source": [
    "cat_df['gearing_type'] = cat_df['Gearing Type'].str[1]"
   ]
  },
  {
   "cell_type": "code",
   "execution_count": 87,
   "id": "38d7cf44",
   "metadata": {
    "scrolled": true
   },
   "outputs": [
    {
     "data": {
      "text/plain": [
       "Manual            7525\n",
       "Automatic         6828\n",
       "Semi-automatic     467\n",
       "Name: gearing_type, dtype: int64"
      ]
     },
     "execution_count": 87,
     "metadata": {},
     "output_type": "execute_result"
    }
   ],
   "source": [
    "cat_df['gearing_type'].value_counts(dropna = False)"
   ]
  },
  {
   "cell_type": "code",
   "execution_count": 88,
   "id": "d1c6b006",
   "metadata": {},
   "outputs": [],
   "source": [
    "cat_df = cat_df.drop(['Gearing Type'], axis=1)"
   ]
  },
  {
   "cell_type": "markdown",
   "id": "ed8b7f1a",
   "metadata": {},
   "source": [
    "**'Fuel'**"
   ]
  },
  {
   "cell_type": "code",
   "execution_count": 89,
   "id": "a4eb0fb4",
   "metadata": {},
   "outputs": [
    {
     "data": {
      "text/plain": [
       "0    [\\n, Diesel (Particulate Filter), \\n]\n",
       "1                       [\\n, Gasoline, \\n]\n",
       "2    [\\n, Diesel (Particulate Filter), \\n]\n",
       "3    [\\n, Diesel (Particulate Filter), \\n]\n",
       "4    [\\n, Diesel (Particulate Filter), \\n]\n",
       "Name: Fuel, dtype: object"
      ]
     },
     "execution_count": 89,
     "metadata": {},
     "output_type": "execute_result"
    }
   ],
   "source": [
    "cat_df['Fuel'].head()"
   ]
  },
  {
   "cell_type": "code",
   "execution_count": 90,
   "id": "49f83d38",
   "metadata": {},
   "outputs": [],
   "source": [
    "cat_df['fuel'] = cat_df['Fuel'].str[1]"
   ]
  },
  {
   "cell_type": "code",
   "execution_count": 91,
   "id": "d32c73d8",
   "metadata": {},
   "outputs": [
    {
     "data": {
      "text/plain": [
       "Diesel (Particulate Filter)      4025\n",
       "Super 95                         3130\n",
       "Gasoline                         2931\n",
       "Diesel                           2787\n",
       "Super 95 / Regular/Benzine 91     416\n",
       "Name: fuel, dtype: int64"
      ]
     },
     "execution_count": 91,
     "metadata": {},
     "output_type": "execute_result"
    }
   ],
   "source": [
    "cat_df['fuel'].value_counts(dropna = False).head()"
   ]
  },
  {
   "cell_type": "code",
   "execution_count": 92,
   "id": "5b25e981",
   "metadata": {},
   "outputs": [],
   "source": [
    "cat_df = cat_df.drop(['Fuel'], axis=1)"
   ]
  },
  {
   "cell_type": "markdown",
   "id": "4c83429e",
   "metadata": {},
   "source": [
    "**'Emission Class'**"
   ]
  },
  {
   "cell_type": "code",
   "execution_count": 93,
   "id": "9049dabc",
   "metadata": {},
   "outputs": [
    {
     "data": {
      "text/plain": [
       "0    [\\nEuro 6\\n]\n",
       "1    [\\nEuro 6\\n]\n",
       "2    [\\nEuro 6\\n]\n",
       "3    [\\nEuro 6\\n]\n",
       "4    [\\nEuro 6\\n]\n",
       "Name: Emission Class, dtype: object"
      ]
     },
     "execution_count": 93,
     "metadata": {},
     "output_type": "execute_result"
    }
   ],
   "source": [
    "cat_df['Emission Class'].head()"
   ]
  },
  {
   "cell_type": "code",
   "execution_count": 94,
   "id": "299be5be",
   "metadata": {},
   "outputs": [],
   "source": [
    "cat_df['emission_class'] = cat_df['Emission Class'].str[0].str.replace('\\n','')"
   ]
  },
  {
   "cell_type": "code",
   "execution_count": 95,
   "id": "d6c4af0e",
   "metadata": {},
   "outputs": [
    {
     "data": {
      "text/plain": [
       "Euro 6          9496\n",
       "NaN             3335\n",
       "Euro 6d-TEMP    1683\n",
       "Euro 6c          126\n",
       "Euro 5            78\n",
       "Euro 6d           62\n",
       "Euro 4            40\n",
       "Name: emission_class, dtype: int64"
      ]
     },
     "execution_count": 95,
     "metadata": {},
     "output_type": "execute_result"
    }
   ],
   "source": [
    "cat_df['emission_class'].value_counts(dropna = False)"
   ]
  },
  {
   "cell_type": "code",
   "execution_count": 96,
   "id": "4bb7d1bf",
   "metadata": {},
   "outputs": [],
   "source": [
    "cat_df = cat_df.drop(['Emission Class'], axis=1)"
   ]
  },
  {
   "cell_type": "markdown",
   "id": "23ae4b4f",
   "metadata": {},
   "source": [
    "**'Type'**"
   ]
  },
  {
   "cell_type": "code",
   "execution_count": 97,
   "id": "2cbe685c",
   "metadata": {
    "scrolled": false
   },
   "outputs": [
    {
     "data": {
      "text/plain": [
       "0    [, Used, , Diesel (Particulate Filter)]\n",
       "1                       [, Used, , Gasoline]\n",
       "2    [, Used, , Diesel (Particulate Filter)]\n",
       "3    [, Used, , Diesel (Particulate Filter)]\n",
       "4    [, Used, , Diesel (Particulate Filter)]\n",
       "Name: Type, dtype: object"
      ]
     },
     "execution_count": 97,
     "metadata": {},
     "output_type": "execute_result"
    }
   ],
   "source": [
    "cat_df['Type'].head()"
   ]
  },
  {
   "cell_type": "code",
   "execution_count": 98,
   "id": "a00d98f4",
   "metadata": {},
   "outputs": [],
   "source": [
    "cat_df['type'] = cat_df['Type'].str[1].value_counts(dropna = False)"
   ]
  },
  {
   "cell_type": "code",
   "execution_count": 99,
   "id": "22c31624",
   "metadata": {},
   "outputs": [],
   "source": [
    "cat_df = cat_df.drop(['Type'], axis=1)"
   ]
  },
  {
   "cell_type": "markdown",
   "id": "25fb1c13",
   "metadata": {},
   "source": [
    "**'Warranty'**"
   ]
  },
  {
   "cell_type": "code",
   "execution_count": 100,
   "id": "0ce4319b",
   "metadata": {
    "scrolled": false
   },
   "outputs": [
    {
     "data": {
      "text/plain": [
       "0             [\\n, \\n, \\n4 (Green)\\n]\n",
       "1                                 NaN\n",
       "2    [\\n, \\n, \\n99 g CO2/km (comb)\\n]\n",
       "3                                 NaN\n",
       "4                [\\n, \\n, \\nEuro 6\\n]\n",
       "Name: Warranty, dtype: object"
      ]
     },
     "execution_count": 100,
     "metadata": {},
     "output_type": "execute_result"
    }
   ],
   "source": [
    "cat_df['Warranty'].head()"
   ]
  },
  {
   "cell_type": "code",
   "execution_count": 101,
   "id": "67982a0c",
   "metadata": {},
   "outputs": [],
   "source": [
    "cat_df['warranty'] = cat_df['Warranty'].str[0].str.replace('\\n','').str.split(' ').str[0]"
   ]
  },
  {
   "cell_type": "code",
   "execution_count": 102,
   "id": "96d5a980",
   "metadata": {},
   "outputs": [
    {
     "name": "stderr",
     "output_type": "stream",
     "text": [
      "<ipython-input-102-acdb3ec13f65>:1: SettingWithCopyWarning: \n",
      "A value is trying to be set on a copy of a slice from a DataFrame\n",
      "\n",
      "See the caveats in the documentation: https://pandas.pydata.org/pandas-docs/stable/user_guide/indexing.html#returning-a-view-versus-a-copy\n",
      "  cat_df.warranty[cat_df['warranty']==''] = cat_df.warranty[cat_df['warranty']==''].str[3]\n"
     ]
    }
   ],
   "source": [
    "cat_df.warranty[cat_df['warranty']==''] = cat_df.warranty[cat_df['warranty']==''].str[3]"
   ]
  },
  {
   "cell_type": "code",
   "execution_count": 103,
   "id": "258fdb8f",
   "metadata": {},
   "outputs": [],
   "source": [
    "cat_df = cat_df.drop(['Warranty'], axis=1)"
   ]
  },
  {
   "cell_type": "code",
   "execution_count": 104,
   "id": "05122c5c",
   "metadata": {},
   "outputs": [
    {
     "data": {
      "text/plain": [
       "NaN    12126\n",
       "12      1362\n",
       "24       534\n",
       "60       374\n",
       "36       204\n",
       "Name: warranty, dtype: int64"
      ]
     },
     "execution_count": 104,
     "metadata": {},
     "output_type": "execute_result"
    }
   ],
   "source": [
    "cat_df['warranty'].value_counts(dropna=False).head()"
   ]
  },
  {
   "cell_type": "markdown",
   "id": "cdd93423",
   "metadata": {},
   "source": [
    "**'null'**"
   ]
  },
  {
   "cell_type": "code",
   "execution_count": 105,
   "id": "2be4c059",
   "metadata": {},
   "outputs": [],
   "source": [
    "cat_df = cat_df.drop(['null'], axis=1)"
   ]
  },
  {
   "cell_type": "markdown",
   "id": "fdfe35ef",
   "metadata": {},
   "source": [
    "#### Nominal (Extrapolating Multiple Values in one Feature)"
   ]
  },
  {
   "cell_type": "markdown",
   "id": "953f5813",
   "metadata": {},
   "source": [
    "* '\\nComfort & Convenience\\n',\n",
    "* '\\nEntertainment & Media\\n', \n",
    "* '\\nExtras\\n', \n",
    "* '\\nSafety & Security\\n'"
   ]
  },
  {
   "cell_type": "code",
   "execution_count": 106,
   "id": "50f68ea9",
   "metadata": {},
   "outputs": [
    {
     "data": {
      "text/html": [
       "<div>\n",
       "<style scoped>\n",
       "    .dataframe tbody tr th:only-of-type {\n",
       "        vertical-align: middle;\n",
       "    }\n",
       "\n",
       "    .dataframe tbody tr th {\n",
       "        vertical-align: top;\n",
       "    }\n",
       "\n",
       "    .dataframe thead th {\n",
       "        text-align: right;\n",
       "    }\n",
       "</style>\n",
       "<table border=\"1\" class=\"dataframe\">\n",
       "  <thead>\n",
       "    <tr style=\"text-align: right;\">\n",
       "      <th></th>\n",
       "      <th>\\nComfort &amp; Convenience\\n</th>\n",
       "      <th>\\nEntertainment &amp; Media\\n</th>\n",
       "      <th>\\nExtras\\n</th>\n",
       "      <th>\\nSafety &amp; Security\\n</th>\n",
       "    </tr>\n",
       "  </thead>\n",
       "  <tbody>\n",
       "    <tr>\n",
       "      <th>0</th>\n",
       "      <td>[Air conditioning, Armrest, Automatic climate ...</td>\n",
       "      <td>[Bluetooth, Hands-free equipment, On-board com...</td>\n",
       "      <td>[Alloy wheels, Catalytic Converter, Voice Cont...</td>\n",
       "      <td>[ABS, Central door lock, Daytime running light...</td>\n",
       "    </tr>\n",
       "    <tr>\n",
       "      <th>1</th>\n",
       "      <td>[Air conditioning, Automatic climate control, ...</td>\n",
       "      <td>[Bluetooth, Hands-free equipment, On-board com...</td>\n",
       "      <td>[Alloy wheels, Sport seats, Sport suspension, ...</td>\n",
       "      <td>[ABS, Central door lock, Central door lock wit...</td>\n",
       "    </tr>\n",
       "  </tbody>\n",
       "</table>\n",
       "</div>"
      ],
      "text/plain": [
       "                           \\nComfort & Convenience\\n  \\\n",
       "0  [Air conditioning, Armrest, Automatic climate ...   \n",
       "1  [Air conditioning, Automatic climate control, ...   \n",
       "\n",
       "                           \\nEntertainment & Media\\n  \\\n",
       "0  [Bluetooth, Hands-free equipment, On-board com...   \n",
       "1  [Bluetooth, Hands-free equipment, On-board com...   \n",
       "\n",
       "                                          \\nExtras\\n  \\\n",
       "0  [Alloy wheels, Catalytic Converter, Voice Cont...   \n",
       "1  [Alloy wheels, Sport seats, Sport suspension, ...   \n",
       "\n",
       "                               \\nSafety & Security\\n  \n",
       "0  [ABS, Central door lock, Daytime running light...  \n",
       "1  [ABS, Central door lock, Central door lock wit...  "
      ]
     },
     "execution_count": 106,
     "metadata": {},
     "output_type": "execute_result"
    }
   ],
   "source": [
    "cat_df[['\\nComfort & Convenience\\n','\\nEntertainment & Media\\n', '\\nExtras\\n', '\\nSafety & Security\\n']].head(2)"
   ]
  },
  {
   "cell_type": "markdown",
   "id": "0f9865c8",
   "metadata": {},
   "source": [
    "Looking at the first few rows above, it looks like we need to remove the brackets, curly brackets, and quotes."
   ]
  },
  {
   "cell_type": "code",
   "execution_count": 107,
   "id": "23744806",
   "metadata": {},
   "outputs": [],
   "source": [
    "# instantiate the MultiLabelBinarizer\n",
    "mlb = MultiLabelBinarizer()"
   ]
  },
  {
   "cell_type": "code",
   "execution_count": 108,
   "id": "80d5ddb4",
   "metadata": {},
   "outputs": [],
   "source": [
    "# create boolean mask matched non NaNs values\n",
    "mask = cat_df['\\nComfort & Convenience\\n'].notnull()"
   ]
  },
  {
   "cell_type": "code",
   "execution_count": 109,
   "id": "b8cc42cc",
   "metadata": {},
   "outputs": [],
   "source": [
    "# filter by boolean indexing\n",
    "arr = mlb.fit_transform(cat_df.loc[mask, '\\nComfort & Convenience\\n'].dropna())"
   ]
  },
  {
   "cell_type": "code",
   "execution_count": 110,
   "id": "40bd7f1c",
   "metadata": {},
   "outputs": [],
   "source": [
    "#create DataFrame and add missing (NaN)s index values\n",
    "Comf_Conv_df = (pd.DataFrame(arr, index=cat_df.index[mask], columns=mlb.classes_).reindex(cat_df.index, fill_value=0))"
   ]
  },
  {
   "cell_type": "code",
   "execution_count": 111,
   "id": "18e21ac1",
   "metadata": {
    "scrolled": false
   },
   "outputs": [
    {
     "data": {
      "text/html": [
       "<div>\n",
       "<style scoped>\n",
       "    .dataframe tbody tr th:only-of-type {\n",
       "        vertical-align: middle;\n",
       "    }\n",
       "\n",
       "    .dataframe tbody tr th {\n",
       "        vertical-align: top;\n",
       "    }\n",
       "\n",
       "    .dataframe thead th {\n",
       "        text-align: right;\n",
       "    }\n",
       "</style>\n",
       "<table border=\"1\" class=\"dataframe\">\n",
       "  <thead>\n",
       "    <tr style=\"text-align: right;\">\n",
       "      <th></th>\n",
       "      <th>0</th>\n",
       "      <th>1</th>\n",
       "      <th>2</th>\n",
       "      <th>3</th>\n",
       "      <th>4</th>\n",
       "    </tr>\n",
       "  </thead>\n",
       "  <tbody>\n",
       "    <tr>\n",
       "      <th>Air conditioning</th>\n",
       "      <td>1</td>\n",
       "      <td>1</td>\n",
       "      <td>1</td>\n",
       "      <td>0</td>\n",
       "      <td>1</td>\n",
       "    </tr>\n",
       "    <tr>\n",
       "      <th>Air suspension</th>\n",
       "      <td>0</td>\n",
       "      <td>0</td>\n",
       "      <td>0</td>\n",
       "      <td>1</td>\n",
       "      <td>0</td>\n",
       "    </tr>\n",
       "    <tr>\n",
       "      <th>Armrest</th>\n",
       "      <td>1</td>\n",
       "      <td>0</td>\n",
       "      <td>0</td>\n",
       "      <td>1</td>\n",
       "      <td>1</td>\n",
       "    </tr>\n",
       "    <tr>\n",
       "      <th>Automatic climate control</th>\n",
       "      <td>1</td>\n",
       "      <td>1</td>\n",
       "      <td>0</td>\n",
       "      <td>0</td>\n",
       "      <td>1</td>\n",
       "    </tr>\n",
       "    <tr>\n",
       "      <th>Auxiliary heating</th>\n",
       "      <td>0</td>\n",
       "      <td>0</td>\n",
       "      <td>0</td>\n",
       "      <td>1</td>\n",
       "      <td>0</td>\n",
       "    </tr>\n",
       "    <tr>\n",
       "      <th>Cruise control</th>\n",
       "      <td>1</td>\n",
       "      <td>0</td>\n",
       "      <td>1</td>\n",
       "      <td>0</td>\n",
       "      <td>0</td>\n",
       "    </tr>\n",
       "    <tr>\n",
       "      <th>Electric Starter</th>\n",
       "      <td>0</td>\n",
       "      <td>0</td>\n",
       "      <td>0</td>\n",
       "      <td>0</td>\n",
       "      <td>0</td>\n",
       "    </tr>\n",
       "    <tr>\n",
       "      <th>Electric tailgate</th>\n",
       "      <td>0</td>\n",
       "      <td>0</td>\n",
       "      <td>0</td>\n",
       "      <td>0</td>\n",
       "      <td>0</td>\n",
       "    </tr>\n",
       "    <tr>\n",
       "      <th>Electrical side mirrors</th>\n",
       "      <td>1</td>\n",
       "      <td>0</td>\n",
       "      <td>1</td>\n",
       "      <td>1</td>\n",
       "      <td>1</td>\n",
       "    </tr>\n",
       "    <tr>\n",
       "      <th>Electrically adjustable seats</th>\n",
       "      <td>0</td>\n",
       "      <td>0</td>\n",
       "      <td>0</td>\n",
       "      <td>0</td>\n",
       "      <td>0</td>\n",
       "    </tr>\n",
       "    <tr>\n",
       "      <th>Electrically heated windshield</th>\n",
       "      <td>0</td>\n",
       "      <td>0</td>\n",
       "      <td>0</td>\n",
       "      <td>0</td>\n",
       "      <td>0</td>\n",
       "    </tr>\n",
       "    <tr>\n",
       "      <th>Heads-up display</th>\n",
       "      <td>0</td>\n",
       "      <td>0</td>\n",
       "      <td>0</td>\n",
       "      <td>1</td>\n",
       "      <td>0</td>\n",
       "    </tr>\n",
       "    <tr>\n",
       "      <th>Heated steering wheel</th>\n",
       "      <td>0</td>\n",
       "      <td>0</td>\n",
       "      <td>0</td>\n",
       "      <td>0</td>\n",
       "      <td>0</td>\n",
       "    </tr>\n",
       "    <tr>\n",
       "      <th>Hill Holder</th>\n",
       "      <td>1</td>\n",
       "      <td>1</td>\n",
       "      <td>1</td>\n",
       "      <td>1</td>\n",
       "      <td>1</td>\n",
       "    </tr>\n",
       "    <tr>\n",
       "      <th>Keyless central door lock</th>\n",
       "      <td>0</td>\n",
       "      <td>0</td>\n",
       "      <td>0</td>\n",
       "      <td>0</td>\n",
       "      <td>0</td>\n",
       "    </tr>\n",
       "    <tr>\n",
       "      <th>Leather seats</th>\n",
       "      <td>0</td>\n",
       "      <td>0</td>\n",
       "      <td>0</td>\n",
       "      <td>0</td>\n",
       "      <td>0</td>\n",
       "    </tr>\n",
       "    <tr>\n",
       "      <th>Leather steering wheel</th>\n",
       "      <td>1</td>\n",
       "      <td>1</td>\n",
       "      <td>1</td>\n",
       "      <td>1</td>\n",
       "      <td>1</td>\n",
       "    </tr>\n",
       "    <tr>\n",
       "      <th>Light sensor</th>\n",
       "      <td>1</td>\n",
       "      <td>0</td>\n",
       "      <td>0</td>\n",
       "      <td>1</td>\n",
       "      <td>1</td>\n",
       "    </tr>\n",
       "    <tr>\n",
       "      <th>Lumbar support</th>\n",
       "      <td>0</td>\n",
       "      <td>1</td>\n",
       "      <td>0</td>\n",
       "      <td>1</td>\n",
       "      <td>0</td>\n",
       "    </tr>\n",
       "    <tr>\n",
       "      <th>Massage seats</th>\n",
       "      <td>0</td>\n",
       "      <td>0</td>\n",
       "      <td>0</td>\n",
       "      <td>0</td>\n",
       "      <td>0</td>\n",
       "    </tr>\n",
       "    <tr>\n",
       "      <th>Multi-function steering wheel</th>\n",
       "      <td>1</td>\n",
       "      <td>0</td>\n",
       "      <td>1</td>\n",
       "      <td>1</td>\n",
       "      <td>1</td>\n",
       "    </tr>\n",
       "    <tr>\n",
       "      <th>Navigation system</th>\n",
       "      <td>1</td>\n",
       "      <td>0</td>\n",
       "      <td>1</td>\n",
       "      <td>1</td>\n",
       "      <td>0</td>\n",
       "    </tr>\n",
       "    <tr>\n",
       "      <th>Panorama roof</th>\n",
       "      <td>0</td>\n",
       "      <td>0</td>\n",
       "      <td>0</td>\n",
       "      <td>0</td>\n",
       "      <td>0</td>\n",
       "    </tr>\n",
       "    <tr>\n",
       "      <th>Park Distance Control</th>\n",
       "      <td>1</td>\n",
       "      <td>0</td>\n",
       "      <td>1</td>\n",
       "      <td>0</td>\n",
       "      <td>1</td>\n",
       "    </tr>\n",
       "    <tr>\n",
       "      <th>Parking assist system camera</th>\n",
       "      <td>0</td>\n",
       "      <td>0</td>\n",
       "      <td>0</td>\n",
       "      <td>0</td>\n",
       "      <td>0</td>\n",
       "    </tr>\n",
       "    <tr>\n",
       "      <th>Parking assist system self-steering</th>\n",
       "      <td>0</td>\n",
       "      <td>0</td>\n",
       "      <td>0</td>\n",
       "      <td>0</td>\n",
       "      <td>0</td>\n",
       "    </tr>\n",
       "    <tr>\n",
       "      <th>Parking assist system sensors front</th>\n",
       "      <td>0</td>\n",
       "      <td>0</td>\n",
       "      <td>1</td>\n",
       "      <td>0</td>\n",
       "      <td>0</td>\n",
       "    </tr>\n",
       "    <tr>\n",
       "      <th>Parking assist system sensors rear</th>\n",
       "      <td>1</td>\n",
       "      <td>1</td>\n",
       "      <td>1</td>\n",
       "      <td>0</td>\n",
       "      <td>1</td>\n",
       "    </tr>\n",
       "    <tr>\n",
       "      <th>Power windows</th>\n",
       "      <td>1</td>\n",
       "      <td>1</td>\n",
       "      <td>1</td>\n",
       "      <td>1</td>\n",
       "      <td>1</td>\n",
       "    </tr>\n",
       "    <tr>\n",
       "      <th>Rain sensor</th>\n",
       "      <td>1</td>\n",
       "      <td>0</td>\n",
       "      <td>0</td>\n",
       "      <td>1</td>\n",
       "      <td>1</td>\n",
       "    </tr>\n",
       "    <tr>\n",
       "      <th>Seat heating</th>\n",
       "      <td>1</td>\n",
       "      <td>0</td>\n",
       "      <td>1</td>\n",
       "      <td>1</td>\n",
       "      <td>0</td>\n",
       "    </tr>\n",
       "    <tr>\n",
       "      <th>Seat ventilation</th>\n",
       "      <td>0</td>\n",
       "      <td>0</td>\n",
       "      <td>0</td>\n",
       "      <td>0</td>\n",
       "      <td>0</td>\n",
       "    </tr>\n",
       "    <tr>\n",
       "      <th>Split rear seats</th>\n",
       "      <td>0</td>\n",
       "      <td>0</td>\n",
       "      <td>0</td>\n",
       "      <td>1</td>\n",
       "      <td>0</td>\n",
       "    </tr>\n",
       "    <tr>\n",
       "      <th>Start-stop system</th>\n",
       "      <td>1</td>\n",
       "      <td>1</td>\n",
       "      <td>1</td>\n",
       "      <td>1</td>\n",
       "      <td>1</td>\n",
       "    </tr>\n",
       "    <tr>\n",
       "      <th>Sunroof</th>\n",
       "      <td>0</td>\n",
       "      <td>0</td>\n",
       "      <td>0</td>\n",
       "      <td>0</td>\n",
       "      <td>0</td>\n",
       "    </tr>\n",
       "    <tr>\n",
       "      <th>Tinted windows</th>\n",
       "      <td>0</td>\n",
       "      <td>1</td>\n",
       "      <td>0</td>\n",
       "      <td>0</td>\n",
       "      <td>0</td>\n",
       "    </tr>\n",
       "    <tr>\n",
       "      <th>Wind deflector</th>\n",
       "      <td>0</td>\n",
       "      <td>0</td>\n",
       "      <td>0</td>\n",
       "      <td>0</td>\n",
       "      <td>0</td>\n",
       "    </tr>\n",
       "    <tr>\n",
       "      <th>Windshield</th>\n",
       "      <td>0</td>\n",
       "      <td>0</td>\n",
       "      <td>0</td>\n",
       "      <td>0</td>\n",
       "      <td>0</td>\n",
       "    </tr>\n",
       "  </tbody>\n",
       "</table>\n",
       "</div>"
      ],
      "text/plain": [
       "                                     0  1  2  3  4\n",
       "Air conditioning                     1  1  1  0  1\n",
       "Air suspension                       0  0  0  1  0\n",
       "Armrest                              1  0  0  1  1\n",
       "Automatic climate control            1  1  0  0  1\n",
       "Auxiliary heating                    0  0  0  1  0\n",
       "Cruise control                       1  0  1  0  0\n",
       "Electric Starter                     0  0  0  0  0\n",
       "Electric tailgate                    0  0  0  0  0\n",
       "Electrical side mirrors              1  0  1  1  1\n",
       "Electrically adjustable seats        0  0  0  0  0\n",
       "Electrically heated windshield       0  0  0  0  0\n",
       "Heads-up display                     0  0  0  1  0\n",
       "Heated steering wheel                0  0  0  0  0\n",
       "Hill Holder                          1  1  1  1  1\n",
       "Keyless central door lock            0  0  0  0  0\n",
       "Leather seats                        0  0  0  0  0\n",
       "Leather steering wheel               1  1  1  1  1\n",
       "Light sensor                         1  0  0  1  1\n",
       "Lumbar support                       0  1  0  1  0\n",
       "Massage seats                        0  0  0  0  0\n",
       "Multi-function steering wheel        1  0  1  1  1\n",
       "Navigation system                    1  0  1  1  0\n",
       "Panorama roof                        0  0  0  0  0\n",
       "Park Distance Control                1  0  1  0  1\n",
       "Parking assist system camera         0  0  0  0  0\n",
       "Parking assist system self-steering  0  0  0  0  0\n",
       "Parking assist system sensors front  0  0  1  0  0\n",
       "Parking assist system sensors rear   1  1  1  0  1\n",
       "Power windows                        1  1  1  1  1\n",
       "Rain sensor                          1  0  0  1  1\n",
       "Seat heating                         1  0  1  1  0\n",
       "Seat ventilation                     0  0  0  0  0\n",
       "Split rear seats                     0  0  0  1  0\n",
       "Start-stop system                    1  1  1  1  1\n",
       "Sunroof                              0  0  0  0  0\n",
       "Tinted windows                       0  1  0  0  0\n",
       "Wind deflector                       0  0  0  0  0\n",
       "Windshield                           0  0  0  0  0"
      ]
     },
     "execution_count": 111,
     "metadata": {},
     "output_type": "execute_result"
    }
   ],
   "source": [
    "Comf_Conv_df.head().T"
   ]
  },
  {
   "cell_type": "markdown",
   "id": "d229033c",
   "metadata": {},
   "source": [
    "**\\nEntertainment & Media\\n**"
   ]
  },
  {
   "cell_type": "code",
   "execution_count": 112,
   "id": "08fe2b77",
   "metadata": {},
   "outputs": [
    {
     "data": {
      "text/html": [
       "<div>\n",
       "<style scoped>\n",
       "    .dataframe tbody tr th:only-of-type {\n",
       "        vertical-align: middle;\n",
       "    }\n",
       "\n",
       "    .dataframe tbody tr th {\n",
       "        vertical-align: top;\n",
       "    }\n",
       "\n",
       "    .dataframe thead th {\n",
       "        text-align: right;\n",
       "    }\n",
       "</style>\n",
       "<table border=\"1\" class=\"dataframe\">\n",
       "  <thead>\n",
       "    <tr style=\"text-align: right;\">\n",
       "      <th></th>\n",
       "      <th>0</th>\n",
       "      <th>1</th>\n",
       "      <th>2</th>\n",
       "      <th>3</th>\n",
       "      <th>4</th>\n",
       "    </tr>\n",
       "  </thead>\n",
       "  <tbody>\n",
       "    <tr>\n",
       "      <th>Bluetooth</th>\n",
       "      <td>1</td>\n",
       "      <td>1</td>\n",
       "      <td>0</td>\n",
       "      <td>1</td>\n",
       "      <td>1</td>\n",
       "    </tr>\n",
       "    <tr>\n",
       "      <th>CD player</th>\n",
       "      <td>0</td>\n",
       "      <td>0</td>\n",
       "      <td>0</td>\n",
       "      <td>1</td>\n",
       "      <td>1</td>\n",
       "    </tr>\n",
       "    <tr>\n",
       "      <th>Digital radio</th>\n",
       "      <td>0</td>\n",
       "      <td>0</td>\n",
       "      <td>0</td>\n",
       "      <td>0</td>\n",
       "      <td>0</td>\n",
       "    </tr>\n",
       "    <tr>\n",
       "      <th>Hands-free equipment</th>\n",
       "      <td>1</td>\n",
       "      <td>1</td>\n",
       "      <td>0</td>\n",
       "      <td>1</td>\n",
       "      <td>1</td>\n",
       "    </tr>\n",
       "    <tr>\n",
       "      <th>MP3</th>\n",
       "      <td>0</td>\n",
       "      <td>0</td>\n",
       "      <td>1</td>\n",
       "      <td>1</td>\n",
       "      <td>1</td>\n",
       "    </tr>\n",
       "    <tr>\n",
       "      <th>On-board computer</th>\n",
       "      <td>1</td>\n",
       "      <td>1</td>\n",
       "      <td>1</td>\n",
       "      <td>1</td>\n",
       "      <td>1</td>\n",
       "    </tr>\n",
       "    <tr>\n",
       "      <th>Radio</th>\n",
       "      <td>1</td>\n",
       "      <td>1</td>\n",
       "      <td>0</td>\n",
       "      <td>1</td>\n",
       "      <td>1</td>\n",
       "    </tr>\n",
       "    <tr>\n",
       "      <th>Sound system</th>\n",
       "      <td>0</td>\n",
       "      <td>1</td>\n",
       "      <td>0</td>\n",
       "      <td>1</td>\n",
       "      <td>0</td>\n",
       "    </tr>\n",
       "    <tr>\n",
       "      <th>Television</th>\n",
       "      <td>0</td>\n",
       "      <td>0</td>\n",
       "      <td>0</td>\n",
       "      <td>0</td>\n",
       "      <td>0</td>\n",
       "    </tr>\n",
       "    <tr>\n",
       "      <th>USB</th>\n",
       "      <td>0</td>\n",
       "      <td>0</td>\n",
       "      <td>0</td>\n",
       "      <td>1</td>\n",
       "      <td>1</td>\n",
       "    </tr>\n",
       "  </tbody>\n",
       "</table>\n",
       "</div>"
      ],
      "text/plain": [
       "                      0  1  2  3  4\n",
       "Bluetooth             1  1  0  1  1\n",
       "CD player             0  0  0  1  1\n",
       "Digital radio         0  0  0  0  0\n",
       "Hands-free equipment  1  1  0  1  1\n",
       "MP3                   0  0  1  1  1\n",
       "On-board computer     1  1  1  1  1\n",
       "Radio                 1  1  0  1  1\n",
       "Sound system          0  1  0  1  0\n",
       "Television            0  0  0  0  0\n",
       "USB                   0  0  0  1  1"
      ]
     },
     "execution_count": 112,
     "metadata": {},
     "output_type": "execute_result"
    }
   ],
   "source": [
    "# create boolean mask matched non NaNs values\n",
    "mask = cat_df['\\nEntertainment & Media\\n'].notnull()\n",
    "\n",
    "# filter by boolean indexing\n",
    "arr = mlb.fit_transform(cat_df.loc[mask, '\\nEntertainment & Media\\n'].dropna())\n",
    "\n",
    "#create DataFrame and add missing (NaN)s index values\n",
    "Ent_Med_df = (pd.DataFrame(arr, index=cat_df.index[mask], columns=mlb.classes_).reindex(cat_df.index, fill_value=0))\n",
    "\n",
    "Ent_Med_df.head().T"
   ]
  },
  {
   "cell_type": "markdown",
   "id": "10acba67",
   "metadata": {},
   "source": [
    "**\\nExtras\\n**"
   ]
  },
  {
   "cell_type": "code",
   "execution_count": 113,
   "id": "d6638956",
   "metadata": {
    "scrolled": false
   },
   "outputs": [
    {
     "data": {
      "text/html": [
       "<div>\n",
       "<style scoped>\n",
       "    .dataframe tbody tr th:only-of-type {\n",
       "        vertical-align: middle;\n",
       "    }\n",
       "\n",
       "    .dataframe tbody tr th {\n",
       "        vertical-align: top;\n",
       "    }\n",
       "\n",
       "    .dataframe thead th {\n",
       "        text-align: right;\n",
       "    }\n",
       "</style>\n",
       "<table border=\"1\" class=\"dataframe\">\n",
       "  <thead>\n",
       "    <tr style=\"text-align: right;\">\n",
       "      <th></th>\n",
       "      <th>0</th>\n",
       "      <th>1</th>\n",
       "      <th>2</th>\n",
       "      <th>3</th>\n",
       "      <th>4</th>\n",
       "    </tr>\n",
       "  </thead>\n",
       "  <tbody>\n",
       "    <tr>\n",
       "      <th>Alloy wheels</th>\n",
       "      <td>1</td>\n",
       "      <td>1</td>\n",
       "      <td>1</td>\n",
       "      <td>1</td>\n",
       "      <td>1</td>\n",
       "    </tr>\n",
       "    <tr>\n",
       "      <th>Cab or rented Car</th>\n",
       "      <td>0</td>\n",
       "      <td>0</td>\n",
       "      <td>0</td>\n",
       "      <td>0</td>\n",
       "      <td>0</td>\n",
       "    </tr>\n",
       "    <tr>\n",
       "      <th>Catalytic Converter</th>\n",
       "      <td>1</td>\n",
       "      <td>0</td>\n",
       "      <td>0</td>\n",
       "      <td>0</td>\n",
       "      <td>0</td>\n",
       "    </tr>\n",
       "    <tr>\n",
       "      <th>Handicapped enabled</th>\n",
       "      <td>0</td>\n",
       "      <td>0</td>\n",
       "      <td>0</td>\n",
       "      <td>0</td>\n",
       "      <td>0</td>\n",
       "    </tr>\n",
       "    <tr>\n",
       "      <th>Right hand drive</th>\n",
       "      <td>0</td>\n",
       "      <td>0</td>\n",
       "      <td>0</td>\n",
       "      <td>0</td>\n",
       "      <td>0</td>\n",
       "    </tr>\n",
       "    <tr>\n",
       "      <th>Roof rack</th>\n",
       "      <td>0</td>\n",
       "      <td>0</td>\n",
       "      <td>0</td>\n",
       "      <td>0</td>\n",
       "      <td>0</td>\n",
       "    </tr>\n",
       "    <tr>\n",
       "      <th>Shift paddles</th>\n",
       "      <td>0</td>\n",
       "      <td>0</td>\n",
       "      <td>0</td>\n",
       "      <td>0</td>\n",
       "      <td>0</td>\n",
       "    </tr>\n",
       "    <tr>\n",
       "      <th>Ski bag</th>\n",
       "      <td>0</td>\n",
       "      <td>0</td>\n",
       "      <td>0</td>\n",
       "      <td>0</td>\n",
       "      <td>0</td>\n",
       "    </tr>\n",
       "    <tr>\n",
       "      <th>Sliding door</th>\n",
       "      <td>0</td>\n",
       "      <td>0</td>\n",
       "      <td>0</td>\n",
       "      <td>0</td>\n",
       "      <td>0</td>\n",
       "    </tr>\n",
       "    <tr>\n",
       "      <th>Sport package</th>\n",
       "      <td>0</td>\n",
       "      <td>0</td>\n",
       "      <td>0</td>\n",
       "      <td>0</td>\n",
       "      <td>1</td>\n",
       "    </tr>\n",
       "    <tr>\n",
       "      <th>Sport seats</th>\n",
       "      <td>0</td>\n",
       "      <td>1</td>\n",
       "      <td>0</td>\n",
       "      <td>1</td>\n",
       "      <td>0</td>\n",
       "    </tr>\n",
       "    <tr>\n",
       "      <th>Sport suspension</th>\n",
       "      <td>0</td>\n",
       "      <td>1</td>\n",
       "      <td>0</td>\n",
       "      <td>0</td>\n",
       "      <td>1</td>\n",
       "    </tr>\n",
       "    <tr>\n",
       "      <th>Touch screen</th>\n",
       "      <td>0</td>\n",
       "      <td>0</td>\n",
       "      <td>0</td>\n",
       "      <td>0</td>\n",
       "      <td>0</td>\n",
       "    </tr>\n",
       "    <tr>\n",
       "      <th>Trailer hitch</th>\n",
       "      <td>0</td>\n",
       "      <td>0</td>\n",
       "      <td>0</td>\n",
       "      <td>0</td>\n",
       "      <td>0</td>\n",
       "    </tr>\n",
       "    <tr>\n",
       "      <th>Tuned car</th>\n",
       "      <td>0</td>\n",
       "      <td>0</td>\n",
       "      <td>0</td>\n",
       "      <td>0</td>\n",
       "      <td>0</td>\n",
       "    </tr>\n",
       "    <tr>\n",
       "      <th>Voice Control</th>\n",
       "      <td>1</td>\n",
       "      <td>1</td>\n",
       "      <td>1</td>\n",
       "      <td>1</td>\n",
       "      <td>1</td>\n",
       "    </tr>\n",
       "    <tr>\n",
       "      <th>Winter tyres</th>\n",
       "      <td>0</td>\n",
       "      <td>0</td>\n",
       "      <td>0</td>\n",
       "      <td>0</td>\n",
       "      <td>0</td>\n",
       "    </tr>\n",
       "  </tbody>\n",
       "</table>\n",
       "</div>"
      ],
      "text/plain": [
       "                     0  1  2  3  4\n",
       "Alloy wheels         1  1  1  1  1\n",
       "Cab or rented Car    0  0  0  0  0\n",
       "Catalytic Converter  1  0  0  0  0\n",
       "Handicapped enabled  0  0  0  0  0\n",
       "Right hand drive     0  0  0  0  0\n",
       "Roof rack            0  0  0  0  0\n",
       "Shift paddles        0  0  0  0  0\n",
       "Ski bag              0  0  0  0  0\n",
       "Sliding door         0  0  0  0  0\n",
       "Sport package        0  0  0  0  1\n",
       "Sport seats          0  1  0  1  0\n",
       "Sport suspension     0  1  0  0  1\n",
       "Touch screen         0  0  0  0  0\n",
       "Trailer hitch        0  0  0  0  0\n",
       "Tuned car            0  0  0  0  0\n",
       "Voice Control        1  1  1  1  1\n",
       "Winter tyres         0  0  0  0  0"
      ]
     },
     "execution_count": 113,
     "metadata": {},
     "output_type": "execute_result"
    }
   ],
   "source": [
    "# create boolean mask matched non NaNs values\n",
    "mask = cat_df['\\nExtras\\n'].notnull()\n",
    "\n",
    "# filter by boolean indexing\n",
    "arr = mlb.fit_transform(cat_df.loc[mask, '\\nExtras\\n'].dropna())\n",
    "\n",
    "#create DataFrame and add missing (NaN)s index values\n",
    "Extras_df = (pd.DataFrame(arr, index=cat_df.index[mask], columns=mlb.classes_).reindex(cat_df.index, fill_value=0))\n",
    "\n",
    "Extras_df.head().T"
   ]
  },
  {
   "cell_type": "code",
   "execution_count": 114,
   "id": "b452ce7f",
   "metadata": {},
   "outputs": [
    {
     "data": {
      "text/html": [
       "<div>\n",
       "<style scoped>\n",
       "    .dataframe tbody tr th:only-of-type {\n",
       "        vertical-align: middle;\n",
       "    }\n",
       "\n",
       "    .dataframe tbody tr th {\n",
       "        vertical-align: top;\n",
       "    }\n",
       "\n",
       "    .dataframe thead th {\n",
       "        text-align: right;\n",
       "    }\n",
       "</style>\n",
       "<table border=\"1\" class=\"dataframe\">\n",
       "  <thead>\n",
       "    <tr style=\"text-align: right;\">\n",
       "      <th></th>\n",
       "      <th>0</th>\n",
       "      <th>1</th>\n",
       "      <th>2</th>\n",
       "      <th>3</th>\n",
       "      <th>4</th>\n",
       "    </tr>\n",
       "  </thead>\n",
       "  <tbody>\n",
       "    <tr>\n",
       "      <th>ABS</th>\n",
       "      <td>1</td>\n",
       "      <td>1</td>\n",
       "      <td>1</td>\n",
       "      <td>1</td>\n",
       "      <td>1</td>\n",
       "    </tr>\n",
       "    <tr>\n",
       "      <th>Adaptive Cruise Control</th>\n",
       "      <td>0</td>\n",
       "      <td>0</td>\n",
       "      <td>0</td>\n",
       "      <td>0</td>\n",
       "      <td>0</td>\n",
       "    </tr>\n",
       "    <tr>\n",
       "      <th>Adaptive headlights</th>\n",
       "      <td>0</td>\n",
       "      <td>0</td>\n",
       "      <td>0</td>\n",
       "      <td>0</td>\n",
       "      <td>0</td>\n",
       "    </tr>\n",
       "    <tr>\n",
       "      <th>Alarm system</th>\n",
       "      <td>0</td>\n",
       "      <td>0</td>\n",
       "      <td>0</td>\n",
       "      <td>1</td>\n",
       "      <td>0</td>\n",
       "    </tr>\n",
       "    <tr>\n",
       "      <th>Blind spot monitor</th>\n",
       "      <td>0</td>\n",
       "      <td>0</td>\n",
       "      <td>0</td>\n",
       "      <td>0</td>\n",
       "      <td>0</td>\n",
       "    </tr>\n",
       "    <tr>\n",
       "      <th>Central door lock</th>\n",
       "      <td>1</td>\n",
       "      <td>1</td>\n",
       "      <td>1</td>\n",
       "      <td>0</td>\n",
       "      <td>1</td>\n",
       "    </tr>\n",
       "    <tr>\n",
       "      <th>Central door lock with remote control</th>\n",
       "      <td>0</td>\n",
       "      <td>1</td>\n",
       "      <td>0</td>\n",
       "      <td>1</td>\n",
       "      <td>0</td>\n",
       "    </tr>\n",
       "    <tr>\n",
       "      <th>Daytime running lights</th>\n",
       "      <td>1</td>\n",
       "      <td>1</td>\n",
       "      <td>1</td>\n",
       "      <td>0</td>\n",
       "      <td>0</td>\n",
       "    </tr>\n",
       "    <tr>\n",
       "      <th>Driver drowsiness detection</th>\n",
       "      <td>0</td>\n",
       "      <td>0</td>\n",
       "      <td>0</td>\n",
       "      <td>1</td>\n",
       "      <td>0</td>\n",
       "    </tr>\n",
       "    <tr>\n",
       "      <th>Driver-side airbag</th>\n",
       "      <td>1</td>\n",
       "      <td>1</td>\n",
       "      <td>1</td>\n",
       "      <td>1</td>\n",
       "      <td>1</td>\n",
       "    </tr>\n",
       "    <tr>\n",
       "      <th>Electronic stability control</th>\n",
       "      <td>1</td>\n",
       "      <td>1</td>\n",
       "      <td>1</td>\n",
       "      <td>1</td>\n",
       "      <td>1</td>\n",
       "    </tr>\n",
       "    <tr>\n",
       "      <th>Emergency brake assistant</th>\n",
       "      <td>0</td>\n",
       "      <td>0</td>\n",
       "      <td>0</td>\n",
       "      <td>0</td>\n",
       "      <td>0</td>\n",
       "    </tr>\n",
       "    <tr>\n",
       "      <th>Emergency system</th>\n",
       "      <td>0</td>\n",
       "      <td>0</td>\n",
       "      <td>0</td>\n",
       "      <td>1</td>\n",
       "      <td>0</td>\n",
       "    </tr>\n",
       "    <tr>\n",
       "      <th>Fog lights</th>\n",
       "      <td>1</td>\n",
       "      <td>0</td>\n",
       "      <td>0</td>\n",
       "      <td>0</td>\n",
       "      <td>1</td>\n",
       "    </tr>\n",
       "    <tr>\n",
       "      <th>Head airbag</th>\n",
       "      <td>0</td>\n",
       "      <td>1</td>\n",
       "      <td>0</td>\n",
       "      <td>1</td>\n",
       "      <td>0</td>\n",
       "    </tr>\n",
       "    <tr>\n",
       "      <th>Immobilizer</th>\n",
       "      <td>1</td>\n",
       "      <td>1</td>\n",
       "      <td>1</td>\n",
       "      <td>1</td>\n",
       "      <td>1</td>\n",
       "    </tr>\n",
       "    <tr>\n",
       "      <th>Isofix</th>\n",
       "      <td>1</td>\n",
       "      <td>1</td>\n",
       "      <td>1</td>\n",
       "      <td>1</td>\n",
       "      <td>1</td>\n",
       "    </tr>\n",
       "    <tr>\n",
       "      <th>LED Daytime Running Lights</th>\n",
       "      <td>0</td>\n",
       "      <td>0</td>\n",
       "      <td>0</td>\n",
       "      <td>0</td>\n",
       "      <td>0</td>\n",
       "    </tr>\n",
       "    <tr>\n",
       "      <th>LED Headlights</th>\n",
       "      <td>0</td>\n",
       "      <td>0</td>\n",
       "      <td>0</td>\n",
       "      <td>0</td>\n",
       "      <td>0</td>\n",
       "    </tr>\n",
       "    <tr>\n",
       "      <th>Lane departure warning system</th>\n",
       "      <td>0</td>\n",
       "      <td>0</td>\n",
       "      <td>0</td>\n",
       "      <td>0</td>\n",
       "      <td>0</td>\n",
       "    </tr>\n",
       "    <tr>\n",
       "      <th>Night view assist</th>\n",
       "      <td>0</td>\n",
       "      <td>0</td>\n",
       "      <td>0</td>\n",
       "      <td>0</td>\n",
       "      <td>0</td>\n",
       "    </tr>\n",
       "    <tr>\n",
       "      <th>Passenger-side airbag</th>\n",
       "      <td>1</td>\n",
       "      <td>1</td>\n",
       "      <td>1</td>\n",
       "      <td>1</td>\n",
       "      <td>1</td>\n",
       "    </tr>\n",
       "    <tr>\n",
       "      <th>Power steering</th>\n",
       "      <td>1</td>\n",
       "      <td>1</td>\n",
       "      <td>1</td>\n",
       "      <td>1</td>\n",
       "      <td>1</td>\n",
       "    </tr>\n",
       "    <tr>\n",
       "      <th>Rear airbag</th>\n",
       "      <td>0</td>\n",
       "      <td>0</td>\n",
       "      <td>0</td>\n",
       "      <td>0</td>\n",
       "      <td>0</td>\n",
       "    </tr>\n",
       "    <tr>\n",
       "      <th>Side airbag</th>\n",
       "      <td>1</td>\n",
       "      <td>1</td>\n",
       "      <td>1</td>\n",
       "      <td>1</td>\n",
       "      <td>1</td>\n",
       "    </tr>\n",
       "    <tr>\n",
       "      <th>Tire pressure monitoring system</th>\n",
       "      <td>1</td>\n",
       "      <td>1</td>\n",
       "      <td>1</td>\n",
       "      <td>1</td>\n",
       "      <td>1</td>\n",
       "    </tr>\n",
       "    <tr>\n",
       "      <th>Traction control</th>\n",
       "      <td>1</td>\n",
       "      <td>1</td>\n",
       "      <td>1</td>\n",
       "      <td>0</td>\n",
       "      <td>1</td>\n",
       "    </tr>\n",
       "    <tr>\n",
       "      <th>Traffic sign recognition</th>\n",
       "      <td>0</td>\n",
       "      <td>0</td>\n",
       "      <td>0</td>\n",
       "      <td>0</td>\n",
       "      <td>0</td>\n",
       "    </tr>\n",
       "    <tr>\n",
       "      <th>Xenon headlights</th>\n",
       "      <td>1</td>\n",
       "      <td>1</td>\n",
       "      <td>0</td>\n",
       "      <td>0</td>\n",
       "      <td>1</td>\n",
       "    </tr>\n",
       "  </tbody>\n",
       "</table>\n",
       "</div>"
      ],
      "text/plain": [
       "                                       0  1  2  3  4\n",
       "ABS                                    1  1  1  1  1\n",
       "Adaptive Cruise Control                0  0  0  0  0\n",
       "Adaptive headlights                    0  0  0  0  0\n",
       "Alarm system                           0  0  0  1  0\n",
       "Blind spot monitor                     0  0  0  0  0\n",
       "Central door lock                      1  1  1  0  1\n",
       "Central door lock with remote control  0  1  0  1  0\n",
       "Daytime running lights                 1  1  1  0  0\n",
       "Driver drowsiness detection            0  0  0  1  0\n",
       "Driver-side airbag                     1  1  1  1  1\n",
       "Electronic stability control           1  1  1  1  1\n",
       "Emergency brake assistant              0  0  0  0  0\n",
       "Emergency system                       0  0  0  1  0\n",
       "Fog lights                             1  0  0  0  1\n",
       "Head airbag                            0  1  0  1  0\n",
       "Immobilizer                            1  1  1  1  1\n",
       "Isofix                                 1  1  1  1  1\n",
       "LED Daytime Running Lights             0  0  0  0  0\n",
       "LED Headlights                         0  0  0  0  0\n",
       "Lane departure warning system          0  0  0  0  0\n",
       "Night view assist                      0  0  0  0  0\n",
       "Passenger-side airbag                  1  1  1  1  1\n",
       "Power steering                         1  1  1  1  1\n",
       "Rear airbag                            0  0  0  0  0\n",
       "Side airbag                            1  1  1  1  1\n",
       "Tire pressure monitoring system        1  1  1  1  1\n",
       "Traction control                       1  1  1  0  1\n",
       "Traffic sign recognition               0  0  0  0  0\n",
       "Xenon headlights                       1  1  0  0  1"
      ]
     },
     "execution_count": 114,
     "metadata": {},
     "output_type": "execute_result"
    }
   ],
   "source": [
    "# create boolean mask matched non NaNs values\n",
    "mask = cat_df['\\nSafety & Security\\n'].notnull()\n",
    "\n",
    "# filter by boolean indexing\n",
    "arr = mlb.fit_transform(cat_df.loc[mask, '\\nSafety & Security\\n'].dropna())\n",
    "\n",
    "#create DataFrame and add missing (NaN)s index values\n",
    "Saf_Sec_df = (pd.DataFrame(arr, index=cat_df.index[mask], columns=mlb.classes_).reindex(cat_df.index, fill_value=0))\n",
    "\n",
    "Saf_Sec_df.head().T"
   ]
  },
  {
   "cell_type": "markdown",
   "id": "96864c9d",
   "metadata": {},
   "source": [
    "Now we need to drop the original columns and concatenate the new DataFrames together to the original cat_df DataFrame."
   ]
  },
  {
   "cell_type": "code",
   "execution_count": 115,
   "id": "3ddb669c",
   "metadata": {},
   "outputs": [],
   "source": [
    "## drop the old host_verifications and amenities features from cat_df\n",
    "cat_df = cat_df.drop(['\\nComfort & Convenience\\n','\\nEntertainment & Media\\n', '\\nExtras\\n', '\\nSafety & Security\\n'], axis=1)\n",
    "\n",
    "## concatenate amenities_df and host_verif_df to the original cat_df DataFrame\n",
    "cat_df = pd.concat([cat_df, Saf_Sec_df, Extras_df, Ent_Med_df, Comf_Conv_df], axis=1)"
   ]
  },
  {
   "cell_type": "code",
   "execution_count": 116,
   "id": "00c8a68c",
   "metadata": {
    "scrolled": false
   },
   "outputs": [
    {
     "data": {
      "text/html": [
       "<div>\n",
       "<style scoped>\n",
       "    .dataframe tbody tr th:only-of-type {\n",
       "        vertical-align: middle;\n",
       "    }\n",
       "\n",
       "    .dataframe tbody tr th {\n",
       "        vertical-align: top;\n",
       "    }\n",
       "\n",
       "    .dataframe thead th {\n",
       "        text-align: right;\n",
       "    }\n",
       "</style>\n",
       "<table border=\"1\" class=\"dataframe\">\n",
       "  <thead>\n",
       "    <tr style=\"text-align: right;\">\n",
       "      <th></th>\n",
       "      <th>0</th>\n",
       "      <th>1</th>\n",
       "      <th>2</th>\n",
       "    </tr>\n",
       "  </thead>\n",
       "  <tbody>\n",
       "    <tr>\n",
       "      <th>body_type</th>\n",
       "      <td>Sedans</td>\n",
       "      <td>Sedans</td>\n",
       "      <td>Sedans</td>\n",
       "    </tr>\n",
       "    <tr>\n",
       "      <th>vat</th>\n",
       "      <td>VAT deductible</td>\n",
       "      <td>Price negotiable</td>\n",
       "      <td>VAT deductible</td>\n",
       "    </tr>\n",
       "    <tr>\n",
       "      <th>registration</th>\n",
       "      <td>01/2016</td>\n",
       "      <td>03/2017</td>\n",
       "      <td>02/2016</td>\n",
       "    </tr>\n",
       "    <tr>\n",
       "      <th>make</th>\n",
       "      <td>Audi</td>\n",
       "      <td>Audi</td>\n",
       "      <td>Audi</td>\n",
       "    </tr>\n",
       "    <tr>\n",
       "      <th>model</th>\n",
       "      <td>A1</td>\n",
       "      <td>A1</td>\n",
       "      <td>A1</td>\n",
       "    </tr>\n",
       "    <tr>\n",
       "      <th>...</th>\n",
       "      <td>...</td>\n",
       "      <td>...</td>\n",
       "      <td>...</td>\n",
       "    </tr>\n",
       "    <tr>\n",
       "      <th>Start-stop system</th>\n",
       "      <td>1</td>\n",
       "      <td>1</td>\n",
       "      <td>1</td>\n",
       "    </tr>\n",
       "    <tr>\n",
       "      <th>Sunroof</th>\n",
       "      <td>0</td>\n",
       "      <td>0</td>\n",
       "      <td>0</td>\n",
       "    </tr>\n",
       "    <tr>\n",
       "      <th>Tinted windows</th>\n",
       "      <td>0</td>\n",
       "      <td>1</td>\n",
       "      <td>0</td>\n",
       "    </tr>\n",
       "    <tr>\n",
       "      <th>Wind deflector</th>\n",
       "      <td>0</td>\n",
       "      <td>0</td>\n",
       "      <td>0</td>\n",
       "    </tr>\n",
       "    <tr>\n",
       "      <th>Windshield</th>\n",
       "      <td>0</td>\n",
       "      <td>0</td>\n",
       "      <td>0</td>\n",
       "    </tr>\n",
       "  </tbody>\n",
       "</table>\n",
       "<p>108 rows × 3 columns</p>\n",
       "</div>"
      ],
      "text/plain": [
       "                                0                 1               2\n",
       "body_type                  Sedans            Sedans          Sedans\n",
       "vat                VAT deductible  Price negotiable  VAT deductible\n",
       "registration              01/2016           03/2017         02/2016\n",
       "make                         Audi              Audi            Audi\n",
       "model                          A1                A1              A1\n",
       "...                           ...               ...             ...\n",
       "Start-stop system               1                 1               1\n",
       "Sunroof                         0                 0               0\n",
       "Tinted windows                  0                 1               0\n",
       "Wind deflector                  0                 0               0\n",
       "Windshield                      0                 0               0\n",
       "\n",
       "[108 rows x 3 columns]"
      ]
     },
     "execution_count": 116,
     "metadata": {},
     "output_type": "execute_result"
    }
   ],
   "source": [
    "cat_df.head(3).T"
   ]
  },
  {
   "cell_type": "markdown",
   "id": "9670635a",
   "metadata": {},
   "source": [
    "**Date/Time Feature Engineering**"
   ]
  },
  {
   "cell_type": "code",
   "execution_count": 117,
   "id": "858de926",
   "metadata": {
    "scrolled": false
   },
   "outputs": [
    {
     "data": {
      "text/html": [
       "<div>\n",
       "<style scoped>\n",
       "    .dataframe tbody tr th:only-of-type {\n",
       "        vertical-align: middle;\n",
       "    }\n",
       "\n",
       "    .dataframe tbody tr th {\n",
       "        vertical-align: top;\n",
       "    }\n",
       "\n",
       "    .dataframe thead th {\n",
       "        text-align: right;\n",
       "    }\n",
       "</style>\n",
       "<table border=\"1\" class=\"dataframe\">\n",
       "  <thead>\n",
       "    <tr style=\"text-align: right;\">\n",
       "      <th></th>\n",
       "      <th>registration</th>\n",
       "      <th>first_registration</th>\n",
       "    </tr>\n",
       "  </thead>\n",
       "  <tbody>\n",
       "    <tr>\n",
       "      <th>0</th>\n",
       "      <td>01/2016</td>\n",
       "      <td>2016</td>\n",
       "    </tr>\n",
       "  </tbody>\n",
       "</table>\n",
       "</div>"
      ],
      "text/plain": [
       "  registration first_registration\n",
       "0      01/2016               2016"
      ]
     },
     "execution_count": 117,
     "metadata": {},
     "output_type": "execute_result"
    }
   ],
   "source": [
    "## Here are our date features\n",
    "dt_cols = ['registration', 'first_registration']\n",
    "cat_df[dt_cols].head(1)"
   ]
  },
  {
   "cell_type": "code",
   "execution_count": 118,
   "id": "5d0ab367",
   "metadata": {},
   "outputs": [],
   "source": [
    "cat_df['registration'] = pd.to_datetime(cat_df['registration'], infer_datetime_format=True).dt.date"
   ]
  },
  {
   "cell_type": "code",
   "execution_count": 119,
   "id": "8bf068a5",
   "metadata": {},
   "outputs": [],
   "source": [
    "cat_df['first_registration'] = pd.to_datetime(cat_df['first_registration'], infer_datetime_format=True).dt.year"
   ]
  },
  {
   "cell_type": "code",
   "execution_count": 120,
   "id": "9442c92f",
   "metadata": {},
   "outputs": [],
   "source": [
    "## combine your num_df and cat_df into one new DataFrame named cleaned_df\n",
    "cleaned_df = pd.concat([num_df, cat_df], axis=1)"
   ]
  },
  {
   "cell_type": "code",
   "execution_count": 121,
   "id": "92326871",
   "metadata": {
    "scrolled": false
   },
   "outputs": [
    {
     "data": {
      "text/html": [
       "<div>\n",
       "<style scoped>\n",
       "    .dataframe tbody tr th:only-of-type {\n",
       "        vertical-align: middle;\n",
       "    }\n",
       "\n",
       "    .dataframe tbody tr th {\n",
       "        vertical-align: top;\n",
       "    }\n",
       "\n",
       "    .dataframe thead th {\n",
       "        text-align: right;\n",
       "    }\n",
       "</style>\n",
       "<table border=\"1\" class=\"dataframe\">\n",
       "  <thead>\n",
       "    <tr style=\"text-align: right;\">\n",
       "      <th></th>\n",
       "      <th>0</th>\n",
       "      <th>1</th>\n",
       "    </tr>\n",
       "  </thead>\n",
       "  <tbody>\n",
       "    <tr>\n",
       "      <th>price</th>\n",
       "      <td>15770</td>\n",
       "      <td>14500</td>\n",
       "    </tr>\n",
       "    <tr>\n",
       "      <th>km</th>\n",
       "      <td>56013.0</td>\n",
       "      <td>80000.0</td>\n",
       "    </tr>\n",
       "    <tr>\n",
       "      <th>hp</th>\n",
       "      <td>66.0</td>\n",
       "      <td>141.0</td>\n",
       "    </tr>\n",
       "    <tr>\n",
       "      <th>number_of_doors</th>\n",
       "      <td>5.0</td>\n",
       "      <td>3.0</td>\n",
       "    </tr>\n",
       "    <tr>\n",
       "      <th>nunber_of_seats</th>\n",
       "      <td>5.0</td>\n",
       "      <td>4.0</td>\n",
       "    </tr>\n",
       "    <tr>\n",
       "      <th>displacement</th>\n",
       "      <td>1422.0</td>\n",
       "      <td>1798.0</td>\n",
       "    </tr>\n",
       "    <tr>\n",
       "      <th>cylinders</th>\n",
       "      <td>3.0</td>\n",
       "      <td>4.0</td>\n",
       "    </tr>\n",
       "    <tr>\n",
       "      <th>consumption_comb</th>\n",
       "      <td>3.8</td>\n",
       "      <td>5.6</td>\n",
       "    </tr>\n",
       "    <tr>\n",
       "      <th>consumption_city</th>\n",
       "      <td>4.3</td>\n",
       "      <td>7.1</td>\n",
       "    </tr>\n",
       "    <tr>\n",
       "      <th>consumption_country</th>\n",
       "      <td>3.5</td>\n",
       "      <td>4.7</td>\n",
       "    </tr>\n",
       "    <tr>\n",
       "      <th>co2_emission</th>\n",
       "      <td>99.0</td>\n",
       "      <td>129.0</td>\n",
       "    </tr>\n",
       "    <tr>\n",
       "      <th>gears</th>\n",
       "      <td>NaN</td>\n",
       "      <td>7.0</td>\n",
       "    </tr>\n",
       "    <tr>\n",
       "      <th>body_type</th>\n",
       "      <td>Sedans</td>\n",
       "      <td>Sedans</td>\n",
       "    </tr>\n",
       "    <tr>\n",
       "      <th>vat</th>\n",
       "      <td>VAT deductible</td>\n",
       "      <td>Price negotiable</td>\n",
       "    </tr>\n",
       "    <tr>\n",
       "      <th>registration</th>\n",
       "      <td>2016-01-01</td>\n",
       "      <td>2017-03-01</td>\n",
       "    </tr>\n",
       "    <tr>\n",
       "      <th>make</th>\n",
       "      <td>Audi</td>\n",
       "      <td>Audi</td>\n",
       "    </tr>\n",
       "    <tr>\n",
       "      <th>model</th>\n",
       "      <td>A1</td>\n",
       "      <td>A1</td>\n",
       "    </tr>\n",
       "    <tr>\n",
       "      <th>first_registration</th>\n",
       "      <td>2016.0</td>\n",
       "      <td>2017.0</td>\n",
       "    </tr>\n",
       "    <tr>\n",
       "      <th>body_color</th>\n",
       "      <td>Black</td>\n",
       "      <td>Red</td>\n",
       "    </tr>\n",
       "    <tr>\n",
       "      <th>paint_type</th>\n",
       "      <td>Metallic</td>\n",
       "      <td>NaN</td>\n",
       "    </tr>\n",
       "    <tr>\n",
       "      <th>upholstery</th>\n",
       "      <td>Cloth, Black</td>\n",
       "      <td>Cloth, Grey</td>\n",
       "    </tr>\n",
       "    <tr>\n",
       "      <th>gearing_type</th>\n",
       "      <td>Automatic</td>\n",
       "      <td>Automatic</td>\n",
       "    </tr>\n",
       "    <tr>\n",
       "      <th>fuel</th>\n",
       "      <td>Diesel (Particulate Filter)</td>\n",
       "      <td>Gasoline</td>\n",
       "    </tr>\n",
       "    <tr>\n",
       "      <th>emission_class</th>\n",
       "      <td>Euro 6</td>\n",
       "      <td>Euro 6</td>\n",
       "    </tr>\n",
       "    <tr>\n",
       "      <th>type</th>\n",
       "      <td>NaN</td>\n",
       "      <td>NaN</td>\n",
       "    </tr>\n",
       "    <tr>\n",
       "      <th>warranty</th>\n",
       "      <td>NaN</td>\n",
       "      <td>NaN</td>\n",
       "    </tr>\n",
       "    <tr>\n",
       "      <th>ABS</th>\n",
       "      <td>1</td>\n",
       "      <td>1</td>\n",
       "    </tr>\n",
       "    <tr>\n",
       "      <th>Adaptive Cruise Control</th>\n",
       "      <td>0</td>\n",
       "      <td>0</td>\n",
       "    </tr>\n",
       "    <tr>\n",
       "      <th>Adaptive headlights</th>\n",
       "      <td>0</td>\n",
       "      <td>0</td>\n",
       "    </tr>\n",
       "    <tr>\n",
       "      <th>Alarm system</th>\n",
       "      <td>0</td>\n",
       "      <td>0</td>\n",
       "    </tr>\n",
       "    <tr>\n",
       "      <th>Blind spot monitor</th>\n",
       "      <td>0</td>\n",
       "      <td>0</td>\n",
       "    </tr>\n",
       "    <tr>\n",
       "      <th>Central door lock</th>\n",
       "      <td>1</td>\n",
       "      <td>1</td>\n",
       "    </tr>\n",
       "    <tr>\n",
       "      <th>Central door lock with remote control</th>\n",
       "      <td>0</td>\n",
       "      <td>1</td>\n",
       "    </tr>\n",
       "    <tr>\n",
       "      <th>Daytime running lights</th>\n",
       "      <td>1</td>\n",
       "      <td>1</td>\n",
       "    </tr>\n",
       "    <tr>\n",
       "      <th>Driver drowsiness detection</th>\n",
       "      <td>0</td>\n",
       "      <td>0</td>\n",
       "    </tr>\n",
       "    <tr>\n",
       "      <th>Driver-side airbag</th>\n",
       "      <td>1</td>\n",
       "      <td>1</td>\n",
       "    </tr>\n",
       "    <tr>\n",
       "      <th>Electronic stability control</th>\n",
       "      <td>1</td>\n",
       "      <td>1</td>\n",
       "    </tr>\n",
       "    <tr>\n",
       "      <th>Emergency brake assistant</th>\n",
       "      <td>0</td>\n",
       "      <td>0</td>\n",
       "    </tr>\n",
       "    <tr>\n",
       "      <th>Emergency system</th>\n",
       "      <td>0</td>\n",
       "      <td>0</td>\n",
       "    </tr>\n",
       "    <tr>\n",
       "      <th>Fog lights</th>\n",
       "      <td>1</td>\n",
       "      <td>0</td>\n",
       "    </tr>\n",
       "    <tr>\n",
       "      <th>Head airbag</th>\n",
       "      <td>0</td>\n",
       "      <td>1</td>\n",
       "    </tr>\n",
       "    <tr>\n",
       "      <th>Immobilizer</th>\n",
       "      <td>1</td>\n",
       "      <td>1</td>\n",
       "    </tr>\n",
       "    <tr>\n",
       "      <th>Isofix</th>\n",
       "      <td>1</td>\n",
       "      <td>1</td>\n",
       "    </tr>\n",
       "    <tr>\n",
       "      <th>LED Daytime Running Lights</th>\n",
       "      <td>0</td>\n",
       "      <td>0</td>\n",
       "    </tr>\n",
       "    <tr>\n",
       "      <th>LED Headlights</th>\n",
       "      <td>0</td>\n",
       "      <td>0</td>\n",
       "    </tr>\n",
       "    <tr>\n",
       "      <th>Lane departure warning system</th>\n",
       "      <td>0</td>\n",
       "      <td>0</td>\n",
       "    </tr>\n",
       "    <tr>\n",
       "      <th>Night view assist</th>\n",
       "      <td>0</td>\n",
       "      <td>0</td>\n",
       "    </tr>\n",
       "    <tr>\n",
       "      <th>Passenger-side airbag</th>\n",
       "      <td>1</td>\n",
       "      <td>1</td>\n",
       "    </tr>\n",
       "    <tr>\n",
       "      <th>Power steering</th>\n",
       "      <td>1</td>\n",
       "      <td>1</td>\n",
       "    </tr>\n",
       "    <tr>\n",
       "      <th>Rear airbag</th>\n",
       "      <td>0</td>\n",
       "      <td>0</td>\n",
       "    </tr>\n",
       "    <tr>\n",
       "      <th>Side airbag</th>\n",
       "      <td>1</td>\n",
       "      <td>1</td>\n",
       "    </tr>\n",
       "    <tr>\n",
       "      <th>Tire pressure monitoring system</th>\n",
       "      <td>1</td>\n",
       "      <td>1</td>\n",
       "    </tr>\n",
       "    <tr>\n",
       "      <th>Traction control</th>\n",
       "      <td>1</td>\n",
       "      <td>1</td>\n",
       "    </tr>\n",
       "    <tr>\n",
       "      <th>Traffic sign recognition</th>\n",
       "      <td>0</td>\n",
       "      <td>0</td>\n",
       "    </tr>\n",
       "    <tr>\n",
       "      <th>Xenon headlights</th>\n",
       "      <td>1</td>\n",
       "      <td>1</td>\n",
       "    </tr>\n",
       "    <tr>\n",
       "      <th>Alloy wheels</th>\n",
       "      <td>1</td>\n",
       "      <td>1</td>\n",
       "    </tr>\n",
       "    <tr>\n",
       "      <th>Cab or rented Car</th>\n",
       "      <td>0</td>\n",
       "      <td>0</td>\n",
       "    </tr>\n",
       "    <tr>\n",
       "      <th>Catalytic Converter</th>\n",
       "      <td>1</td>\n",
       "      <td>0</td>\n",
       "    </tr>\n",
       "    <tr>\n",
       "      <th>Handicapped enabled</th>\n",
       "      <td>0</td>\n",
       "      <td>0</td>\n",
       "    </tr>\n",
       "    <tr>\n",
       "      <th>Right hand drive</th>\n",
       "      <td>0</td>\n",
       "      <td>0</td>\n",
       "    </tr>\n",
       "    <tr>\n",
       "      <th>Roof rack</th>\n",
       "      <td>0</td>\n",
       "      <td>0</td>\n",
       "    </tr>\n",
       "    <tr>\n",
       "      <th>Shift paddles</th>\n",
       "      <td>0</td>\n",
       "      <td>0</td>\n",
       "    </tr>\n",
       "    <tr>\n",
       "      <th>Ski bag</th>\n",
       "      <td>0</td>\n",
       "      <td>0</td>\n",
       "    </tr>\n",
       "    <tr>\n",
       "      <th>Sliding door</th>\n",
       "      <td>0</td>\n",
       "      <td>0</td>\n",
       "    </tr>\n",
       "    <tr>\n",
       "      <th>Sport package</th>\n",
       "      <td>0</td>\n",
       "      <td>0</td>\n",
       "    </tr>\n",
       "    <tr>\n",
       "      <th>Sport seats</th>\n",
       "      <td>0</td>\n",
       "      <td>1</td>\n",
       "    </tr>\n",
       "    <tr>\n",
       "      <th>Sport suspension</th>\n",
       "      <td>0</td>\n",
       "      <td>1</td>\n",
       "    </tr>\n",
       "    <tr>\n",
       "      <th>Touch screen</th>\n",
       "      <td>0</td>\n",
       "      <td>0</td>\n",
       "    </tr>\n",
       "    <tr>\n",
       "      <th>Trailer hitch</th>\n",
       "      <td>0</td>\n",
       "      <td>0</td>\n",
       "    </tr>\n",
       "    <tr>\n",
       "      <th>Tuned car</th>\n",
       "      <td>0</td>\n",
       "      <td>0</td>\n",
       "    </tr>\n",
       "    <tr>\n",
       "      <th>Voice Control</th>\n",
       "      <td>1</td>\n",
       "      <td>1</td>\n",
       "    </tr>\n",
       "    <tr>\n",
       "      <th>Winter tyres</th>\n",
       "      <td>0</td>\n",
       "      <td>0</td>\n",
       "    </tr>\n",
       "    <tr>\n",
       "      <th>Bluetooth</th>\n",
       "      <td>1</td>\n",
       "      <td>1</td>\n",
       "    </tr>\n",
       "    <tr>\n",
       "      <th>CD player</th>\n",
       "      <td>0</td>\n",
       "      <td>0</td>\n",
       "    </tr>\n",
       "    <tr>\n",
       "      <th>Digital radio</th>\n",
       "      <td>0</td>\n",
       "      <td>0</td>\n",
       "    </tr>\n",
       "    <tr>\n",
       "      <th>Hands-free equipment</th>\n",
       "      <td>1</td>\n",
       "      <td>1</td>\n",
       "    </tr>\n",
       "    <tr>\n",
       "      <th>MP3</th>\n",
       "      <td>0</td>\n",
       "      <td>0</td>\n",
       "    </tr>\n",
       "    <tr>\n",
       "      <th>On-board computer</th>\n",
       "      <td>1</td>\n",
       "      <td>1</td>\n",
       "    </tr>\n",
       "    <tr>\n",
       "      <th>Radio</th>\n",
       "      <td>1</td>\n",
       "      <td>1</td>\n",
       "    </tr>\n",
       "    <tr>\n",
       "      <th>Sound system</th>\n",
       "      <td>0</td>\n",
       "      <td>1</td>\n",
       "    </tr>\n",
       "    <tr>\n",
       "      <th>Television</th>\n",
       "      <td>0</td>\n",
       "      <td>0</td>\n",
       "    </tr>\n",
       "    <tr>\n",
       "      <th>USB</th>\n",
       "      <td>0</td>\n",
       "      <td>0</td>\n",
       "    </tr>\n",
       "    <tr>\n",
       "      <th>Air conditioning</th>\n",
       "      <td>1</td>\n",
       "      <td>1</td>\n",
       "    </tr>\n",
       "    <tr>\n",
       "      <th>Air suspension</th>\n",
       "      <td>0</td>\n",
       "      <td>0</td>\n",
       "    </tr>\n",
       "    <tr>\n",
       "      <th>Armrest</th>\n",
       "      <td>1</td>\n",
       "      <td>0</td>\n",
       "    </tr>\n",
       "    <tr>\n",
       "      <th>Automatic climate control</th>\n",
       "      <td>1</td>\n",
       "      <td>1</td>\n",
       "    </tr>\n",
       "    <tr>\n",
       "      <th>Auxiliary heating</th>\n",
       "      <td>0</td>\n",
       "      <td>0</td>\n",
       "    </tr>\n",
       "    <tr>\n",
       "      <th>Cruise control</th>\n",
       "      <td>1</td>\n",
       "      <td>0</td>\n",
       "    </tr>\n",
       "    <tr>\n",
       "      <th>Electric Starter</th>\n",
       "      <td>0</td>\n",
       "      <td>0</td>\n",
       "    </tr>\n",
       "    <tr>\n",
       "      <th>Electric tailgate</th>\n",
       "      <td>0</td>\n",
       "      <td>0</td>\n",
       "    </tr>\n",
       "    <tr>\n",
       "      <th>Electrical side mirrors</th>\n",
       "      <td>1</td>\n",
       "      <td>0</td>\n",
       "    </tr>\n",
       "    <tr>\n",
       "      <th>Electrically adjustable seats</th>\n",
       "      <td>0</td>\n",
       "      <td>0</td>\n",
       "    </tr>\n",
       "    <tr>\n",
       "      <th>Electrically heated windshield</th>\n",
       "      <td>0</td>\n",
       "      <td>0</td>\n",
       "    </tr>\n",
       "    <tr>\n",
       "      <th>Heads-up display</th>\n",
       "      <td>0</td>\n",
       "      <td>0</td>\n",
       "    </tr>\n",
       "    <tr>\n",
       "      <th>Heated steering wheel</th>\n",
       "      <td>0</td>\n",
       "      <td>0</td>\n",
       "    </tr>\n",
       "    <tr>\n",
       "      <th>Hill Holder</th>\n",
       "      <td>1</td>\n",
       "      <td>1</td>\n",
       "    </tr>\n",
       "    <tr>\n",
       "      <th>Keyless central door lock</th>\n",
       "      <td>0</td>\n",
       "      <td>0</td>\n",
       "    </tr>\n",
       "    <tr>\n",
       "      <th>Leather seats</th>\n",
       "      <td>0</td>\n",
       "      <td>0</td>\n",
       "    </tr>\n",
       "    <tr>\n",
       "      <th>Leather steering wheel</th>\n",
       "      <td>1</td>\n",
       "      <td>1</td>\n",
       "    </tr>\n",
       "    <tr>\n",
       "      <th>Light sensor</th>\n",
       "      <td>1</td>\n",
       "      <td>0</td>\n",
       "    </tr>\n",
       "    <tr>\n",
       "      <th>Lumbar support</th>\n",
       "      <td>0</td>\n",
       "      <td>1</td>\n",
       "    </tr>\n",
       "    <tr>\n",
       "      <th>Massage seats</th>\n",
       "      <td>0</td>\n",
       "      <td>0</td>\n",
       "    </tr>\n",
       "    <tr>\n",
       "      <th>Multi-function steering wheel</th>\n",
       "      <td>1</td>\n",
       "      <td>0</td>\n",
       "    </tr>\n",
       "    <tr>\n",
       "      <th>Navigation system</th>\n",
       "      <td>1</td>\n",
       "      <td>0</td>\n",
       "    </tr>\n",
       "    <tr>\n",
       "      <th>Panorama roof</th>\n",
       "      <td>0</td>\n",
       "      <td>0</td>\n",
       "    </tr>\n",
       "    <tr>\n",
       "      <th>Park Distance Control</th>\n",
       "      <td>1</td>\n",
       "      <td>0</td>\n",
       "    </tr>\n",
       "    <tr>\n",
       "      <th>Parking assist system camera</th>\n",
       "      <td>0</td>\n",
       "      <td>0</td>\n",
       "    </tr>\n",
       "    <tr>\n",
       "      <th>Parking assist system self-steering</th>\n",
       "      <td>0</td>\n",
       "      <td>0</td>\n",
       "    </tr>\n",
       "    <tr>\n",
       "      <th>Parking assist system sensors front</th>\n",
       "      <td>0</td>\n",
       "      <td>0</td>\n",
       "    </tr>\n",
       "    <tr>\n",
       "      <th>Parking assist system sensors rear</th>\n",
       "      <td>1</td>\n",
       "      <td>1</td>\n",
       "    </tr>\n",
       "    <tr>\n",
       "      <th>Power windows</th>\n",
       "      <td>1</td>\n",
       "      <td>1</td>\n",
       "    </tr>\n",
       "    <tr>\n",
       "      <th>Rain sensor</th>\n",
       "      <td>1</td>\n",
       "      <td>0</td>\n",
       "    </tr>\n",
       "    <tr>\n",
       "      <th>Seat heating</th>\n",
       "      <td>1</td>\n",
       "      <td>0</td>\n",
       "    </tr>\n",
       "    <tr>\n",
       "      <th>Seat ventilation</th>\n",
       "      <td>0</td>\n",
       "      <td>0</td>\n",
       "    </tr>\n",
       "    <tr>\n",
       "      <th>Split rear seats</th>\n",
       "      <td>0</td>\n",
       "      <td>0</td>\n",
       "    </tr>\n",
       "    <tr>\n",
       "      <th>Start-stop system</th>\n",
       "      <td>1</td>\n",
       "      <td>1</td>\n",
       "    </tr>\n",
       "    <tr>\n",
       "      <th>Sunroof</th>\n",
       "      <td>0</td>\n",
       "      <td>0</td>\n",
       "    </tr>\n",
       "    <tr>\n",
       "      <th>Tinted windows</th>\n",
       "      <td>0</td>\n",
       "      <td>1</td>\n",
       "    </tr>\n",
       "    <tr>\n",
       "      <th>Wind deflector</th>\n",
       "      <td>0</td>\n",
       "      <td>0</td>\n",
       "    </tr>\n",
       "    <tr>\n",
       "      <th>Windshield</th>\n",
       "      <td>0</td>\n",
       "      <td>0</td>\n",
       "    </tr>\n",
       "  </tbody>\n",
       "</table>\n",
       "</div>"
      ],
      "text/plain": [
       "                                                                 0  \\\n",
       "price                                                        15770   \n",
       "km                                                         56013.0   \n",
       "hp                                                            66.0   \n",
       "number_of_doors                                                5.0   \n",
       "nunber_of_seats                                                5.0   \n",
       "displacement                                                1422.0   \n",
       "cylinders                                                      3.0   \n",
       "consumption_comb                                               3.8   \n",
       "consumption_city                                               4.3   \n",
       "consumption_country                                            3.5   \n",
       "co2_emission                                                  99.0   \n",
       "gears                                                          NaN   \n",
       "body_type                                                   Sedans   \n",
       "vat                                                 VAT deductible   \n",
       "registration                                            2016-01-01   \n",
       "make                                                          Audi   \n",
       "model                                                           A1   \n",
       "first_registration                                          2016.0   \n",
       "body_color                                                   Black   \n",
       "paint_type                                                Metallic   \n",
       "upholstery                                            Cloth, Black   \n",
       "gearing_type                                             Automatic   \n",
       "fuel                                   Diesel (Particulate Filter)   \n",
       "emission_class                                              Euro 6   \n",
       "type                                                           NaN   \n",
       "warranty                                                       NaN   \n",
       "ABS                                                              1   \n",
       "Adaptive Cruise Control                                          0   \n",
       "Adaptive headlights                                              0   \n",
       "Alarm system                                                     0   \n",
       "Blind spot monitor                                               0   \n",
       "Central door lock                                                1   \n",
       "Central door lock with remote control                            0   \n",
       "Daytime running lights                                           1   \n",
       "Driver drowsiness detection                                      0   \n",
       "Driver-side airbag                                               1   \n",
       "Electronic stability control                                     1   \n",
       "Emergency brake assistant                                        0   \n",
       "Emergency system                                                 0   \n",
       "Fog lights                                                       1   \n",
       "Head airbag                                                      0   \n",
       "Immobilizer                                                      1   \n",
       "Isofix                                                           1   \n",
       "LED Daytime Running Lights                                       0   \n",
       "LED Headlights                                                   0   \n",
       "Lane departure warning system                                    0   \n",
       "Night view assist                                                0   \n",
       "Passenger-side airbag                                            1   \n",
       "Power steering                                                   1   \n",
       "Rear airbag                                                      0   \n",
       "Side airbag                                                      1   \n",
       "Tire pressure monitoring system                                  1   \n",
       "Traction control                                                 1   \n",
       "Traffic sign recognition                                         0   \n",
       "Xenon headlights                                                 1   \n",
       "Alloy wheels                                                     1   \n",
       "Cab or rented Car                                                0   \n",
       "Catalytic Converter                                              1   \n",
       "Handicapped enabled                                              0   \n",
       "Right hand drive                                                 0   \n",
       "Roof rack                                                        0   \n",
       "Shift paddles                                                    0   \n",
       "Ski bag                                                          0   \n",
       "Sliding door                                                     0   \n",
       "Sport package                                                    0   \n",
       "Sport seats                                                      0   \n",
       "Sport suspension                                                 0   \n",
       "Touch screen                                                     0   \n",
       "Trailer hitch                                                    0   \n",
       "Tuned car                                                        0   \n",
       "Voice Control                                                    1   \n",
       "Winter tyres                                                     0   \n",
       "Bluetooth                                                        1   \n",
       "CD player                                                        0   \n",
       "Digital radio                                                    0   \n",
       "Hands-free equipment                                             1   \n",
       "MP3                                                              0   \n",
       "On-board computer                                                1   \n",
       "Radio                                                            1   \n",
       "Sound system                                                     0   \n",
       "Television                                                       0   \n",
       "USB                                                              0   \n",
       "Air conditioning                                                 1   \n",
       "Air suspension                                                   0   \n",
       "Armrest                                                          1   \n",
       "Automatic climate control                                        1   \n",
       "Auxiliary heating                                                0   \n",
       "Cruise control                                                   1   \n",
       "Electric Starter                                                 0   \n",
       "Electric tailgate                                                0   \n",
       "Electrical side mirrors                                          1   \n",
       "Electrically adjustable seats                                    0   \n",
       "Electrically heated windshield                                   0   \n",
       "Heads-up display                                                 0   \n",
       "Heated steering wheel                                            0   \n",
       "Hill Holder                                                      1   \n",
       "Keyless central door lock                                        0   \n",
       "Leather seats                                                    0   \n",
       "Leather steering wheel                                           1   \n",
       "Light sensor                                                     1   \n",
       "Lumbar support                                                   0   \n",
       "Massage seats                                                    0   \n",
       "Multi-function steering wheel                                    1   \n",
       "Navigation system                                                1   \n",
       "Panorama roof                                                    0   \n",
       "Park Distance Control                                            1   \n",
       "Parking assist system camera                                     0   \n",
       "Parking assist system self-steering                              0   \n",
       "Parking assist system sensors front                              0   \n",
       "Parking assist system sensors rear                               1   \n",
       "Power windows                                                    1   \n",
       "Rain sensor                                                      1   \n",
       "Seat heating                                                     1   \n",
       "Seat ventilation                                                 0   \n",
       "Split rear seats                                                 0   \n",
       "Start-stop system                                                1   \n",
       "Sunroof                                                          0   \n",
       "Tinted windows                                                   0   \n",
       "Wind deflector                                                   0   \n",
       "Windshield                                                       0   \n",
       "\n",
       "                                                      1  \n",
       "price                                             14500  \n",
       "km                                              80000.0  \n",
       "hp                                                141.0  \n",
       "number_of_doors                                     3.0  \n",
       "nunber_of_seats                                     4.0  \n",
       "displacement                                     1798.0  \n",
       "cylinders                                           4.0  \n",
       "consumption_comb                                    5.6  \n",
       "consumption_city                                    7.1  \n",
       "consumption_country                                 4.7  \n",
       "co2_emission                                      129.0  \n",
       "gears                                               7.0  \n",
       "body_type                                        Sedans  \n",
       "vat                                    Price negotiable  \n",
       "registration                                 2017-03-01  \n",
       "make                                               Audi  \n",
       "model                                                A1  \n",
       "first_registration                               2017.0  \n",
       "body_color                                          Red  \n",
       "paint_type                                          NaN  \n",
       "upholstery                                  Cloth, Grey  \n",
       "gearing_type                                  Automatic  \n",
       "fuel                                           Gasoline  \n",
       "emission_class                                   Euro 6  \n",
       "type                                                NaN  \n",
       "warranty                                            NaN  \n",
       "ABS                                                   1  \n",
       "Adaptive Cruise Control                               0  \n",
       "Adaptive headlights                                   0  \n",
       "Alarm system                                          0  \n",
       "Blind spot monitor                                    0  \n",
       "Central door lock                                     1  \n",
       "Central door lock with remote control                 1  \n",
       "Daytime running lights                                1  \n",
       "Driver drowsiness detection                           0  \n",
       "Driver-side airbag                                    1  \n",
       "Electronic stability control                          1  \n",
       "Emergency brake assistant                             0  \n",
       "Emergency system                                      0  \n",
       "Fog lights                                            0  \n",
       "Head airbag                                           1  \n",
       "Immobilizer                                           1  \n",
       "Isofix                                                1  \n",
       "LED Daytime Running Lights                            0  \n",
       "LED Headlights                                        0  \n",
       "Lane departure warning system                         0  \n",
       "Night view assist                                     0  \n",
       "Passenger-side airbag                                 1  \n",
       "Power steering                                        1  \n",
       "Rear airbag                                           0  \n",
       "Side airbag                                           1  \n",
       "Tire pressure monitoring system                       1  \n",
       "Traction control                                      1  \n",
       "Traffic sign recognition                              0  \n",
       "Xenon headlights                                      1  \n",
       "Alloy wheels                                          1  \n",
       "Cab or rented Car                                     0  \n",
       "Catalytic Converter                                   0  \n",
       "Handicapped enabled                                   0  \n",
       "Right hand drive                                      0  \n",
       "Roof rack                                             0  \n",
       "Shift paddles                                         0  \n",
       "Ski bag                                               0  \n",
       "Sliding door                                          0  \n",
       "Sport package                                         0  \n",
       "Sport seats                                           1  \n",
       "Sport suspension                                      1  \n",
       "Touch screen                                          0  \n",
       "Trailer hitch                                         0  \n",
       "Tuned car                                             0  \n",
       "Voice Control                                         1  \n",
       "Winter tyres                                          0  \n",
       "Bluetooth                                             1  \n",
       "CD player                                             0  \n",
       "Digital radio                                         0  \n",
       "Hands-free equipment                                  1  \n",
       "MP3                                                   0  \n",
       "On-board computer                                     1  \n",
       "Radio                                                 1  \n",
       "Sound system                                          1  \n",
       "Television                                            0  \n",
       "USB                                                   0  \n",
       "Air conditioning                                      1  \n",
       "Air suspension                                        0  \n",
       "Armrest                                               0  \n",
       "Automatic climate control                             1  \n",
       "Auxiliary heating                                     0  \n",
       "Cruise control                                        0  \n",
       "Electric Starter                                      0  \n",
       "Electric tailgate                                     0  \n",
       "Electrical side mirrors                               0  \n",
       "Electrically adjustable seats                         0  \n",
       "Electrically heated windshield                        0  \n",
       "Heads-up display                                      0  \n",
       "Heated steering wheel                                 0  \n",
       "Hill Holder                                           1  \n",
       "Keyless central door lock                             0  \n",
       "Leather seats                                         0  \n",
       "Leather steering wheel                                1  \n",
       "Light sensor                                          0  \n",
       "Lumbar support                                        1  \n",
       "Massage seats                                         0  \n",
       "Multi-function steering wheel                         0  \n",
       "Navigation system                                     0  \n",
       "Panorama roof                                         0  \n",
       "Park Distance Control                                 0  \n",
       "Parking assist system camera                          0  \n",
       "Parking assist system self-steering                   0  \n",
       "Parking assist system sensors front                   0  \n",
       "Parking assist system sensors rear                    1  \n",
       "Power windows                                         1  \n",
       "Rain sensor                                           0  \n",
       "Seat heating                                          0  \n",
       "Seat ventilation                                      0  \n",
       "Split rear seats                                      0  \n",
       "Start-stop system                                     1  \n",
       "Sunroof                                               0  \n",
       "Tinted windows                                        1  \n",
       "Wind deflector                                        0  \n",
       "Windshield                                            0  "
      ]
     },
     "execution_count": 121,
     "metadata": {},
     "output_type": "execute_result"
    }
   ],
   "source": [
    "# This will allow you to see all column names & rows when you are doing .head().\n",
    "pd.set_option('display.max_columns', None)\n",
    "pd.set_option('display.max_rows', None)\n",
    "\n",
    "cleaned_df.head(2).T"
   ]
  },
  {
   "cell_type": "code",
   "execution_count": 122,
   "id": "665f1734",
   "metadata": {},
   "outputs": [],
   "source": [
    "cleaned_df.to_csv(\"cleaned_df.csv\", index=False)"
   ]
  },
  {
   "cell_type": "code",
   "execution_count": null,
   "id": "6b531a48",
   "metadata": {},
   "outputs": [],
   "source": []
  }
 ],
 "metadata": {
  "kernelspec": {
   "display_name": "Python 3",
   "language": "python",
   "name": "python3"
  },
  "language_info": {
   "codemirror_mode": {
    "name": "ipython",
    "version": 3
   },
   "file_extension": ".py",
   "mimetype": "text/x-python",
   "name": "python",
   "nbconvert_exporter": "python",
   "pygments_lexer": "ipython3",
   "version": "3.8.8"
  }
 },
 "nbformat": 4,
 "nbformat_minor": 5
}
