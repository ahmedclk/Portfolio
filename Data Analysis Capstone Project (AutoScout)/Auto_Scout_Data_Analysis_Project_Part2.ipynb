{
 "cells": [
  {
   "cell_type": "markdown",
   "id": "fd89aa2d",
   "metadata": {},
   "source": [
    "# I. Import Data & Libraries"
   ]
  },
  {
   "cell_type": "code",
   "execution_count": 1,
   "id": "612a2383",
   "metadata": {},
   "outputs": [],
   "source": [
    "# Data manipulation\n",
    "import pandas as pd\n",
    "import numpy as np\n",
    "\n",
    "# More Data Preprocessing & Machine Learning\n",
    "from sklearn.model_selection import train_test_split\n",
    "from sklearn.preprocessing import MultiLabelBinarizer, OneHotEncoder, StandardScaler\n",
    "from sklearn.impute import SimpleImputer\n",
    "\n",
    "# Data Viz\n",
    "import seaborn as sns\n",
    "import matplotlib.pyplot as plt"
   ]
  },
  {
   "cell_type": "code",
   "execution_count": 2,
   "id": "2b0dc419",
   "metadata": {},
   "outputs": [],
   "source": [
    "cleaned_df = pd.read_csv('cleaned_df.csv')"
   ]
  },
  {
   "cell_type": "markdown",
   "id": "141f71e6",
   "metadata": {},
   "source": [
    "# II. Exploratory Data Analysis"
   ]
  },
  {
   "cell_type": "markdown",
   "id": "09483259",
   "metadata": {},
   "source": [
    "### E. Visualize & Understand (EDA)"
   ]
  },
  {
   "cell_type": "markdown",
   "id": "42cfdc08",
   "metadata": {},
   "source": [
    "### D. Assess Missing Values"
   ]
  },
  {
   "cell_type": "markdown",
   "id": "9c0c2621",
   "metadata": {},
   "source": [
    "In this section, we need to come up with a strategy on how we're going to tackle our missing values. Most ML algorithms (except fancy ones like XGBoost) cannot handle NA values, so we need to deal with them."
   ]
  },
  {
   "cell_type": "markdown",
   "id": "e63b7950",
   "metadata": {},
   "source": [
    "You have two options, and I'll describe some strategies for each option below:"
   ]
  },
  {
   "cell_type": "markdown",
   "id": "2b68519d",
   "metadata": {},
   "source": [
    "#### 1 - Remove them\n",
    "* Are there many missing values in a particular column? Perhaps it's not very useful if there's too many missing.\n",
    "* Are there many missing values in a particular row? Perhaps this missingness caused by something reasonable or a data-collecting failure. Investigate these in case you can reasonably identify a reason why they're missing before you drop them.\n",
    "* Do some rows not contain your response variable of interest? Perhaps you want to predict price of an Airbnb listing. Supervised learning methods require the label (price) to be there, so we can disregard these rows."
   ]
  },
  {
   "cell_type": "markdown",
   "id": "96b503f2",
   "metadata": {},
   "source": [
    "#### 2 - Fill them \n",
    "(**Warning:** it's generally not great practice to fill missing values before you train/test split your data. You can fill missing values now if it's a one-off analysis, but if this is something you want to implement in practice, you want to be able to test your entire preprocessing workflow to evaluate how good it is. Think of your strategy for filling missing values as another hyperparameter that you want to tune.)\n",
    "* Infer the value of missing values from other columns. (e.g. If state is missing, but city is San Francisco, state is probably CA)\n",
    "* Fill numerical values with mean, median, or mode.\n",
    "* Fill categorical values with the most frequent value.\n",
    "* Use machine learning techniques to predict missing values. (Check out IterativeImputer from sklearn for a method of doing this.)"
   ]
  },
  {
   "cell_type": "markdown",
   "id": "2eddca5c",
   "metadata": {},
   "source": [
    "#### Here's our approach for the section below...\n",
    "\n",
    "* We assess missing values per column to see if we can drop any features.\n",
    "* We assess missing values per row to see if we can find any patterns in how these values may be missing.\n",
    "* We strategize how we want to fill our categorical features.\n",
    "* We strategize how we want to fill our remaining numerical features."
   ]
  },
  {
   "cell_type": "markdown",
   "id": "14ebcb99",
   "metadata": {},
   "source": [
    "**1. Assessing Missing Values per Column**"
   ]
  },
  {
   "cell_type": "code",
   "execution_count": 3,
   "id": "46ce28b4",
   "metadata": {},
   "outputs": [],
   "source": [
    "## Let's assume we want to predict the price feature. \n",
    "## If price is the variable we want to predict, then we have to disregard rows that don't have it\n",
    "## Drop all rows with missing values in the 'price' column\n",
    "\n",
    "cleaned_df = cleaned_df.dropna(subset=['price'])"
   ]
  },
  {
   "cell_type": "code",
   "execution_count": 4,
   "id": "0ea8fae1",
   "metadata": {},
   "outputs": [
    {
     "data": {
      "text/plain": [
       "type                   1.000000\n",
       "warranty               0.818219\n",
       "paint_type             0.358637\n",
       "cylinders              0.348988\n",
       "gears                  0.290351\n",
       "vat                    0.273482\n",
       "upholstery             0.236707\n",
       "emission_class         0.225034\n",
       "displacement           0.212888\n",
       "consumption_city       0.209649\n",
       "consumption_country    0.205601\n",
       "consumption_comb       0.184413\n",
       "co2_emission           0.152969\n",
       "registration           0.097301\n",
       "first_registration     0.097301\n",
       "nunber_of_seats        0.059109\n",
       "body_color             0.035830\n",
       "number_of_doors        0.009784\n",
       "body_type              0.003306\n",
       "Cruise control         0.000000\n",
       "Auxiliary heating      0.000000\n",
       "Electric Starter       0.000000\n",
       "dtype: float64"
      ]
     },
     "execution_count": 4,
     "metadata": {},
     "output_type": "execute_result"
    }
   ],
   "source": [
    "# Calculating proportion by summing NA values and dividing by length of DF\n",
    "prop_na = cleaned_df.isna().sum()/len(cleaned_df)\n",
    "prop_na.sort_values(ascending=False).head(22)"
   ]
  },
  {
   "cell_type": "code",
   "execution_count": 5,
   "id": "43fa735f",
   "metadata": {},
   "outputs": [],
   "source": [
    "# Filtering out columns with less than 5% NA values to clean up the visualization below\n",
    "prop_na_05 = prop_na[prop_na > 0.05]\n",
    "prop_na_05 = prop_na_05.sort_values(0, ascending=True).reset_index()"
   ]
  },
  {
   "cell_type": "code",
   "execution_count": 6,
   "id": "ff2d78fc",
   "metadata": {},
   "outputs": [
    {
     "data": {
      "image/png": "[encoded data removed]",
      "text/plain": [
       "<Figure size 432x432 with 1 Axes>"
      ]
     },
     "metadata": {
      "needs_background": "light"
     },
     "output_type": "display_data"
    }
   ],
   "source": [
    "# Plotting proportion of NA values for all columns where more than 5% is missing. \n",
    "# The 5 columns in red will be removed since they are missing > 30% of their values.\n",
    "plt.figure(figsize=(6, 6))\n",
    "\n",
    "barh = plt.barh(prop_na_05['index'], prop_na_05[0], alpha=0.85, color='green')\n",
    "for i in range(5):\n",
    "    i += 1\n",
    "    barh[-i].set_color('darkred')\n",
    "\n",
    "plt.title('Proportion of NA Values')\n",
    "plt.vlines(x=.3, ymin=0, ymax=16, color='red', linestyles='dashed')\n",
    "plt.xticks(np.arange(.1, 1.01, .1))\n",
    "\n",
    "plt.tight_layout()"
   ]
  },
  {
   "cell_type": "code",
   "execution_count": 7,
   "id": "cf257b43",
   "metadata": {},
   "outputs": [],
   "source": [
    "## Drop the 5 missing columns identified above from cleaned_df\n",
    "drop_na_cols = ['type', 'warranty', 'paint_type', 'cylinders', 'gears']\n",
    "\n",
    "cleaned_df = cleaned_df.drop(drop_na_cols, axis=1)"
   ]
  },
  {
   "cell_type": "markdown",
   "id": "4ea770d1",
   "metadata": {},
   "source": [
    "**2. Assessing Missing Values per Row**"
   ]
  },
  {
   "cell_type": "code",
   "execution_count": 8,
   "id": "306aa0f3",
   "metadata": {},
   "outputs": [],
   "source": [
    "## Create a temporary column called \"sum_na_row\" in cleaned_df that contains the number of NA values per row\n",
    "cleaned_df['sum_na_row'] = cleaned_df.isna().sum(axis=1)"
   ]
  },
  {
   "cell_type": "code",
   "execution_count": 9,
   "id": "87db018c",
   "metadata": {
    "scrolled": false
   },
   "outputs": [
    {
     "data": {
      "text/plain": [
       "<Figure size 432x576 with 0 Axes>"
      ]
     },
     "metadata": {},
     "output_type": "display_data"
    },
    {
     "data": {
      "image/png": "[encoded data removed]",
      "text/plain": [
       "<Figure size 360x360 with 1 Axes>"
      ]
     },
     "metadata": {
      "needs_background": "light"
     },
     "output_type": "display_data"
    }
   ],
   "source": [
    "## Use matplotlib or seaborn to plot the distribution of this new column. \n",
    "## Hint: seaborn's distplot() function is nice and easy for this. Alternatively, countplot() may work, too\n",
    "\n",
    "plt.figure(figsize=(6,8))\n",
    "sns.displot(cleaned_df['sum_na_row'], bins=13, kde=False)\n",
    "plt.xticks(np.arange(0, 16, 4))\n",
    "plt.title('Distribution of Amount of Missing Values per Row')\n",
    "\n",
    "plt.show()"
   ]
  },
  {
   "cell_type": "markdown",
   "id": "c3ec20a8",
   "metadata": {},
   "source": [
    "we have at most 13 NaN rows. Let's continue the process by checking each line in turn."
   ]
  },
  {
   "cell_type": "code",
   "execution_count": 10,
   "id": "0061c249",
   "metadata": {},
   "outputs": [
    {
     "data": {
      "text/html": [
       "<div>\n",
       "<style scoped>\n",
       "    .dataframe tbody tr th:only-of-type {\n",
       "        vertical-align: middle;\n",
       "    }\n",
       "\n",
       "    .dataframe tbody tr th {\n",
       "        vertical-align: top;\n",
       "    }\n",
       "\n",
       "    .dataframe thead th {\n",
       "        text-align: right;\n",
       "    }\n",
       "</style>\n",
       "<table border=\"1\" class=\"dataframe\">\n",
       "  <thead>\n",
       "    <tr style=\"text-align: right;\">\n",
       "      <th></th>\n",
       "      <th>3</th>\n",
       "      <th>4</th>\n",
       "      <th>5</th>\n",
       "      <th>8</th>\n",
       "      <th>9</th>\n",
       "      <th>11</th>\n",
       "      <th>12</th>\n",
       "      <th>13</th>\n",
       "      <th>14</th>\n",
       "      <th>16</th>\n",
       "      <th>...</th>\n",
       "      <th>14797</th>\n",
       "      <th>14803</th>\n",
       "      <th>14804</th>\n",
       "      <th>14807</th>\n",
       "      <th>14808</th>\n",
       "      <th>14809</th>\n",
       "      <th>14810</th>\n",
       "      <th>14813</th>\n",
       "      <th>14815</th>\n",
       "      <th>14816</th>\n",
       "    </tr>\n",
       "  </thead>\n",
       "  <tbody>\n",
       "    <tr>\n",
       "      <th>number_of_doors</th>\n",
       "      <td>3.0</td>\n",
       "      <td>5.0</td>\n",
       "      <td>4.0</td>\n",
       "      <td>5.0</td>\n",
       "      <td>5.0</td>\n",
       "      <td>4.0</td>\n",
       "      <td>5.0</td>\n",
       "      <td>3.0</td>\n",
       "      <td>5.0</td>\n",
       "      <td>5.0</td>\n",
       "      <td>...</td>\n",
       "      <td>5.0</td>\n",
       "      <td>4.0</td>\n",
       "      <td>5.0</td>\n",
       "      <td>5.0</td>\n",
       "      <td>5.0</td>\n",
       "      <td>5.0</td>\n",
       "      <td>5.0</td>\n",
       "      <td>5.0</td>\n",
       "      <td>5.0</td>\n",
       "      <td>5.0</td>\n",
       "    </tr>\n",
       "    <tr>\n",
       "      <th>nunber_of_seats</th>\n",
       "      <td>4.0</td>\n",
       "      <td>5.0</td>\n",
       "      <td>5.0</td>\n",
       "      <td>4.0</td>\n",
       "      <td>4.0</td>\n",
       "      <td>NaN</td>\n",
       "      <td>5.0</td>\n",
       "      <td>4.0</td>\n",
       "      <td>4.0</td>\n",
       "      <td>4.0</td>\n",
       "      <td>...</td>\n",
       "      <td>7.0</td>\n",
       "      <td>5.0</td>\n",
       "      <td>5.0</td>\n",
       "      <td>NaN</td>\n",
       "      <td>7.0</td>\n",
       "      <td>5.0</td>\n",
       "      <td>5.0</td>\n",
       "      <td>5.0</td>\n",
       "      <td>5.0</td>\n",
       "      <td>5.0</td>\n",
       "    </tr>\n",
       "    <tr>\n",
       "      <th>displacement</th>\n",
       "      <td>1422.0</td>\n",
       "      <td>1422.0</td>\n",
       "      <td>1598.0</td>\n",
       "      <td>1598.0</td>\n",
       "      <td>NaN</td>\n",
       "      <td>1395.0</td>\n",
       "      <td>1395.0</td>\n",
       "      <td>1395.0</td>\n",
       "      <td>NaN</td>\n",
       "      <td>1598.0</td>\n",
       "      <td>...</td>\n",
       "      <td>1598.0</td>\n",
       "      <td>1997.0</td>\n",
       "      <td>1798.0</td>\n",
       "      <td>NaN</td>\n",
       "      <td>1798.0</td>\n",
       "      <td>1798.0</td>\n",
       "      <td>1997.0</td>\n",
       "      <td>1997.0</td>\n",
       "      <td>1997.0</td>\n",
       "      <td>1798.0</td>\n",
       "    </tr>\n",
       "    <tr>\n",
       "      <th>consumption_comb</th>\n",
       "      <td>3.8</td>\n",
       "      <td>4.1</td>\n",
       "      <td>3.5</td>\n",
       "      <td>3.7</td>\n",
       "      <td>NaN</td>\n",
       "      <td>4.9</td>\n",
       "      <td>4.9</td>\n",
       "      <td>NaN</td>\n",
       "      <td>4.2</td>\n",
       "      <td>3.5</td>\n",
       "      <td>...</td>\n",
       "      <td>4.7</td>\n",
       "      <td>5.3</td>\n",
       "      <td>NaN</td>\n",
       "      <td>7.4</td>\n",
       "      <td>NaN</td>\n",
       "      <td>NaN</td>\n",
       "      <td>NaN</td>\n",
       "      <td>5.3</td>\n",
       "      <td>5.3</td>\n",
       "      <td>NaN</td>\n",
       "    </tr>\n",
       "    <tr>\n",
       "      <th>consumption_city</th>\n",
       "      <td>4.3</td>\n",
       "      <td>4.6</td>\n",
       "      <td>4.3</td>\n",
       "      <td>4.3</td>\n",
       "      <td>NaN</td>\n",
       "      <td>6.2</td>\n",
       "      <td>6.2</td>\n",
       "      <td>NaN</td>\n",
       "      <td>100.0</td>\n",
       "      <td>4.3</td>\n",
       "      <td>...</td>\n",
       "      <td>5.1</td>\n",
       "      <td>6.2</td>\n",
       "      <td>NaN</td>\n",
       "      <td>NaN</td>\n",
       "      <td>NaN</td>\n",
       "      <td>NaN</td>\n",
       "      <td>NaN</td>\n",
       "      <td>6.2</td>\n",
       "      <td>6.2</td>\n",
       "      <td>NaN</td>\n",
       "    </tr>\n",
       "    <tr>\n",
       "      <th>consumption_country</th>\n",
       "      <td>3.5</td>\n",
       "      <td>3.8</td>\n",
       "      <td>3.1</td>\n",
       "      <td>3.4</td>\n",
       "      <td>NaN</td>\n",
       "      <td>4.2</td>\n",
       "      <td>4.2</td>\n",
       "      <td>NaN</td>\n",
       "      <td>3.7</td>\n",
       "      <td>3.1</td>\n",
       "      <td>...</td>\n",
       "      <td>4.4</td>\n",
       "      <td>4.7</td>\n",
       "      <td>NaN</td>\n",
       "      <td>NaN</td>\n",
       "      <td>NaN</td>\n",
       "      <td>NaN</td>\n",
       "      <td>NaN</td>\n",
       "      <td>4.7</td>\n",
       "      <td>4.7</td>\n",
       "      <td>NaN</td>\n",
       "    </tr>\n",
       "    <tr>\n",
       "      <th>co2_emission</th>\n",
       "      <td>99.0</td>\n",
       "      <td>109.0</td>\n",
       "      <td>92.0</td>\n",
       "      <td>97.0</td>\n",
       "      <td>NaN</td>\n",
       "      <td>112.0</td>\n",
       "      <td>112.0</td>\n",
       "      <td>NaN</td>\n",
       "      <td>99.0</td>\n",
       "      <td>92.0</td>\n",
       "      <td>...</td>\n",
       "      <td>123.0</td>\n",
       "      <td>139.0</td>\n",
       "      <td>NaN</td>\n",
       "      <td>NaN</td>\n",
       "      <td>168.0</td>\n",
       "      <td>NaN</td>\n",
       "      <td>NaN</td>\n",
       "      <td>139.0</td>\n",
       "      <td>139.0</td>\n",
       "      <td>168.0</td>\n",
       "    </tr>\n",
       "    <tr>\n",
       "      <th>body_type</th>\n",
       "      <td>Sedans</td>\n",
       "      <td>Sedans</td>\n",
       "      <td>Sedans</td>\n",
       "      <td>Sedans</td>\n",
       "      <td>Sedans</td>\n",
       "      <td>Sedans</td>\n",
       "      <td>Sedans</td>\n",
       "      <td>Sedans</td>\n",
       "      <td>Sedans</td>\n",
       "      <td>Sedans</td>\n",
       "      <td>...</td>\n",
       "      <td>Van</td>\n",
       "      <td>Sedans</td>\n",
       "      <td>Van</td>\n",
       "      <td>Van</td>\n",
       "      <td>Van</td>\n",
       "      <td>Van</td>\n",
       "      <td>Van</td>\n",
       "      <td>Van</td>\n",
       "      <td>Van</td>\n",
       "      <td>Van</td>\n",
       "    </tr>\n",
       "    <tr>\n",
       "      <th>vat</th>\n",
       "      <td>NaN</td>\n",
       "      <td>NaN</td>\n",
       "      <td>NaN</td>\n",
       "      <td>NaN</td>\n",
       "      <td>NaN</td>\n",
       "      <td>NaN</td>\n",
       "      <td>NaN</td>\n",
       "      <td>NaN</td>\n",
       "      <td>VAT deductible</td>\n",
       "      <td>VAT deductible</td>\n",
       "      <td>...</td>\n",
       "      <td>VAT deductible</td>\n",
       "      <td>VAT deductible</td>\n",
       "      <td>NaN</td>\n",
       "      <td>VAT deductible</td>\n",
       "      <td>VAT deductible</td>\n",
       "      <td>NaN</td>\n",
       "      <td>VAT deductible</td>\n",
       "      <td>VAT deductible</td>\n",
       "      <td>VAT deductible</td>\n",
       "      <td>VAT deductible</td>\n",
       "    </tr>\n",
       "    <tr>\n",
       "      <th>registration</th>\n",
       "      <td>2016-08-01</td>\n",
       "      <td>2016-05-01</td>\n",
       "      <td>2016-02-01</td>\n",
       "      <td>2016-02-01</td>\n",
       "      <td>2017-06-01</td>\n",
       "      <td>2016-05-01</td>\n",
       "      <td>2016-09-01</td>\n",
       "      <td>2016-06-01</td>\n",
       "      <td>2016-10-01</td>\n",
       "      <td>2018-06-01</td>\n",
       "      <td>...</td>\n",
       "      <td>NaN</td>\n",
       "      <td>NaN</td>\n",
       "      <td>2019-01-01</td>\n",
       "      <td>2019-01-01</td>\n",
       "      <td>NaN</td>\n",
       "      <td>2019-02-01</td>\n",
       "      <td>2019-05-01</td>\n",
       "      <td>NaN</td>\n",
       "      <td>NaN</td>\n",
       "      <td>2019-01-01</td>\n",
       "    </tr>\n",
       "    <tr>\n",
       "      <th>first_registration</th>\n",
       "      <td>2016-01-01</td>\n",
       "      <td>2016-01-01</td>\n",
       "      <td>2016-01-01</td>\n",
       "      <td>2016-01-01</td>\n",
       "      <td>2017-01-01</td>\n",
       "      <td>2016-01-01</td>\n",
       "      <td>2016-01-01</td>\n",
       "      <td>2016-01-01</td>\n",
       "      <td>2016-01-01</td>\n",
       "      <td>2018-01-01</td>\n",
       "      <td>...</td>\n",
       "      <td>NaN</td>\n",
       "      <td>NaN</td>\n",
       "      <td>2019-01-01</td>\n",
       "      <td>2019-01-01</td>\n",
       "      <td>NaN</td>\n",
       "      <td>2019-01-01</td>\n",
       "      <td>2019-01-01</td>\n",
       "      <td>NaN</td>\n",
       "      <td>NaN</td>\n",
       "      <td>2019-01-01</td>\n",
       "    </tr>\n",
       "    <tr>\n",
       "      <th>body_color</th>\n",
       "      <td>Brown</td>\n",
       "      <td>Black</td>\n",
       "      <td>White</td>\n",
       "      <td>Grey</td>\n",
       "      <td>White</td>\n",
       "      <td>Silver</td>\n",
       "      <td>White</td>\n",
       "      <td>Grey</td>\n",
       "      <td>Black</td>\n",
       "      <td>Blue</td>\n",
       "      <td>...</td>\n",
       "      <td>Grey</td>\n",
       "      <td>Black</td>\n",
       "      <td>Black</td>\n",
       "      <td>White</td>\n",
       "      <td>Grey</td>\n",
       "      <td>Black</td>\n",
       "      <td>Black</td>\n",
       "      <td>Black</td>\n",
       "      <td>Grey</td>\n",
       "      <td>Grey</td>\n",
       "    </tr>\n",
       "    <tr>\n",
       "      <th>upholstery</th>\n",
       "      <td>NaN</td>\n",
       "      <td>Cloth, Black</td>\n",
       "      <td>Part leather, Black</td>\n",
       "      <td>Cloth, Grey</td>\n",
       "      <td>NaN</td>\n",
       "      <td>Cloth, Black</td>\n",
       "      <td>Part leather, Black</td>\n",
       "      <td>NaN</td>\n",
       "      <td>Cloth, Black</td>\n",
       "      <td>NaN</td>\n",
       "      <td>...</td>\n",
       "      <td>Grey</td>\n",
       "      <td>Brown</td>\n",
       "      <td>NaN</td>\n",
       "      <td>NaN</td>\n",
       "      <td>Full leather</td>\n",
       "      <td>NaN</td>\n",
       "      <td>NaN</td>\n",
       "      <td>NaN</td>\n",
       "      <td>NaN</td>\n",
       "      <td>Cloth</td>\n",
       "    </tr>\n",
       "    <tr>\n",
       "      <th>emission_class</th>\n",
       "      <td>Euro 6</td>\n",
       "      <td>Euro 6</td>\n",
       "      <td>Euro 6</td>\n",
       "      <td>Euro 6</td>\n",
       "      <td>NaN</td>\n",
       "      <td>Euro 6</td>\n",
       "      <td>Euro 6</td>\n",
       "      <td>NaN</td>\n",
       "      <td>Euro 6</td>\n",
       "      <td>Euro 6</td>\n",
       "      <td>...</td>\n",
       "      <td>Euro 6</td>\n",
       "      <td>Euro 6c</td>\n",
       "      <td>NaN</td>\n",
       "      <td>NaN</td>\n",
       "      <td>Euro 6d-TEMP</td>\n",
       "      <td>NaN</td>\n",
       "      <td>NaN</td>\n",
       "      <td>NaN</td>\n",
       "      <td>NaN</td>\n",
       "      <td>NaN</td>\n",
       "    </tr>\n",
       "  </tbody>\n",
       "</table>\n",
       "<p>14 rows × 9966 columns</p>\n",
       "</div>"
      ],
      "text/plain": [
       "                          3             4                    5      \\\n",
       "number_of_doors             3.0           5.0                  4.0   \n",
       "nunber_of_seats             4.0           5.0                  5.0   \n",
       "displacement             1422.0        1422.0               1598.0   \n",
       "consumption_comb            3.8           4.1                  3.5   \n",
       "consumption_city            4.3           4.6                  4.3   \n",
       "consumption_country         3.5           3.8                  3.1   \n",
       "co2_emission               99.0         109.0                 92.0   \n",
       "body_type                Sedans        Sedans               Sedans   \n",
       "vat                         NaN           NaN                  NaN   \n",
       "registration         2016-08-01    2016-05-01           2016-02-01   \n",
       "first_registration   2016-01-01    2016-01-01           2016-01-01   \n",
       "body_color                Brown         Black                White   \n",
       "upholstery                  NaN  Cloth, Black  Part leather, Black   \n",
       "emission_class           Euro 6        Euro 6               Euro 6   \n",
       "\n",
       "                           8           9             11     \\\n",
       "number_of_doors              5.0         5.0           4.0   \n",
       "nunber_of_seats              4.0         4.0           NaN   \n",
       "displacement              1598.0         NaN        1395.0   \n",
       "consumption_comb             3.7         NaN           4.9   \n",
       "consumption_city             4.3         NaN           6.2   \n",
       "consumption_country          3.4         NaN           4.2   \n",
       "co2_emission                97.0         NaN         112.0   \n",
       "body_type                 Sedans      Sedans        Sedans   \n",
       "vat                          NaN         NaN           NaN   \n",
       "registration          2016-02-01  2017-06-01    2016-05-01   \n",
       "first_registration    2016-01-01  2017-01-01    2016-01-01   \n",
       "body_color                  Grey       White        Silver   \n",
       "upholstery           Cloth, Grey         NaN  Cloth, Black   \n",
       "emission_class            Euro 6         NaN        Euro 6   \n",
       "\n",
       "                                   12          13              14     \\\n",
       "number_of_doors                      5.0         3.0             5.0   \n",
       "nunber_of_seats                      5.0         4.0             4.0   \n",
       "displacement                      1395.0      1395.0             NaN   \n",
       "consumption_comb                     4.9         NaN             4.2   \n",
       "consumption_city                     6.2         NaN           100.0   \n",
       "consumption_country                  4.2         NaN             3.7   \n",
       "co2_emission                       112.0         NaN            99.0   \n",
       "body_type                         Sedans      Sedans          Sedans   \n",
       "vat                                  NaN         NaN  VAT deductible   \n",
       "registration                  2016-09-01  2016-06-01      2016-10-01   \n",
       "first_registration            2016-01-01  2016-01-01      2016-01-01   \n",
       "body_color                         White        Grey           Black   \n",
       "upholstery           Part leather, Black         NaN    Cloth, Black   \n",
       "emission_class                    Euro 6         NaN          Euro 6   \n",
       "\n",
       "                              16     ...           14797           14803  \\\n",
       "number_of_doors                 5.0  ...             5.0             4.0   \n",
       "nunber_of_seats                 4.0  ...             7.0             5.0   \n",
       "displacement                 1598.0  ...          1598.0          1997.0   \n",
       "consumption_comb                3.5  ...             4.7             5.3   \n",
       "consumption_city                4.3  ...             5.1             6.2   \n",
       "consumption_country             3.1  ...             4.4             4.7   \n",
       "co2_emission                   92.0  ...           123.0           139.0   \n",
       "body_type                    Sedans  ...             Van          Sedans   \n",
       "vat                  VAT deductible  ...  VAT deductible  VAT deductible   \n",
       "registration             2018-06-01  ...             NaN             NaN   \n",
       "first_registration       2018-01-01  ...             NaN             NaN   \n",
       "body_color                     Blue  ...            Grey           Black   \n",
       "upholstery                      NaN  ...            Grey           Brown   \n",
       "emission_class               Euro 6  ...          Euro 6         Euro 6c   \n",
       "\n",
       "                          14804           14807           14808       14809  \\\n",
       "number_of_doors             5.0             5.0             5.0         5.0   \n",
       "nunber_of_seats             5.0             NaN             7.0         5.0   \n",
       "displacement             1798.0             NaN          1798.0      1798.0   \n",
       "consumption_comb            NaN             7.4             NaN         NaN   \n",
       "consumption_city            NaN             NaN             NaN         NaN   \n",
       "consumption_country         NaN             NaN             NaN         NaN   \n",
       "co2_emission                NaN             NaN           168.0         NaN   \n",
       "body_type                   Van             Van             Van         Van   \n",
       "vat                         NaN  VAT deductible  VAT deductible         NaN   \n",
       "registration         2019-01-01      2019-01-01             NaN  2019-02-01   \n",
       "first_registration   2019-01-01      2019-01-01             NaN  2019-01-01   \n",
       "body_color                Black           White            Grey       Black   \n",
       "upholstery                  NaN             NaN    Full leather         NaN   \n",
       "emission_class              NaN             NaN    Euro 6d-TEMP         NaN   \n",
       "\n",
       "                              14810           14813           14815  \\\n",
       "number_of_doors                 5.0             5.0             5.0   \n",
       "nunber_of_seats                 5.0             5.0             5.0   \n",
       "displacement                 1997.0          1997.0          1997.0   \n",
       "consumption_comb                NaN             5.3             5.3   \n",
       "consumption_city                NaN             6.2             6.2   \n",
       "consumption_country             NaN             4.7             4.7   \n",
       "co2_emission                    NaN           139.0           139.0   \n",
       "body_type                       Van             Van             Van   \n",
       "vat                  VAT deductible  VAT deductible  VAT deductible   \n",
       "registration             2019-05-01             NaN             NaN   \n",
       "first_registration       2019-01-01             NaN             NaN   \n",
       "body_color                    Black           Black            Grey   \n",
       "upholstery                      NaN             NaN             NaN   \n",
       "emission_class                  NaN             NaN             NaN   \n",
       "\n",
       "                              14816  \n",
       "number_of_doors                 5.0  \n",
       "nunber_of_seats                 5.0  \n",
       "displacement                 1798.0  \n",
       "consumption_comb                NaN  \n",
       "consumption_city                NaN  \n",
       "consumption_country             NaN  \n",
       "co2_emission                  168.0  \n",
       "body_type                       Van  \n",
       "vat                  VAT deductible  \n",
       "registration             2019-01-01  \n",
       "first_registration       2019-01-01  \n",
       "body_color                     Grey  \n",
       "upholstery                    Cloth  \n",
       "emission_class                  NaN  \n",
       "\n",
       "[14 rows x 9966 columns]"
      ]
     },
     "execution_count": 10,
     "metadata": {},
     "output_type": "execute_result"
    }
   ],
   "source": [
    "## Clean_df filter for rows with 1 or more missing values. store this in a temporary DataFrame\n",
    "temp = cleaned_df[cleaned_df['sum_na_row'] >= 1]\n",
    "\n",
    "## get the names of the columns that contain missing values from this temporary DF\n",
    "## Hint: DF.isna().any() can be useful here. \n",
    "na_cols = temp.columns[temp.isna().any()]\n",
    "\n",
    "# Take a peek at what these features look like. Transposed for readability\n",
    "temp[na_cols].transpose()"
   ]
  },
  {
   "cell_type": "markdown",
   "id": "05997eb7",
   "metadata": {},
   "source": [
    "**When we look at the missing values here, we can evaluate all of them categorically.**"
   ]
  },
  {
   "cell_type": "code",
   "execution_count": 11,
   "id": "c7b4f7cd",
   "metadata": {},
   "outputs": [
    {
     "data": {
      "text/plain": [
       "Index(['number_of_doors', 'nunber_of_seats', 'displacement',\n",
       "       'consumption_comb', 'consumption_city', 'consumption_country',\n",
       "       'co2_emission', 'body_type', 'vat', 'registration',\n",
       "       'first_registration', 'body_color', 'upholstery', 'emission_class'],\n",
       "      dtype='object')"
      ]
     },
     "execution_count": 11,
     "metadata": {},
     "output_type": "execute_result"
    }
   ],
   "source": [
    "temp[na_cols].columns"
   ]
  },
  {
   "cell_type": "code",
   "execution_count": 12,
   "id": "83b8e66d",
   "metadata": {},
   "outputs": [],
   "source": [
    "cat_cols =['number_of_doors', 'nunber_of_seats', 'displacement',\n",
    "       'consumption_comb', 'consumption_city', 'consumption_country',\n",
    "       'co2_emission', 'registration',\n",
    "       'first_registration']\n",
    "median_fill_cols =['body_type', 'vat', 'body_color', 'upholstery', 'emission_class']"
   ]
  },
  {
   "cell_type": "markdown",
   "id": "b9c8dc7a",
   "metadata": {},
   "source": [
    "**3. Categorical Features with Missing Values**"
   ]
  },
  {
   "cell_type": "markdown",
   "id": "5cba084d",
   "metadata": {},
   "source": [
    "Dealing with missing categorical data can be tricky. Here are some ways you can deal with them:\n",
    "\n",
    "* Fill with mode/most frequent value (e.g. if 70% of a column is \"red\", maybe you fill the remaining NA values with \"red\")\n",
    "* Infer their value from other columns (e.g. if one feature helps you make an educated guess about the missing value)\n",
    "* Create a dummy variable (e.g. if the value is missing, another dummy feature will have 1. Else, it will be 0)"
   ]
  },
  {
   "cell_type": "markdown",
   "id": "7ab9dfcf",
   "metadata": {},
   "source": [
    ">Let's take the simple most frequent approach. We'll tackle this using the SimpleImputer from sklearn after we train/test split our data."
   ]
  },
  {
   "cell_type": "code",
   "execution_count": 13,
   "id": "f7beec3a",
   "metadata": {
    "scrolled": false
   },
   "outputs": [
    {
     "data": {
      "image/png": "[encoded data removed]",
      "text/plain": [
       "<Figure size 576x432 with 1 Axes>"
      ]
     },
     "metadata": {
      "needs_background": "light"
     },
     "output_type": "display_data"
    }
   ],
   "source": [
    "plt.figure(figsize=(8, 6))\n",
    "\n",
    "sns.countplot(x = cleaned_df['body_type'])\n",
    "plt.xticks(rotation=90)\n",
    "plt.tick_params(labelbottom=True)\n",
    "\n",
    "plt.tight_layout()"
   ]
  },
  {
   "cell_type": "code",
   "execution_count": 14,
   "id": "275cd800",
   "metadata": {
    "scrolled": false
   },
   "outputs": [
    {
     "data": {
      "image/png": "[encoded data removed]",
      "text/plain": [
       "<Figure size 576x432 with 1 Axes>"
      ]
     },
     "metadata": {
      "needs_background": "light"
     },
     "output_type": "display_data"
    }
   ],
   "source": [
    "plt.figure(figsize=(8, 6))\n",
    "\n",
    "sns.countplot(x = cleaned_df['nunber_of_seats'])\n",
    "plt.xticks(rotation=90)\n",
    "plt.tick_params(labelbottom=True)\n",
    "\n",
    "plt.tight_layout()"
   ]
  },
  {
   "cell_type": "code",
   "execution_count": 15,
   "id": "8135d333",
   "metadata": {
    "scrolled": false
   },
   "outputs": [
    {
     "data": {
      "image/png": "[encoded data removed]",
      "text/plain": [
       "<Figure size 576x432 with 1 Axes>"
      ]
     },
     "metadata": {
      "needs_background": "light"
     },
     "output_type": "display_data"
    }
   ],
   "source": [
    "plt.figure(figsize=(8, 6))\n",
    "\n",
    "sns.countplot(x = cleaned_df['body_type'])\n",
    "plt.xticks(rotation=90)\n",
    "plt.tick_params(labelbottom=True)\n",
    "\n",
    "plt.tight_layout()"
   ]
  },
  {
   "cell_type": "markdown",
   "id": "11e49e76",
   "metadata": {},
   "source": [
    "From the countplots above, these modes are very prominent, so let's simplify this by filling with mode."
   ]
  },
  {
   "cell_type": "markdown",
   "id": "b6d41d46",
   "metadata": {},
   "source": [
    "**4. Now what should we do about imputing the rest of our missing numerical features below?**"
   ]
  },
  {
   "cell_type": "markdown",
   "id": "8bc15067",
   "metadata": {},
   "source": [
    "* A lot of people like the simple approach of filling them with the mean or median of the features.\n",
    "* There's also some advanced methods of imputing missing values using Machine Learning. An examle is a neat experimental estimator in sklearn called IterativeImputer that uses machine learning to predict and impute many features at once."
   ]
  },
  {
   "cell_type": "code",
   "execution_count": 16,
   "id": "a8476c4f",
   "metadata": {},
   "outputs": [
    {
     "data": {
      "text/html": [
       "<div>\n",
       "<style scoped>\n",
       "    .dataframe tbody tr th:only-of-type {\n",
       "        vertical-align: middle;\n",
       "    }\n",
       "\n",
       "    .dataframe tbody tr th {\n",
       "        vertical-align: top;\n",
       "    }\n",
       "\n",
       "    .dataframe thead th {\n",
       "        text-align: right;\n",
       "    }\n",
       "</style>\n",
       "<table border=\"1\" class=\"dataframe\">\n",
       "  <thead>\n",
       "    <tr style=\"text-align: right;\">\n",
       "      <th></th>\n",
       "      <th>number_of_doors</th>\n",
       "      <th>nunber_of_seats</th>\n",
       "      <th>displacement</th>\n",
       "      <th>consumption_comb</th>\n",
       "      <th>consumption_city</th>\n",
       "      <th>consumption_country</th>\n",
       "      <th>co2_emission</th>\n",
       "      <th>body_type</th>\n",
       "      <th>vat</th>\n",
       "      <th>registration</th>\n",
       "      <th>first_registration</th>\n",
       "      <th>body_color</th>\n",
       "      <th>upholstery</th>\n",
       "      <th>emission_class</th>\n",
       "    </tr>\n",
       "  </thead>\n",
       "  <tbody>\n",
       "    <tr>\n",
       "      <th>0</th>\n",
       "      <td>5.0</td>\n",
       "      <td>5.0</td>\n",
       "      <td>1422.0</td>\n",
       "      <td>3.8</td>\n",
       "      <td>4.3</td>\n",
       "      <td>3.5</td>\n",
       "      <td>99.0</td>\n",
       "      <td>Sedans</td>\n",
       "      <td>VAT deductible</td>\n",
       "      <td>2016-01-01</td>\n",
       "      <td>2016-01-01</td>\n",
       "      <td>Black</td>\n",
       "      <td>Cloth, Black</td>\n",
       "      <td>Euro 6</td>\n",
       "    </tr>\n",
       "    <tr>\n",
       "      <th>1</th>\n",
       "      <td>3.0</td>\n",
       "      <td>4.0</td>\n",
       "      <td>1798.0</td>\n",
       "      <td>5.6</td>\n",
       "      <td>7.1</td>\n",
       "      <td>4.7</td>\n",
       "      <td>129.0</td>\n",
       "      <td>Sedans</td>\n",
       "      <td>Price negotiable</td>\n",
       "      <td>2017-03-01</td>\n",
       "      <td>2017-01-01</td>\n",
       "      <td>Red</td>\n",
       "      <td>Cloth, Grey</td>\n",
       "      <td>Euro 6</td>\n",
       "    </tr>\n",
       "    <tr>\n",
       "      <th>2</th>\n",
       "      <td>4.0</td>\n",
       "      <td>4.0</td>\n",
       "      <td>1598.0</td>\n",
       "      <td>3.8</td>\n",
       "      <td>4.4</td>\n",
       "      <td>3.4</td>\n",
       "      <td>99.0</td>\n",
       "      <td>Sedans</td>\n",
       "      <td>VAT deductible</td>\n",
       "      <td>2016-02-01</td>\n",
       "      <td>2016-01-01</td>\n",
       "      <td>Black</td>\n",
       "      <td>Cloth, Black</td>\n",
       "      <td>Euro 6</td>\n",
       "    </tr>\n",
       "    <tr>\n",
       "      <th>3</th>\n",
       "      <td>3.0</td>\n",
       "      <td>4.0</td>\n",
       "      <td>1422.0</td>\n",
       "      <td>3.8</td>\n",
       "      <td>4.3</td>\n",
       "      <td>3.5</td>\n",
       "      <td>99.0</td>\n",
       "      <td>Sedans</td>\n",
       "      <td>NaN</td>\n",
       "      <td>2016-08-01</td>\n",
       "      <td>2016-01-01</td>\n",
       "      <td>Brown</td>\n",
       "      <td>NaN</td>\n",
       "      <td>Euro 6</td>\n",
       "    </tr>\n",
       "    <tr>\n",
       "      <th>4</th>\n",
       "      <td>5.0</td>\n",
       "      <td>5.0</td>\n",
       "      <td>1422.0</td>\n",
       "      <td>4.1</td>\n",
       "      <td>4.6</td>\n",
       "      <td>3.8</td>\n",
       "      <td>109.0</td>\n",
       "      <td>Sedans</td>\n",
       "      <td>NaN</td>\n",
       "      <td>2016-05-01</td>\n",
       "      <td>2016-01-01</td>\n",
       "      <td>Black</td>\n",
       "      <td>Cloth, Black</td>\n",
       "      <td>Euro 6</td>\n",
       "    </tr>\n",
       "  </tbody>\n",
       "</table>\n",
       "</div>"
      ],
      "text/plain": [
       "   number_of_doors  nunber_of_seats  displacement  consumption_comb  \\\n",
       "0              5.0              5.0        1422.0               3.8   \n",
       "1              3.0              4.0        1798.0               5.6   \n",
       "2              4.0              4.0        1598.0               3.8   \n",
       "3              3.0              4.0        1422.0               3.8   \n",
       "4              5.0              5.0        1422.0               4.1   \n",
       "\n",
       "   consumption_city  consumption_country  co2_emission body_type  \\\n",
       "0               4.3                  3.5          99.0    Sedans   \n",
       "1               7.1                  4.7         129.0    Sedans   \n",
       "2               4.4                  3.4          99.0    Sedans   \n",
       "3               4.3                  3.5          99.0    Sedans   \n",
       "4               4.6                  3.8         109.0    Sedans   \n",
       "\n",
       "                vat registration first_registration body_color    upholstery  \\\n",
       "0    VAT deductible   2016-01-01         2016-01-01      Black  Cloth, Black   \n",
       "1  Price negotiable   2017-03-01         2017-01-01        Red   Cloth, Grey   \n",
       "2    VAT deductible   2016-02-01         2016-01-01      Black  Cloth, Black   \n",
       "3               NaN   2016-08-01         2016-01-01      Brown           NaN   \n",
       "4               NaN   2016-05-01         2016-01-01      Black  Cloth, Black   \n",
       "\n",
       "  emission_class  \n",
       "0         Euro 6  \n",
       "1         Euro 6  \n",
       "2         Euro 6  \n",
       "3         Euro 6  \n",
       "4         Euro 6  "
      ]
     },
     "execution_count": 16,
     "metadata": {},
     "output_type": "execute_result"
    }
   ],
   "source": [
    "# Getting indices of columns that still contain missing values\n",
    "columns_idxs_missing = np.where(cleaned_df.isna().any())[0]\n",
    "# Getting the names of these columns\n",
    "cols_missing = cleaned_df.columns[columns_idxs_missing]\n",
    "# Taking a peek at what's left\n",
    "cleaned_df[cols_missing].head()"
   ]
  },
  {
   "cell_type": "markdown",
   "id": "02cabb16",
   "metadata": {},
   "source": [
    "> Took keep things simple, let's just fill the rest of these values with the median."
   ]
  },
  {
   "cell_type": "code",
   "execution_count": 17,
   "id": "6027009a",
   "metadata": {
    "scrolled": true
   },
   "outputs": [],
   "source": [
    "## We don't need this column anymore\n",
    "cleaned_df = cleaned_df.drop(['sum_na_row'], axis=1)"
   ]
  },
  {
   "cell_type": "code",
   "execution_count": 18,
   "id": "4a41e83a",
   "metadata": {},
   "outputs": [],
   "source": [
    "cat_cols = cleaned_df.select_dtypes(['object']).columns.values"
   ]
  },
  {
   "cell_type": "code",
   "execution_count": 19,
   "id": "f7646930",
   "metadata": {},
   "outputs": [],
   "source": [
    "features_accounted_for = np.concatenate([cat_cols,np.array(['price'])])\n",
    "all_cols = cleaned_df.columns.values\n",
    "\n",
    "median_fill_cols = np.setdiff1d(all_cols, features_accounted_for)"
   ]
  },
  {
   "cell_type": "markdown",
   "id": "e07b4a3e",
   "metadata": {},
   "source": [
    "# III. Train/Test Split"
   ]
  },
  {
   "cell_type": "markdown",
   "id": "7f1a158c",
   "metadata": {},
   "source": [
    "Now here we split our data into training, testing, and (optionally) validation.\n",
    "\n",
    "However, if you plan to use a validation set or K-Fold Cross Validation, just create your validation sets later when you're evaluating your ML models."
   ]
  },
  {
   "cell_type": "code",
   "execution_count": 20,
   "id": "3a562087",
   "metadata": {},
   "outputs": [],
   "source": [
    "## TO DO: store cleaned_df without the price column in a variable called X. \n",
    "X = cleaned_df.drop('price', axis=1)\n",
    "## TO DO: store cleaned_df['price'] in a variable called y\n",
    "y = cleaned_df['price']\n",
    "\n",
    "## TO DO: Split your data using train_test_split using a train_size of 80%\n",
    "## TO DO: store all these in the variables below\n",
    "X_train, X_test, y_train, y_test = train_test_split(X, y, train_size=0.8, random_state=42)"
   ]
  },
  {
   "cell_type": "code",
   "execution_count": 21,
   "id": "de23603f",
   "metadata": {},
   "outputs": [],
   "source": [
    "# Setting this option to None to suppress a warning that we don't need to worry about right now\n",
    "pd.options.mode.chained_assignment = None"
   ]
  },
  {
   "cell_type": "markdown",
   "id": "458b1e46",
   "metadata": {},
   "source": [
    "# IV. Prepare for ML"
   ]
  },
  {
   "cell_type": "markdown",
   "id": "c009a2c6",
   "metadata": {},
   "source": [
    "Now that we've already split our data and engineered the features that we want, all we have to do is prepare our data for our models"
   ]
  },
  {
   "cell_type": "markdown",
   "id": "d24e7636",
   "metadata": {},
   "source": [
    "### A. Dealing with Missing Data"
   ]
  },
  {
   "cell_type": "markdown",
   "id": "d8fa910c",
   "metadata": {},
   "source": [
    "The reason we want to deal with missing data after we've split our data is because we want to simulate real world conditions when we test as much as we can. When data is coming/streaming in, we have to be ready with our methods for dealing with missing data.\n",
    "\n",
    "Below, rather than using panda's fillna method, we will take advantage of sklearn's SimpleImputer estimator (imputing is just another way of saying you're going to fill/infer missing values in this case)."
   ]
  },
  {
   "cell_type": "markdown",
   "id": "2dd6be2d",
   "metadata": {},
   "source": [
    "***"
   ]
  },
  {
   "cell_type": "markdown",
   "id": "5d669155",
   "metadata": {},
   "source": [
    "**A Brief Note on sklearn Estimators/Transformers**\n",
    "\n",
    "Many of sklearn's objects are called \"estimators\", and all estimators are also \"transformers\" because they are treated as objects that estimate some parameters about your data, then are used to transform your data in some way to produce a prediction or a transformed (e.g. normalized, standardized, filled NA's with mean, etc) version of your data."
   ]
  },
  {
   "cell_type": "markdown",
   "id": "d2cf6cdb",
   "metadata": {},
   "source": [
    "***"
   ]
  },
  {
   "cell_type": "markdown",
   "id": "42e2577e",
   "metadata": {},
   "source": [
    "We will fit three SimpleImputer objects on X_train only according to each of our three strategies above. Then, we will use these imputers to transform both our X_train and X_test. As a reminder, this is what we will do...\n",
    "\n",
    "1. Fill categorical features stored in cat_cols with their mode/most frequent value\n",
    "2. Fill review-related features stored in zero_fill_cols with a constant vaue: 0.\n",
    "3. Fill all remaining numerical features stored in median_fill_cols with their median.\n",
    ">This is why we stored these column names in the Assess Missing Values section. We want to easily change each of these columns for both our X_train and X_test datasets."
   ]
  },
  {
   "cell_type": "code",
   "execution_count": 22,
   "id": "1fb11696",
   "metadata": {},
   "outputs": [],
   "source": [
    "median_fill_cols =['number_of_doors', 'nunber_of_seats', 'displacement',\n",
    "       'consumption_comb', 'consumption_city', 'consumption_country',\n",
    "       'co2_emission']\n",
    "cat_cols =['body_type', 'vat', 'body_color', 'upholstery', 'emission_class', 'registration',\n",
    "       'first_registration']"
   ]
  },
  {
   "cell_type": "markdown",
   "id": "3461d17e",
   "metadata": {},
   "source": [
    "**First, let's start with imputing our categorical variables.**"
   ]
  },
  {
   "cell_type": "code",
   "execution_count": 23,
   "id": "13b8ee4c",
   "metadata": {},
   "outputs": [],
   "source": [
    "\n",
    "## DO NOT CHANGE - use this as an example of you have to do in the cells below.\n",
    "    ## Notice how we're looping through our columns, imputing one at a time.\n",
    "    ## Normally, we would fit and transform features all at once with sklearn's ColumnTransformer, but \n",
    "    ## this is fine since we're just practicing\n",
    "\n",
    "# looping through our columns\n",
    "for col in cat_cols:\n",
    "    # instantiating/creating an imputer with an impute strategy of \"most frequent\"\n",
    "    imputer = SimpleImputer(strategy='most_frequent')\n",
    "    \n",
    "    # fit this imputer to the training column. \n",
    "        # This stores the most frequent value in the imputer for transforming\n",
    "    imputer.fit(X_train[[col]])\n",
    "    \n",
    "    # using the transform method to fill NA values with the most frequent value, then updating our DFs\n",
    "    X_train[col] = imputer.transform(X_train[[col]])\n",
    "    X_test[col] = imputer.transform(X_test[[col]])"
   ]
  },
  {
   "cell_type": "markdown",
   "id": "b1f8af09",
   "metadata": {},
   "source": [
    "***"
   ]
  },
  {
   "cell_type": "markdown",
   "id": "a5c4be95",
   "metadata": {},
   "source": [
    "**Now let's impute our numerical variables.**"
   ]
  },
  {
   "cell_type": "raw",
   "id": "8a01e0a4",
   "metadata": {},
   "source": [
    "## TO DO: impute the zero_fil_cols features using an imputer with strategy = \"constant\" and fill_value = 0\n",
    "for col in zero_fill_cols:\n",
    "    imputer = SimpleImputer(strategy='constant', fill_value=0)\n",
    "    imputer.fit(X_train[[col]])\n",
    "    \n",
    "    X_train[col] = imputer.transform(X_train[[col]])\n",
    "    X_test[col] = imputer.transform(X_test[[col]])"
   ]
  },
  {
   "cell_type": "code",
   "execution_count": 24,
   "id": "3b992468",
   "metadata": {},
   "outputs": [],
   "source": [
    "## TO DO: impute the median_fill_cols using an imputer with strategy = \"median\"\n",
    "for col in median_fill_cols:\n",
    "    imputer = SimpleImputer(strategy='median')\n",
    "    imputer.fit(X_train[[col]])\n",
    "    \n",
    "    X_train[col] = imputer.transform(X_train[[col]])\n",
    "    X_test[col] = imputer.transform(X_test[[col]])"
   ]
  },
  {
   "cell_type": "code",
   "execution_count": null,
   "id": "163d4394",
   "metadata": {},
   "outputs": [],
   "source": []
  },
  {
   "cell_type": "code",
   "execution_count": 26,
   "id": "d1289847",
   "metadata": {},
   "outputs": [
    {
     "data": {
      "text/plain": [
       "km                               0.0\n",
       "Electrically adjustable seats    0.0\n",
       "Electric tailgate                0.0\n",
       "Electric Starter                 0.0\n",
       "Cruise control                   0.0\n",
       "dtype: float64"
      ]
     },
     "execution_count": 26,
     "metadata": {},
     "output_type": "execute_result"
    }
   ],
   "source": [
    "prop_na = X_train.isna().sum()/len(X_train)\n",
    "prop_na.sort_values(ascending=False).head(5)"
   ]
  },
  {
   "cell_type": "code",
   "execution_count": 29,
   "id": "662df22f",
   "metadata": {},
   "outputs": [
    {
     "data": {
      "text/plain": [
       "km                               0.0\n",
       "Electrically adjustable seats    0.0\n",
       "Electric tailgate                0.0\n",
       "Electric Starter                 0.0\n",
       "Cruise control                   0.0\n",
       "dtype: float64"
      ]
     },
     "execution_count": 29,
     "metadata": {},
     "output_type": "execute_result"
    }
   ],
   "source": [
    "prop_na = X_test.isna().sum()/len(X_test)\n",
    "prop_na.sort_values(ascending=False).head(5)"
   ]
  }
 ],
 "metadata": {
  "kernelspec": {
   "display_name": "Python 3",
   "language": "python",
   "name": "python3"
  },
  "language_info": {
   "codemirror_mode": {
    "name": "ipython",
    "version": 3
   },
   "file_extension": ".py",
   "mimetype": "text/x-python",
   "name": "python",
   "nbconvert_exporter": "python",
   "pygments_lexer": "ipython3",
   "version": "3.8.8"
  }
 },
 "nbformat": 4,
 "nbformat_minor": 5
}
